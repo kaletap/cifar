{
  "nbformat": 4,
  "nbformat_minor": 0,
  "metadata": {
    "colab": {
      "name": "cifar_10_autokeras.ipynb",
      "provenance": [],
      "collapsed_sections": [],
      "toc_visible": true
    },
    "kernelspec": {
      "name": "python3",
      "display_name": "Python 3"
    },
    "accelerator": "GPU"
  },
  "cells": [
    {
      "cell_type": "markdown",
      "metadata": {
        "id": "PyXFwxaUv_Db",
        "colab_type": "text"
      },
      "source": [
        "## Imports"
      ]
    },
    {
      "cell_type": "code",
      "metadata": {
        "id": "xEZOnAcVPV9V",
        "colab_type": "code",
        "colab": {}
      },
      "source": [
        "pip install autokeras"
      ],
      "execution_count": 0,
      "outputs": []
    },
    {
      "cell_type": "code",
      "metadata": {
        "id": "xYFNPuTqObla",
        "colab_type": "code",
        "colab": {}
      },
      "source": [
        "pip install tensorflow==2.1.0"
      ],
      "execution_count": 0,
      "outputs": []
    },
    {
      "cell_type": "code",
      "metadata": {
        "colab_type": "code",
        "id": "8II09-xqvtj3",
        "outputId": "df7b6018-e496-4262-b51a-1fc8e5a73e44",
        "colab": {
          "base_uri": "https://localhost:8080/",
          "height": 34
        }
      },
      "source": [
        "#!/usr/bin/env python2\n",
        "# -*- coding: utf-8 -*-\n",
        "\"\"\"\n",
        "Created on Fri Nov 17 12:01:13 2017\n",
        "@author: abhijeet\n",
        "\"\"\"\n",
        "\n",
        "from keras.utils import np_utils\n",
        "import numpy as np\n",
        "import os"
      ],
      "execution_count": 1,
      "outputs": [
        {
          "output_type": "stream",
          "text": [
            "Using TensorFlow backend.\n"
          ],
          "name": "stderr"
        }
      ]
    },
    {
      "cell_type": "markdown",
      "metadata": {
        "id": "25Wr-LeswLnW",
        "colab_type": "text"
      },
      "source": [
        "## Data load and preproccess"
      ]
    },
    {
      "cell_type": "code",
      "metadata": {
        "id": "qkkFNgBAvx8V",
        "colab_type": "code",
        "colab": {}
      },
      "source": [
        "(x_train, y_train), (x_test, y_test) = cifar10.load_data()\n",
        "x_train = x_train.astype('float32')\n",
        "x_test = x_test.astype('float32')\n",
        "\n",
        "#z-score\n",
        "mean = np.mean(x_train,axis=(0,1,2,3))\n",
        "std = np.std(x_train,axis=(0,1,2,3))\n",
        "x_train = (x_train-mean)/(std+1e-7)\n",
        "x_test = (x_test-mean)/(std+1e-7)\n",
        "\n",
        "num_classes = 10\n",
        "y_train = np_utils.to_categorical(y_train,num_classes)\n",
        "y_test = np_utils.to_categorical(y_test,num_classes)\n"
      ],
      "execution_count": 0,
      "outputs": []
    },
    {
      "cell_type": "code",
      "metadata": {
        "id": "9WBCraMMOj8k",
        "colab_type": "code",
        "colab": {
          "base_uri": "https://localhost:8080/",
          "height": 1000
        },
        "outputId": "09727edb-da9e-4611-be0a-947573415153"
      },
      "source": [
        "import autokeras as ak\n",
        "\n",
        "input_node = ak.ImageInput()\n",
        "out_node = ak.Normalization()(input_node)\n",
        "out_node = ak.ImageAugmentation(percentage=0.3, rotation_range=180, random_crop=True)(out_node)\n",
        "out_node1 = ak.ConvBlock()(out_node)\n",
        "out_node2 = ak.XceptionBlock()(out_node)\n",
        "out_node3 = ak.ResNetBlock()(out_node)\n",
        "out_node = ak.Merge()([out_node1, out_node2, out_node3])\n",
        "out_node_c = ak.ClassificationHead()(out_node)\n",
        "auto_model = ak.AutoModel(inputs=input_node, outputs=[out_node_c], max_trials=20)\n",
        "auto_model.fit(x=x_train, y=y_train, epochs=100)"
      ],
      "execution_count": 0,
      "outputs": [
        {
          "output_type": "stream",
          "text": [
            "INFO:tensorflow:Reloading Oracle from existing project ./auto_model/oracle.json\n",
            "Train for 1250 steps, validate for 313 steps\n",
            "Epoch 1/100\n",
            "1250/1250 [==============================] - 91s 72ms/step - loss: 1.4794 - accuracy: 0.5110 - val_loss: 1.4073 - val_accuracy: 0.5579\n",
            "Epoch 2/100\n",
            "1250/1250 [==============================] - 82s 66ms/step - loss: 1.0106 - accuracy: 0.6660 - val_loss: 1.4805 - val_accuracy: 0.5583\n",
            "Epoch 3/100\n",
            "1250/1250 [==============================] - 83s 67ms/step - loss: 0.7907 - accuracy: 0.7341 - val_loss: 1.1464 - val_accuracy: 0.6643\n",
            "Epoch 4/100\n",
            "1250/1250 [==============================] - 80s 64ms/step - loss: 0.6577 - accuracy: 0.7783 - val_loss: 1.2039 - val_accuracy: 0.6594\n",
            "Epoch 5/100\n",
            "1250/1250 [==============================] - 81s 65ms/step - loss: 0.5364 - accuracy: 0.8162 - val_loss: 1.1261 - val_accuracy: 0.6943\n",
            "Epoch 6/100\n",
            "1250/1250 [==============================] - 80s 64ms/step - loss: 0.4305 - accuracy: 0.8515 - val_loss: 1.2720 - val_accuracy: 0.6824\n",
            "Epoch 7/100\n",
            "1250/1250 [==============================] - 80s 64ms/step - loss: 0.3521 - accuracy: 0.8785 - val_loss: 1.1936 - val_accuracy: 0.7061\n",
            "Epoch 8/100\n",
            "1250/1250 [==============================] - 80s 64ms/step - loss: 0.2919 - accuracy: 0.8981 - val_loss: 1.6108 - val_accuracy: 0.6733\n",
            "Epoch 9/100\n",
            "1250/1250 [==============================] - 79s 63ms/step - loss: 0.2514 - accuracy: 0.9105 - val_loss: 1.2323 - val_accuracy: 0.7268\n",
            "Epoch 10/100\n",
            "1250/1250 [==============================] - 79s 64ms/step - loss: 0.2184 - accuracy: 0.9224 - val_loss: 1.3444 - val_accuracy: 0.7351\n",
            "Epoch 11/100\n",
            "1250/1250 [==============================] - 79s 64ms/step - loss: 0.1875 - accuracy: 0.9342 - val_loss: 1.6632 - val_accuracy: 0.7070\n",
            "Epoch 12/100\n",
            "1250/1250 [==============================] - 79s 63ms/step - loss: 0.1643 - accuracy: 0.9424 - val_loss: 1.2723 - val_accuracy: 0.7623\n",
            "Epoch 13/100\n",
            "1250/1250 [==============================] - 80s 64ms/step - loss: 0.1555 - accuracy: 0.9450 - val_loss: 1.0130 - val_accuracy: 0.7775\n",
            "Epoch 14/100\n",
            "1250/1250 [==============================] - 79s 63ms/step - loss: 0.1405 - accuracy: 0.9509 - val_loss: 1.7723 - val_accuracy: 0.7028\n",
            "Epoch 15/100\n",
            "1250/1250 [==============================] - 78s 63ms/step - loss: 0.1323 - accuracy: 0.9531 - val_loss: 1.6112 - val_accuracy: 0.7167\n",
            "Epoch 16/100\n",
            "1250/1250 [==============================] - 78s 63ms/step - loss: 0.1218 - accuracy: 0.9565 - val_loss: 1.6550 - val_accuracy: 0.7275\n",
            "Epoch 17/100\n",
            "1250/1250 [==============================] - 78s 63ms/step - loss: 0.1120 - accuracy: 0.9602 - val_loss: 1.2016 - val_accuracy: 0.7742\n",
            "Epoch 18/100\n",
            "1250/1250 [==============================] - 78s 62ms/step - loss: 0.1031 - accuracy: 0.9629 - val_loss: 1.8174 - val_accuracy: 0.7322\n",
            "Epoch 19/100\n",
            "1250/1250 [==============================] - 78s 63ms/step - loss: 0.1121 - accuracy: 0.9614 - val_loss: 1.9491 - val_accuracy: 0.7155\n",
            "Epoch 20/100\n",
            "1250/1250 [==============================] - 78s 62ms/step - loss: 0.0922 - accuracy: 0.9671 - val_loss: 1.2438 - val_accuracy: 0.7814\n",
            "Epoch 21/100\n",
            "1250/1250 [==============================] - 79s 63ms/step - loss: 0.1046 - accuracy: 0.9637 - val_loss: 1.2996 - val_accuracy: 0.7746\n",
            "Epoch 22/100\n",
            "1250/1250 [==============================] - 80s 64ms/step - loss: 0.0918 - accuracy: 0.9682 - val_loss: 1.3471 - val_accuracy: 0.7646\n",
            "Epoch 23/100\n",
            "1250/1250 [==============================] - 78s 63ms/step - loss: 0.0852 - accuracy: 0.9696 - val_loss: 1.4022 - val_accuracy: 0.7612\n"
          ],
          "name": "stdout"
        },
        {
          "output_type": "display_data",
          "data": {
            "text/html": [
              "<span style=\"color:#4527A0\"><h1 style=\"font-size:18px\">Trial complete</h1></span>"
            ],
            "text/plain": [
              "<IPython.core.display.HTML object>"
            ]
          },
          "metadata": {
            "tags": []
          }
        },
        {
          "output_type": "display_data",
          "data": {
            "text/html": [
              "<span style=\"color:#4527A0\"><h1 style=\"font-size:18px\">Trial summary</h1></span>"
            ],
            "text/plain": [
              "<IPython.core.display.HTML object>"
            ]
          },
          "metadata": {
            "tags": []
          }
        },
        {
          "output_type": "display_data",
          "data": {
            "text/html": [
              "<span style=\"color:cyan\"> |-Trial ID: e813f8079326254ac92924ccdc2861dd</span>"
            ],
            "text/plain": [
              "<IPython.core.display.HTML object>"
            ]
          },
          "metadata": {
            "tags": []
          }
        },
        {
          "output_type": "display_data",
          "data": {
            "text/html": [
              "<span style=\"color:cyan\"> |-Score: 1.012972922942128</span>"
            ],
            "text/plain": [
              "<IPython.core.display.HTML object>"
            ]
          },
          "metadata": {
            "tags": []
          }
        },
        {
          "output_type": "display_data",
          "data": {
            "text/html": [
              "<span style=\"color:cyan\"> |-Best step: 0</span>"
            ],
            "text/plain": [
              "<IPython.core.display.HTML object>"
            ]
          },
          "metadata": {
            "tags": []
          }
        },
        {
          "output_type": "display_data",
          "data": {
            "text/html": [
              "<span style=\"color:#7E57C2\"><h2 style=\"font-size:16px\">Hyperparameters:</h2></span>"
            ],
            "text/plain": [
              "<IPython.core.display.HTML object>"
            ]
          },
          "metadata": {
            "tags": []
          }
        },
        {
          "output_type": "display_data",
          "data": {
            "text/html": [
              "<span style=\"color:cyan\"> |-classification_head_2/dropout_rate: 0</span>"
            ],
            "text/plain": [
              "<IPython.core.display.HTML object>"
            ]
          },
          "metadata": {
            "tags": []
          }
        },
        {
          "output_type": "display_data",
          "data": {
            "text/html": [
              "<span style=\"color:blue\"> |-conv_block_2/dropout_rate: 0</span>"
            ],
            "text/plain": [
              "<IPython.core.display.HTML object>"
            ]
          },
          "metadata": {
            "tags": []
          }
        },
        {
          "output_type": "display_data",
          "data": {
            "text/html": [
              "<span style=\"color:cyan\"> |-conv_block_2/filters_0_0: 32</span>"
            ],
            "text/plain": [
              "<IPython.core.display.HTML object>"
            ]
          },
          "metadata": {
            "tags": []
          }
        },
        {
          "output_type": "display_data",
          "data": {
            "text/html": [
              "<span style=\"color:blue\"> |-conv_block_2/filters_0_1: 32</span>"
            ],
            "text/plain": [
              "<IPython.core.display.HTML object>"
            ]
          },
          "metadata": {
            "tags": []
          }
        },
        {
          "output_type": "display_data",
          "data": {
            "text/html": [
              "<span style=\"color:cyan\"> |-conv_block_2/filters_1_0: 32</span>"
            ],
            "text/plain": [
              "<IPython.core.display.HTML object>"
            ]
          },
          "metadata": {
            "tags": []
          }
        },
        {
          "output_type": "display_data",
          "data": {
            "text/html": [
              "<span style=\"color:blue\"> |-conv_block_2/filters_1_1: 32</span>"
            ],
            "text/plain": [
              "<IPython.core.display.HTML object>"
            ]
          },
          "metadata": {
            "tags": []
          }
        },
        {
          "output_type": "display_data",
          "data": {
            "text/html": [
              "<span style=\"color:cyan\"> |-conv_block_2/kernel_size: 3</span>"
            ],
            "text/plain": [
              "<IPython.core.display.HTML object>"
            ]
          },
          "metadata": {
            "tags": []
          }
        },
        {
          "output_type": "display_data",
          "data": {
            "text/html": [
              "<span style=\"color:blue\"> |-conv_block_2/max_pooling: True</span>"
            ],
            "text/plain": [
              "<IPython.core.display.HTML object>"
            ]
          },
          "metadata": {
            "tags": []
          }
        },
        {
          "output_type": "display_data",
          "data": {
            "text/html": [
              "<span style=\"color:cyan\"> |-conv_block_2/num_blocks: 2</span>"
            ],
            "text/plain": [
              "<IPython.core.display.HTML object>"
            ]
          },
          "metadata": {
            "tags": []
          }
        },
        {
          "output_type": "display_data",
          "data": {
            "text/html": [
              "<span style=\"color:blue\"> |-conv_block_2/num_layers: 2</span>"
            ],
            "text/plain": [
              "<IPython.core.display.HTML object>"
            ]
          },
          "metadata": {
            "tags": []
          }
        },
        {
          "output_type": "display_data",
          "data": {
            "text/html": [
              "<span style=\"color:cyan\"> |-conv_block_2/separable: False</span>"
            ],
            "text/plain": [
              "<IPython.core.display.HTML object>"
            ]
          },
          "metadata": {
            "tags": []
          }
        },
        {
          "output_type": "display_data",
          "data": {
            "text/html": [
              "<span style=\"color:blue\"> |-merge_2/merge_type: add</span>"
            ],
            "text/plain": [
              "<IPython.core.display.HTML object>"
            ]
          },
          "metadata": {
            "tags": []
          }
        },
        {
          "output_type": "display_data",
          "data": {
            "text/html": [
              "<span style=\"color:cyan\"> |-optimizer: adam</span>"
            ],
            "text/plain": [
              "<IPython.core.display.HTML object>"
            ]
          },
          "metadata": {
            "tags": []
          }
        },
        {
          "output_type": "display_data",
          "data": {
            "text/html": [
              "<span style=\"color:blue\"> |-res_net_block_2/conv3_depth: 4</span>"
            ],
            "text/plain": [
              "<IPython.core.display.HTML object>"
            ]
          },
          "metadata": {
            "tags": []
          }
        },
        {
          "output_type": "display_data",
          "data": {
            "text/html": [
              "<span style=\"color:cyan\"> |-res_net_block_2/conv4_depth: 6</span>"
            ],
            "text/plain": [
              "<IPython.core.display.HTML object>"
            ]
          },
          "metadata": {
            "tags": []
          }
        },
        {
          "output_type": "display_data",
          "data": {
            "text/html": [
              "<span style=\"color:blue\"> |-res_net_block_2/pooling: avg</span>"
            ],
            "text/plain": [
              "<IPython.core.display.HTML object>"
            ]
          },
          "metadata": {
            "tags": []
          }
        },
        {
          "output_type": "display_data",
          "data": {
            "text/html": [
              "<span style=\"color:cyan\"> |-res_net_block_2/version: v2</span>"
            ],
            "text/plain": [
              "<IPython.core.display.HTML object>"
            ]
          },
          "metadata": {
            "tags": []
          }
        },
        {
          "output_type": "display_data",
          "data": {
            "text/html": [
              "<span style=\"color:blue\"> |-xception_block_2/activation: relu</span>"
            ],
            "text/plain": [
              "<IPython.core.display.HTML object>"
            ]
          },
          "metadata": {
            "tags": []
          }
        },
        {
          "output_type": "display_data",
          "data": {
            "text/html": [
              "<span style=\"color:cyan\"> |-xception_block_2/conv2d_num_filters: 64</span>"
            ],
            "text/plain": [
              "<IPython.core.display.HTML object>"
            ]
          },
          "metadata": {
            "tags": []
          }
        },
        {
          "output_type": "display_data",
          "data": {
            "text/html": [
              "<span style=\"color:blue\"> |-xception_block_2/initial_strides: 2</span>"
            ],
            "text/plain": [
              "<IPython.core.display.HTML object>"
            ]
          },
          "metadata": {
            "tags": []
          }
        },
        {
          "output_type": "display_data",
          "data": {
            "text/html": [
              "<span style=\"color:cyan\"> |-xception_block_2/kernel_size: 3</span>"
            ],
            "text/plain": [
              "<IPython.core.display.HTML object>"
            ]
          },
          "metadata": {
            "tags": []
          }
        },
        {
          "output_type": "display_data",
          "data": {
            "text/html": [
              "<span style=\"color:blue\"> |-xception_block_2/num_residual_blocks: 4</span>"
            ],
            "text/plain": [
              "<IPython.core.display.HTML object>"
            ]
          },
          "metadata": {
            "tags": []
          }
        },
        {
          "output_type": "display_data",
          "data": {
            "text/html": [
              "<span style=\"color:cyan\"> |-xception_block_2/pooling: avg</span>"
            ],
            "text/plain": [
              "<IPython.core.display.HTML object>"
            ]
          },
          "metadata": {
            "tags": []
          }
        },
        {
          "output_type": "display_data",
          "data": {
            "text/html": [
              "<span style=\"color:blue\"> |-xception_block_2/sep_num_filters: 256</span>"
            ],
            "text/plain": [
              "<IPython.core.display.HTML object>"
            ]
          },
          "metadata": {
            "tags": []
          }
        },
        {
          "output_type": "stream",
          "text": [
            "Train for 1250 steps, validate for 313 steps\n",
            "Epoch 1/100\n",
            "1250/1250 [==============================] - 141s 112ms/step - loss: 2.0584 - accuracy: 0.4365 - val_loss: 1.8079 - val_accuracy: 0.4715\n",
            "Epoch 2/100\n",
            "1250/1250 [==============================] - 125s 100ms/step - loss: 1.5385 - accuracy: 0.6072 - val_loss: 23.0806 - val_accuracy: 0.5517\n",
            "Epoch 3/100\n",
            "1250/1250 [==============================] - 129s 103ms/step - loss: 1.2785 - accuracy: 0.6759 - val_loss: 1.3806 - val_accuracy: 0.6471\n",
            "Epoch 4/100\n",
            "1250/1250 [==============================] - 125s 100ms/step - loss: 1.0866 - accuracy: 0.7270 - val_loss: 2.2471 - val_accuracy: 0.6574\n",
            "Epoch 5/100\n",
            "1250/1250 [==============================] - 125s 100ms/step - loss: 0.9219 - accuracy: 0.7688 - val_loss: 4.2177 - val_accuracy: 0.6687\n",
            "Epoch 6/100\n",
            "1250/1250 [==============================] - 124s 99ms/step - loss: 0.7724 - accuracy: 0.8000 - val_loss: 1.9418 - val_accuracy: 0.7127\n",
            "Epoch 7/100\n",
            "1250/1250 [==============================] - 124s 99ms/step - loss: 0.6345 - accuracy: 0.8246 - val_loss: 2.2899 - val_accuracy: 0.6447\n",
            "Epoch 8/100\n",
            "1250/1250 [==============================] - 127s 102ms/step - loss: 0.4923 - accuracy: 0.8547 - val_loss: 1.2055 - val_accuracy: 0.7265\n",
            "Epoch 9/100\n",
            "1250/1250 [==============================] - 124s 99ms/step - loss: 0.4348 - accuracy: 0.8715 - val_loss: 1.3152 - val_accuracy: 0.7506\n",
            "Epoch 10/100\n",
            "1250/1250 [==============================] - 124s 99ms/step - loss: 0.3992 - accuracy: 0.8835 - val_loss: 3.7523 - val_accuracy: 0.7056\n",
            "Epoch 11/100\n",
            "1250/1250 [==============================] - 124s 99ms/step - loss: 0.3614 - accuracy: 0.8951 - val_loss: 1.2433 - val_accuracy: 0.7638\n",
            "Epoch 12/100\n",
            "1250/1250 [==============================] - 124s 99ms/step - loss: 0.2880 - accuracy: 0.9125 - val_loss: 2.5829 - val_accuracy: 0.7325\n",
            "Epoch 13/100\n",
            "1250/1250 [==============================] - 124s 99ms/step - loss: 0.3078 - accuracy: 0.9137 - val_loss: 1.6412 - val_accuracy: 0.7298\n",
            "Epoch 14/100\n",
            "1250/1250 [==============================] - 124s 99ms/step - loss: 0.2672 - accuracy: 0.9238 - val_loss: 1.3880 - val_accuracy: 0.7600\n",
            "Epoch 15/100\n",
            "1250/1250 [==============================] - 125s 100ms/step - loss: 0.2658 - accuracy: 0.9236 - val_loss: 1.7907 - val_accuracy: 0.7530\n",
            "Epoch 16/100\n",
            "1250/1250 [==============================] - 126s 100ms/step - loss: 0.2452 - accuracy: 0.9293 - val_loss: 1.7906 - val_accuracy: 0.7538\n",
            "Epoch 17/100\n",
            "1250/1250 [==============================] - 124s 99ms/step - loss: 0.1989 - accuracy: 0.9402 - val_loss: 1.3517 - val_accuracy: 0.7802\n",
            "Epoch 18/100\n",
            "1250/1250 [==============================] - 124s 99ms/step - loss: 0.1590 - accuracy: 0.9495 - val_loss: 1.4942 - val_accuracy: 0.7603\n"
          ],
          "name": "stdout"
        },
        {
          "output_type": "display_data",
          "data": {
            "text/html": [
              "<span style=\"color:#4527A0\"><h1 style=\"font-size:18px\">Trial complete</h1></span>"
            ],
            "text/plain": [
              "<IPython.core.display.HTML object>"
            ]
          },
          "metadata": {
            "tags": []
          }
        },
        {
          "output_type": "display_data",
          "data": {
            "text/html": [
              "<span style=\"color:#4527A0\"><h1 style=\"font-size:18px\">Trial summary</h1></span>"
            ],
            "text/plain": [
              "<IPython.core.display.HTML object>"
            ]
          },
          "metadata": {
            "tags": []
          }
        },
        {
          "output_type": "display_data",
          "data": {
            "text/html": [
              "<span style=\"color:cyan\"> |-Trial ID: 45842342db5b1eea2080afe92b8a846c</span>"
            ],
            "text/plain": [
              "<IPython.core.display.HTML object>"
            ]
          },
          "metadata": {
            "tags": []
          }
        },
        {
          "output_type": "display_data",
          "data": {
            "text/html": [
              "<span style=\"color:cyan\"> |-Score: 1.205509253488943</span>"
            ],
            "text/plain": [
              "<IPython.core.display.HTML object>"
            ]
          },
          "metadata": {
            "tags": []
          }
        },
        {
          "output_type": "display_data",
          "data": {
            "text/html": [
              "<span style=\"color:cyan\"> |-Best step: 0</span>"
            ],
            "text/plain": [
              "<IPython.core.display.HTML object>"
            ]
          },
          "metadata": {
            "tags": []
          }
        },
        {
          "output_type": "display_data",
          "data": {
            "text/html": [
              "<span style=\"color:#7E57C2\"><h2 style=\"font-size:16px\">Hyperparameters:</h2></span>"
            ],
            "text/plain": [
              "<IPython.core.display.HTML object>"
            ]
          },
          "metadata": {
            "tags": []
          }
        },
        {
          "output_type": "display_data",
          "data": {
            "text/html": [
              "<span style=\"color:cyan\"> |-classification_head_2/dropout_rate: 0.5</span>"
            ],
            "text/plain": [
              "<IPython.core.display.HTML object>"
            ]
          },
          "metadata": {
            "tags": []
          }
        },
        {
          "output_type": "display_data",
          "data": {
            "text/html": [
              "<span style=\"color:blue\"> |-conv_block_2/dropout_rate: 0.0</span>"
            ],
            "text/plain": [
              "<IPython.core.display.HTML object>"
            ]
          },
          "metadata": {
            "tags": []
          }
        },
        {
          "output_type": "display_data",
          "data": {
            "text/html": [
              "<span style=\"color:cyan\"> |-conv_block_2/filters_0_0: 16</span>"
            ],
            "text/plain": [
              "<IPython.core.display.HTML object>"
            ]
          },
          "metadata": {
            "tags": []
          }
        },
        {
          "output_type": "display_data",
          "data": {
            "text/html": [
              "<span style=\"color:blue\"> |-conv_block_2/filters_0_1: 64</span>"
            ],
            "text/plain": [
              "<IPython.core.display.HTML object>"
            ]
          },
          "metadata": {
            "tags": []
          }
        },
        {
          "output_type": "display_data",
          "data": {
            "text/html": [
              "<span style=\"color:cyan\"> |-conv_block_2/filters_1_0: 16</span>"
            ],
            "text/plain": [
              "<IPython.core.display.HTML object>"
            ]
          },
          "metadata": {
            "tags": []
          }
        },
        {
          "output_type": "display_data",
          "data": {
            "text/html": [
              "<span style=\"color:blue\"> |-conv_block_2/filters_1_1: 64</span>"
            ],
            "text/plain": [
              "<IPython.core.display.HTML object>"
            ]
          },
          "metadata": {
            "tags": []
          }
        },
        {
          "output_type": "display_data",
          "data": {
            "text/html": [
              "<span style=\"color:cyan\"> |-conv_block_2/kernel_size: 7</span>"
            ],
            "text/plain": [
              "<IPython.core.display.HTML object>"
            ]
          },
          "metadata": {
            "tags": []
          }
        },
        {
          "output_type": "display_data",
          "data": {
            "text/html": [
              "<span style=\"color:blue\"> |-conv_block_2/max_pooling: False</span>"
            ],
            "text/plain": [
              "<IPython.core.display.HTML object>"
            ]
          },
          "metadata": {
            "tags": []
          }
        },
        {
          "output_type": "display_data",
          "data": {
            "text/html": [
              "<span style=\"color:cyan\"> |-conv_block_2/num_blocks: 2</span>"
            ],
            "text/plain": [
              "<IPython.core.display.HTML object>"
            ]
          },
          "metadata": {
            "tags": []
          }
        },
        {
          "output_type": "display_data",
          "data": {
            "text/html": [
              "<span style=\"color:blue\"> |-conv_block_2/num_layers: 2</span>"
            ],
            "text/plain": [
              "<IPython.core.display.HTML object>"
            ]
          },
          "metadata": {
            "tags": []
          }
        },
        {
          "output_type": "display_data",
          "data": {
            "text/html": [
              "<span style=\"color:cyan\"> |-conv_block_2/separable: False</span>"
            ],
            "text/plain": [
              "<IPython.core.display.HTML object>"
            ]
          },
          "metadata": {
            "tags": []
          }
        },
        {
          "output_type": "display_data",
          "data": {
            "text/html": [
              "<span style=\"color:blue\"> |-merge_2/merge_type: concatenate</span>"
            ],
            "text/plain": [
              "<IPython.core.display.HTML object>"
            ]
          },
          "metadata": {
            "tags": []
          }
        },
        {
          "output_type": "display_data",
          "data": {
            "text/html": [
              "<span style=\"color:cyan\"> |-optimizer: adam</span>"
            ],
            "text/plain": [
              "<IPython.core.display.HTML object>"
            ]
          },
          "metadata": {
            "tags": []
          }
        },
        {
          "output_type": "display_data",
          "data": {
            "text/html": [
              "<span style=\"color:blue\"> |-res_net_block_2/conv3_depth: 8</span>"
            ],
            "text/plain": [
              "<IPython.core.display.HTML object>"
            ]
          },
          "metadata": {
            "tags": []
          }
        },
        {
          "output_type": "display_data",
          "data": {
            "text/html": [
              "<span style=\"color:cyan\"> |-res_net_block_2/conv4_depth: 23</span>"
            ],
            "text/plain": [
              "<IPython.core.display.HTML object>"
            ]
          },
          "metadata": {
            "tags": []
          }
        },
        {
          "output_type": "display_data",
          "data": {
            "text/html": [
              "<span style=\"color:blue\"> |-res_net_block_2/pooling: max</span>"
            ],
            "text/plain": [
              "<IPython.core.display.HTML object>"
            ]
          },
          "metadata": {
            "tags": []
          }
        },
        {
          "output_type": "display_data",
          "data": {
            "text/html": [
              "<span style=\"color:cyan\"> |-res_net_block_2/version: v1</span>"
            ],
            "text/plain": [
              "<IPython.core.display.HTML object>"
            ]
          },
          "metadata": {
            "tags": []
          }
        },
        {
          "output_type": "display_data",
          "data": {
            "text/html": [
              "<span style=\"color:blue\"> |-xception_block_2/activation: relu</span>"
            ],
            "text/plain": [
              "<IPython.core.display.HTML object>"
            ]
          },
          "metadata": {
            "tags": []
          }
        },
        {
          "output_type": "display_data",
          "data": {
            "text/html": [
              "<span style=\"color:cyan\"> |-xception_block_2/conv2d_num_filters: 64</span>"
            ],
            "text/plain": [
              "<IPython.core.display.HTML object>"
            ]
          },
          "metadata": {
            "tags": []
          }
        },
        {
          "output_type": "display_data",
          "data": {
            "text/html": [
              "<span style=\"color:blue\"> |-xception_block_2/initial_strides: 2</span>"
            ],
            "text/plain": [
              "<IPython.core.display.HTML object>"
            ]
          },
          "metadata": {
            "tags": []
          }
        },
        {
          "output_type": "display_data",
          "data": {
            "text/html": [
              "<span style=\"color:cyan\"> |-xception_block_2/kernel_size: 5</span>"
            ],
            "text/plain": [
              "<IPython.core.display.HTML object>"
            ]
          },
          "metadata": {
            "tags": []
          }
        },
        {
          "output_type": "display_data",
          "data": {
            "text/html": [
              "<span style=\"color:blue\"> |-xception_block_2/num_residual_blocks: 4</span>"
            ],
            "text/plain": [
              "<IPython.core.display.HTML object>"
            ]
          },
          "metadata": {
            "tags": []
          }
        },
        {
          "output_type": "display_data",
          "data": {
            "text/html": [
              "<span style=\"color:cyan\"> |-xception_block_2/pooling: avg</span>"
            ],
            "text/plain": [
              "<IPython.core.display.HTML object>"
            ]
          },
          "metadata": {
            "tags": []
          }
        },
        {
          "output_type": "display_data",
          "data": {
            "text/html": [
              "<span style=\"color:blue\"> |-xception_block_2/sep_num_filters: 256</span>"
            ],
            "text/plain": [
              "<IPython.core.display.HTML object>"
            ]
          },
          "metadata": {
            "tags": []
          }
        },
        {
          "output_type": "stream",
          "text": [
            "Train for 1250 steps, validate for 313 steps\n",
            "Epoch 1/100\n",
            "1250/1250 [==============================] - 253s 202ms/step - loss: 1.8269 - accuracy: 0.4521 - val_loss: 2.0240 - val_accuracy: 0.5024\n",
            "Epoch 2/100\n",
            "1250/1250 [==============================] - 235s 188ms/step - loss: 1.3637 - accuracy: 0.5661 - val_loss: 1.4373 - val_accuracy: 0.5530\n",
            "Epoch 3/100\n",
            "1250/1250 [==============================] - 230s 184ms/step - loss: 1.2377 - accuracy: 0.6065 - val_loss: 1.6191 - val_accuracy: 0.5389\n",
            "Epoch 4/100\n",
            "1250/1250 [==============================] - 229s 183ms/step - loss: 1.1483 - accuracy: 0.6401 - val_loss: 1.7037 - val_accuracy: 0.5501\n",
            "Epoch 5/100\n",
            "1250/1250 [==============================] - 229s 183ms/step - loss: 1.1070 - accuracy: 0.6640 - val_loss: 1.9741 - val_accuracy: 0.5411\n",
            "Epoch 6/100\n",
            "1250/1250 [==============================] - 229s 183ms/step - loss: 1.0473 - accuracy: 0.6982 - val_loss: 2.2018 - val_accuracy: 0.5382\n",
            "Epoch 7/100\n",
            "1250/1250 [==============================] - 229s 183ms/step - loss: 1.0215 - accuracy: 0.7285 - val_loss: 2.9559 - val_accuracy: 0.5411\n",
            "Epoch 8/100\n",
            "1250/1250 [==============================] - 230s 184ms/step - loss: 1.0156 - accuracy: 0.7571 - val_loss: 4.0704 - val_accuracy: 0.5133\n",
            "Epoch 9/100\n",
            "1250/1250 [==============================] - 231s 185ms/step - loss: 0.9703 - accuracy: 0.7867 - val_loss: 4.2195 - val_accuracy: 0.5468\n",
            "Epoch 10/100\n",
            "1250/1250 [==============================] - 232s 186ms/step - loss: 1.0206 - accuracy: 0.8038 - val_loss: 4.5823 - val_accuracy: 0.5682\n",
            "Epoch 11/100\n",
            "1250/1250 [==============================] - 229s 184ms/step - loss: 0.9817 - accuracy: 0.8308 - val_loss: 10.0913 - val_accuracy: 0.5334\n",
            "Epoch 12/100\n",
            "1250/1250 [==============================] - 230s 184ms/step - loss: 1.0603 - accuracy: 0.8399 - val_loss: 7.5203 - val_accuracy: 0.5372\n"
          ],
          "name": "stdout"
        },
        {
          "output_type": "display_data",
          "data": {
            "text/html": [
              "<span style=\"color:#4527A0\"><h1 style=\"font-size:18px\">Trial complete</h1></span>"
            ],
            "text/plain": [
              "<IPython.core.display.HTML object>"
            ]
          },
          "metadata": {
            "tags": []
          }
        },
        {
          "output_type": "display_data",
          "data": {
            "text/html": [
              "<span style=\"color:#4527A0\"><h1 style=\"font-size:18px\">Trial summary</h1></span>"
            ],
            "text/plain": [
              "<IPython.core.display.HTML object>"
            ]
          },
          "metadata": {
            "tags": []
          }
        },
        {
          "output_type": "display_data",
          "data": {
            "text/html": [
              "<span style=\"color:cyan\"> |-Trial ID: b816ba8516ab4dd0700fbe1c82c240dc</span>"
            ],
            "text/plain": [
              "<IPython.core.display.HTML object>"
            ]
          },
          "metadata": {
            "tags": []
          }
        },
        {
          "output_type": "display_data",
          "data": {
            "text/html": [
              "<span style=\"color:cyan\"> |-Score: 1.4372546747088812</span>"
            ],
            "text/plain": [
              "<IPython.core.display.HTML object>"
            ]
          },
          "metadata": {
            "tags": []
          }
        },
        {
          "output_type": "display_data",
          "data": {
            "text/html": [
              "<span style=\"color:cyan\"> |-Best step: 0</span>"
            ],
            "text/plain": [
              "<IPython.core.display.HTML object>"
            ]
          },
          "metadata": {
            "tags": []
          }
        },
        {
          "output_type": "display_data",
          "data": {
            "text/html": [
              "<span style=\"color:#7E57C2\"><h2 style=\"font-size:16px\">Hyperparameters:</h2></span>"
            ],
            "text/plain": [
              "<IPython.core.display.HTML object>"
            ]
          },
          "metadata": {
            "tags": []
          }
        },
        {
          "output_type": "display_data",
          "data": {
            "text/html": [
              "<span style=\"color:cyan\"> |-classification_head_2/dropout_rate: 0.0</span>"
            ],
            "text/plain": [
              "<IPython.core.display.HTML object>"
            ]
          },
          "metadata": {
            "tags": []
          }
        },
        {
          "output_type": "display_data",
          "data": {
            "text/html": [
              "<span style=\"color:blue\"> |-conv_block_2/dropout_rate: 0.0</span>"
            ],
            "text/plain": [
              "<IPython.core.display.HTML object>"
            ]
          },
          "metadata": {
            "tags": []
          }
        },
        {
          "output_type": "display_data",
          "data": {
            "text/html": [
              "<span style=\"color:cyan\"> |-conv_block_2/filters_0_0: 32</span>"
            ],
            "text/plain": [
              "<IPython.core.display.HTML object>"
            ]
          },
          "metadata": {
            "tags": []
          }
        },
        {
          "output_type": "display_data",
          "data": {
            "text/html": [
              "<span style=\"color:blue\"> |-conv_block_2/filters_0_1: 256</span>"
            ],
            "text/plain": [
              "<IPython.core.display.HTML object>"
            ]
          },
          "metadata": {
            "tags": []
          }
        },
        {
          "output_type": "display_data",
          "data": {
            "text/html": [
              "<span style=\"color:cyan\"> |-conv_block_2/filters_1_0: 16</span>"
            ],
            "text/plain": [
              "<IPython.core.display.HTML object>"
            ]
          },
          "metadata": {
            "tags": []
          }
        },
        {
          "output_type": "display_data",
          "data": {
            "text/html": [
              "<span style=\"color:blue\"> |-conv_block_2/filters_1_1: 32</span>"
            ],
            "text/plain": [
              "<IPython.core.display.HTML object>"
            ]
          },
          "metadata": {
            "tags": []
          }
        },
        {
          "output_type": "display_data",
          "data": {
            "text/html": [
              "<span style=\"color:cyan\"> |-conv_block_2/filters_2_0: 32</span>"
            ],
            "text/plain": [
              "<IPython.core.display.HTML object>"
            ]
          },
          "metadata": {
            "tags": []
          }
        },
        {
          "output_type": "display_data",
          "data": {
            "text/html": [
              "<span style=\"color:blue\"> |-conv_block_2/filters_2_1: 32</span>"
            ],
            "text/plain": [
              "<IPython.core.display.HTML object>"
            ]
          },
          "metadata": {
            "tags": []
          }
        },
        {
          "output_type": "display_data",
          "data": {
            "text/html": [
              "<span style=\"color:cyan\"> |-conv_block_2/kernel_size: 5</span>"
            ],
            "text/plain": [
              "<IPython.core.display.HTML object>"
            ]
          },
          "metadata": {
            "tags": []
          }
        },
        {
          "output_type": "display_data",
          "data": {
            "text/html": [
              "<span style=\"color:blue\"> |-conv_block_2/max_pooling: False</span>"
            ],
            "text/plain": [
              "<IPython.core.display.HTML object>"
            ]
          },
          "metadata": {
            "tags": []
          }
        },
        {
          "output_type": "display_data",
          "data": {
            "text/html": [
              "<span style=\"color:cyan\"> |-conv_block_2/num_blocks: 3</span>"
            ],
            "text/plain": [
              "<IPython.core.display.HTML object>"
            ]
          },
          "metadata": {
            "tags": []
          }
        },
        {
          "output_type": "display_data",
          "data": {
            "text/html": [
              "<span style=\"color:blue\"> |-conv_block_2/num_layers: 2</span>"
            ],
            "text/plain": [
              "<IPython.core.display.HTML object>"
            ]
          },
          "metadata": {
            "tags": []
          }
        },
        {
          "output_type": "display_data",
          "data": {
            "text/html": [
              "<span style=\"color:cyan\"> |-conv_block_2/separable: False</span>"
            ],
            "text/plain": [
              "<IPython.core.display.HTML object>"
            ]
          },
          "metadata": {
            "tags": []
          }
        },
        {
          "output_type": "display_data",
          "data": {
            "text/html": [
              "<span style=\"color:blue\"> |-merge_2/merge_type: concatenate</span>"
            ],
            "text/plain": [
              "<IPython.core.display.HTML object>"
            ]
          },
          "metadata": {
            "tags": []
          }
        },
        {
          "output_type": "display_data",
          "data": {
            "text/html": [
              "<span style=\"color:cyan\"> |-optimizer: adam</span>"
            ],
            "text/plain": [
              "<IPython.core.display.HTML object>"
            ]
          },
          "metadata": {
            "tags": []
          }
        },
        {
          "output_type": "display_data",
          "data": {
            "text/html": [
              "<span style=\"color:blue\"> |-res_net_block_2/conv3_depth: 8</span>"
            ],
            "text/plain": [
              "<IPython.core.display.HTML object>"
            ]
          },
          "metadata": {
            "tags": []
          }
        },
        {
          "output_type": "display_data",
          "data": {
            "text/html": [
              "<span style=\"color:cyan\"> |-res_net_block_2/conv4_depth: 36</span>"
            ],
            "text/plain": [
              "<IPython.core.display.HTML object>"
            ]
          },
          "metadata": {
            "tags": []
          }
        },
        {
          "output_type": "display_data",
          "data": {
            "text/html": [
              "<span style=\"color:blue\"> |-res_net_block_2/pooling: avg</span>"
            ],
            "text/plain": [
              "<IPython.core.display.HTML object>"
            ]
          },
          "metadata": {
            "tags": []
          }
        },
        {
          "output_type": "display_data",
          "data": {
            "text/html": [
              "<span style=\"color:cyan\"> |-res_net_block_2/version: v2</span>"
            ],
            "text/plain": [
              "<IPython.core.display.HTML object>"
            ]
          },
          "metadata": {
            "tags": []
          }
        },
        {
          "output_type": "display_data",
          "data": {
            "text/html": [
              "<span style=\"color:blue\"> |-xception_block_2/activation: selu</span>"
            ],
            "text/plain": [
              "<IPython.core.display.HTML object>"
            ]
          },
          "metadata": {
            "tags": []
          }
        },
        {
          "output_type": "display_data",
          "data": {
            "text/html": [
              "<span style=\"color:cyan\"> |-xception_block_2/conv2d_num_filters: 64</span>"
            ],
            "text/plain": [
              "<IPython.core.display.HTML object>"
            ]
          },
          "metadata": {
            "tags": []
          }
        },
        {
          "output_type": "display_data",
          "data": {
            "text/html": [
              "<span style=\"color:blue\"> |-xception_block_2/initial_strides: 2</span>"
            ],
            "text/plain": [
              "<IPython.core.display.HTML object>"
            ]
          },
          "metadata": {
            "tags": []
          }
        },
        {
          "output_type": "display_data",
          "data": {
            "text/html": [
              "<span style=\"color:cyan\"> |-xception_block_2/kernel_size: 5</span>"
            ],
            "text/plain": [
              "<IPython.core.display.HTML object>"
            ]
          },
          "metadata": {
            "tags": []
          }
        },
        {
          "output_type": "display_data",
          "data": {
            "text/html": [
              "<span style=\"color:blue\"> |-xception_block_2/num_residual_blocks: 4</span>"
            ],
            "text/plain": [
              "<IPython.core.display.HTML object>"
            ]
          },
          "metadata": {
            "tags": []
          }
        },
        {
          "output_type": "display_data",
          "data": {
            "text/html": [
              "<span style=\"color:cyan\"> |-xception_block_2/pooling: flatten</span>"
            ],
            "text/plain": [
              "<IPython.core.display.HTML object>"
            ]
          },
          "metadata": {
            "tags": []
          }
        },
        {
          "output_type": "display_data",
          "data": {
            "text/html": [
              "<span style=\"color:blue\"> |-xception_block_2/sep_num_filters: 768</span>"
            ],
            "text/plain": [
              "<IPython.core.display.HTML object>"
            ]
          },
          "metadata": {
            "tags": []
          }
        },
        {
          "output_type": "stream",
          "text": [
            "Train for 1250 steps, validate for 313 steps\n",
            "Epoch 1/100\n",
            "1250/1250 [==============================] - 226s 181ms/step - loss: 2.1449 - accuracy: 0.3501 - val_loss: 16.3855 - val_accuracy: 0.3906\n",
            "Epoch 2/100\n",
            "1250/1250 [==============================] - 204s 163ms/step - loss: 1.9746 - accuracy: 0.4421 - val_loss: 2701.8490 - val_accuracy: 0.2872\n",
            "Epoch 3/100\n",
            "1250/1250 [==============================] - 207s 166ms/step - loss: 1.7969 - accuracy: 0.4796 - val_loss: 2.9602 - val_accuracy: 0.4494\n",
            "Epoch 4/100\n",
            "1250/1250 [==============================] - 203s 163ms/step - loss: 1.7004 - accuracy: 0.5046 - val_loss: 143.7573 - val_accuracy: 0.4923\n",
            "Epoch 5/100\n",
            "1250/1250 [==============================] - 203s 162ms/step - loss: 1.5802 - accuracy: 0.5266 - val_loss: 3.3543 - val_accuracy: 0.5080\n",
            "Epoch 6/100\n",
            "1250/1250 [==============================] - 206s 165ms/step - loss: 1.6646 - accuracy: 0.5357 - val_loss: 1.2932 - val_accuracy: 0.5475\n",
            "Epoch 7/100\n",
            "1250/1250 [==============================] - 203s 162ms/step - loss: 1.5805 - accuracy: 0.5509 - val_loss: 1.3749 - val_accuracy: 0.5561\n",
            "Epoch 8/100\n",
            "1250/1250 [==============================] - 203s 163ms/step - loss: 1.4807 - accuracy: 0.5727 - val_loss: 1.3941 - val_accuracy: 0.5614\n",
            "Epoch 9/100\n",
            "1250/1250 [==============================] - 207s 166ms/step - loss: 1.3921 - accuracy: 0.5784 - val_loss: 1.2552 - val_accuracy: 0.5866\n",
            "Epoch 10/100\n",
            "1250/1250 [==============================] - 204s 163ms/step - loss: 1.3137 - accuracy: 0.5984 - val_loss: 1.4686 - val_accuracy: 0.5877\n",
            "Epoch 11/100\n",
            "1250/1250 [==============================] - 207s 166ms/step - loss: 1.2189 - accuracy: 0.6087 - val_loss: 1.2058 - val_accuracy: 0.6008\n",
            "Epoch 12/100\n",
            "1250/1250 [==============================] - 204s 163ms/step - loss: 1.1332 - accuracy: 0.6237 - val_loss: 1.3520 - val_accuracy: 0.5864\n",
            "Epoch 13/100\n",
            "1250/1250 [==============================] - 204s 163ms/step - loss: 1.0613 - accuracy: 0.6400 - val_loss: 1.2495 - val_accuracy: 0.5839\n",
            "Epoch 14/100\n",
            "1250/1250 [==============================] - 203s 162ms/step - loss: 1.0196 - accuracy: 0.6522 - val_loss: 1.2652 - val_accuracy: 0.5898\n",
            "Epoch 15/100\n",
            "1250/1250 [==============================] - 207s 166ms/step - loss: 0.9975 - accuracy: 0.6641 - val_loss: 1.1465 - val_accuracy: 0.6130\n",
            "Epoch 16/100\n",
            "1250/1250 [==============================] - 203s 163ms/step - loss: 0.9389 - accuracy: 0.6804 - val_loss: 1.3302 - val_accuracy: 0.5770\n",
            "Epoch 17/100\n",
            "1250/1250 [==============================] - 203s 162ms/step - loss: 0.8899 - accuracy: 0.6931 - val_loss: 1.1678 - val_accuracy: 0.6234\n",
            "Epoch 18/100\n",
            "1250/1250 [==============================] - 202s 161ms/step - loss: 0.8604 - accuracy: 0.7025 - val_loss: 1.1703 - val_accuracy: 0.6233\n",
            "Epoch 19/100\n",
            "1250/1250 [==============================] - 202s 161ms/step - loss: 0.8179 - accuracy: 0.7161 - val_loss: 1.4059 - val_accuracy: 0.6153\n",
            "Epoch 20/100\n",
            "1250/1250 [==============================] - 202s 161ms/step - loss: 0.7800 - accuracy: 0.7296 - val_loss: 1.2092 - val_accuracy: 0.6259\n",
            "Epoch 21/100\n",
            "1250/1250 [==============================] - 202s 162ms/step - loss: 0.7481 - accuracy: 0.7415 - val_loss: 1.1895 - val_accuracy: 0.6331\n",
            "Epoch 22/100\n",
            "1250/1250 [==============================] - 202s 161ms/step - loss: 0.7108 - accuracy: 0.7541 - val_loss: 1.1538 - val_accuracy: 0.6430\n",
            "Epoch 23/100\n",
            "1250/1250 [==============================] - 202s 162ms/step - loss: 0.6850 - accuracy: 0.7652 - val_loss: 1.2057 - val_accuracy: 0.6410\n",
            "Epoch 24/100\n",
            "1250/1250 [==============================] - 202s 161ms/step - loss: 0.6517 - accuracy: 0.7804 - val_loss: 1.2663 - val_accuracy: 0.6376\n",
            "Epoch 25/100\n",
            "1250/1250 [==============================] - 202s 162ms/step - loss: 0.6421 - accuracy: 0.7824 - val_loss: 1.3080 - val_accuracy: 0.6333\n"
          ],
          "name": "stdout"
        },
        {
          "output_type": "display_data",
          "data": {
            "text/html": [
              "<span style=\"color:#4527A0\"><h1 style=\"font-size:18px\">Trial complete</h1></span>"
            ],
            "text/plain": [
              "<IPython.core.display.HTML object>"
            ]
          },
          "metadata": {
            "tags": []
          }
        },
        {
          "output_type": "display_data",
          "data": {
            "text/html": [
              "<span style=\"color:#4527A0\"><h1 style=\"font-size:18px\">Trial summary</h1></span>"
            ],
            "text/plain": [
              "<IPython.core.display.HTML object>"
            ]
          },
          "metadata": {
            "tags": []
          }
        },
        {
          "output_type": "display_data",
          "data": {
            "text/html": [
              "<span style=\"color:cyan\"> |-Trial ID: d2644fb80d2b334831bfa11f2f9b4c3f</span>"
            ],
            "text/plain": [
              "<IPython.core.display.HTML object>"
            ]
          },
          "metadata": {
            "tags": []
          }
        },
        {
          "output_type": "display_data",
          "data": {
            "text/html": [
              "<span style=\"color:cyan\"> |-Score: 1.1464942655624293</span>"
            ],
            "text/plain": [
              "<IPython.core.display.HTML object>"
            ]
          },
          "metadata": {
            "tags": []
          }
        },
        {
          "output_type": "display_data",
          "data": {
            "text/html": [
              "<span style=\"color:cyan\"> |-Best step: 0</span>"
            ],
            "text/plain": [
              "<IPython.core.display.HTML object>"
            ]
          },
          "metadata": {
            "tags": []
          }
        },
        {
          "output_type": "display_data",
          "data": {
            "text/html": [
              "<span style=\"color:#7E57C2\"><h2 style=\"font-size:16px\">Hyperparameters:</h2></span>"
            ],
            "text/plain": [
              "<IPython.core.display.HTML object>"
            ]
          },
          "metadata": {
            "tags": []
          }
        },
        {
          "output_type": "display_data",
          "data": {
            "text/html": [
              "<span style=\"color:cyan\"> |-classification_head_2/dropout_rate: 0.5</span>"
            ],
            "text/plain": [
              "<IPython.core.display.HTML object>"
            ]
          },
          "metadata": {
            "tags": []
          }
        },
        {
          "output_type": "display_data",
          "data": {
            "text/html": [
              "<span style=\"color:blue\"> |-conv_block_2/dropout_rate: 0.5</span>"
            ],
            "text/plain": [
              "<IPython.core.display.HTML object>"
            ]
          },
          "metadata": {
            "tags": []
          }
        },
        {
          "output_type": "display_data",
          "data": {
            "text/html": [
              "<span style=\"color:cyan\"> |-conv_block_2/filters_0_0: 512</span>"
            ],
            "text/plain": [
              "<IPython.core.display.HTML object>"
            ]
          },
          "metadata": {
            "tags": []
          }
        },
        {
          "output_type": "display_data",
          "data": {
            "text/html": [
              "<span style=\"color:blue\"> |-conv_block_2/filters_0_1: 256</span>"
            ],
            "text/plain": [
              "<IPython.core.display.HTML object>"
            ]
          },
          "metadata": {
            "tags": []
          }
        },
        {
          "output_type": "display_data",
          "data": {
            "text/html": [
              "<span style=\"color:cyan\"> |-conv_block_2/filters_1_0: 128</span>"
            ],
            "text/plain": [
              "<IPython.core.display.HTML object>"
            ]
          },
          "metadata": {
            "tags": []
          }
        },
        {
          "output_type": "display_data",
          "data": {
            "text/html": [
              "<span style=\"color:blue\"> |-conv_block_2/filters_1_1: 64</span>"
            ],
            "text/plain": [
              "<IPython.core.display.HTML object>"
            ]
          },
          "metadata": {
            "tags": []
          }
        },
        {
          "output_type": "display_data",
          "data": {
            "text/html": [
              "<span style=\"color:cyan\"> |-conv_block_2/filters_2_0: 256</span>"
            ],
            "text/plain": [
              "<IPython.core.display.HTML object>"
            ]
          },
          "metadata": {
            "tags": []
          }
        },
        {
          "output_type": "display_data",
          "data": {
            "text/html": [
              "<span style=\"color:blue\"> |-conv_block_2/filters_2_1: 64</span>"
            ],
            "text/plain": [
              "<IPython.core.display.HTML object>"
            ]
          },
          "metadata": {
            "tags": []
          }
        },
        {
          "output_type": "display_data",
          "data": {
            "text/html": [
              "<span style=\"color:cyan\"> |-conv_block_2/kernel_size: 3</span>"
            ],
            "text/plain": [
              "<IPython.core.display.HTML object>"
            ]
          },
          "metadata": {
            "tags": []
          }
        },
        {
          "output_type": "display_data",
          "data": {
            "text/html": [
              "<span style=\"color:blue\"> |-conv_block_2/max_pooling: False</span>"
            ],
            "text/plain": [
              "<IPython.core.display.HTML object>"
            ]
          },
          "metadata": {
            "tags": []
          }
        },
        {
          "output_type": "display_data",
          "data": {
            "text/html": [
              "<span style=\"color:cyan\"> |-conv_block_2/num_blocks: 2</span>"
            ],
            "text/plain": [
              "<IPython.core.display.HTML object>"
            ]
          },
          "metadata": {
            "tags": []
          }
        },
        {
          "output_type": "display_data",
          "data": {
            "text/html": [
              "<span style=\"color:blue\"> |-conv_block_2/num_layers: 1</span>"
            ],
            "text/plain": [
              "<IPython.core.display.HTML object>"
            ]
          },
          "metadata": {
            "tags": []
          }
        },
        {
          "output_type": "display_data",
          "data": {
            "text/html": [
              "<span style=\"color:cyan\"> |-conv_block_2/separable: False</span>"
            ],
            "text/plain": [
              "<IPython.core.display.HTML object>"
            ]
          },
          "metadata": {
            "tags": []
          }
        },
        {
          "output_type": "display_data",
          "data": {
            "text/html": [
              "<span style=\"color:blue\"> |-merge_2/merge_type: concatenate</span>"
            ],
            "text/plain": [
              "<IPython.core.display.HTML object>"
            ]
          },
          "metadata": {
            "tags": []
          }
        },
        {
          "output_type": "display_data",
          "data": {
            "text/html": [
              "<span style=\"color:cyan\"> |-optimizer: adam</span>"
            ],
            "text/plain": [
              "<IPython.core.display.HTML object>"
            ]
          },
          "metadata": {
            "tags": []
          }
        },
        {
          "output_type": "display_data",
          "data": {
            "text/html": [
              "<span style=\"color:blue\"> |-res_net_block_2/conv3_depth: 8</span>"
            ],
            "text/plain": [
              "<IPython.core.display.HTML object>"
            ]
          },
          "metadata": {
            "tags": []
          }
        },
        {
          "output_type": "display_data",
          "data": {
            "text/html": [
              "<span style=\"color:cyan\"> |-res_net_block_2/conv4_depth: 36</span>"
            ],
            "text/plain": [
              "<IPython.core.display.HTML object>"
            ]
          },
          "metadata": {
            "tags": []
          }
        },
        {
          "output_type": "display_data",
          "data": {
            "text/html": [
              "<span style=\"color:blue\"> |-res_net_block_2/pooling: avg</span>"
            ],
            "text/plain": [
              "<IPython.core.display.HTML object>"
            ]
          },
          "metadata": {
            "tags": []
          }
        },
        {
          "output_type": "display_data",
          "data": {
            "text/html": [
              "<span style=\"color:cyan\"> |-res_net_block_2/version: v1</span>"
            ],
            "text/plain": [
              "<IPython.core.display.HTML object>"
            ]
          },
          "metadata": {
            "tags": []
          }
        },
        {
          "output_type": "display_data",
          "data": {
            "text/html": [
              "<span style=\"color:blue\"> |-xception_block_2/activation: selu</span>"
            ],
            "text/plain": [
              "<IPython.core.display.HTML object>"
            ]
          },
          "metadata": {
            "tags": []
          }
        },
        {
          "output_type": "display_data",
          "data": {
            "text/html": [
              "<span style=\"color:cyan\"> |-xception_block_2/conv2d_num_filters: 64</span>"
            ],
            "text/plain": [
              "<IPython.core.display.HTML object>"
            ]
          },
          "metadata": {
            "tags": []
          }
        },
        {
          "output_type": "display_data",
          "data": {
            "text/html": [
              "<span style=\"color:blue\"> |-xception_block_2/initial_strides: 2</span>"
            ],
            "text/plain": [
              "<IPython.core.display.HTML object>"
            ]
          },
          "metadata": {
            "tags": []
          }
        },
        {
          "output_type": "display_data",
          "data": {
            "text/html": [
              "<span style=\"color:cyan\"> |-xception_block_2/kernel_size: 5</span>"
            ],
            "text/plain": [
              "<IPython.core.display.HTML object>"
            ]
          },
          "metadata": {
            "tags": []
          }
        },
        {
          "output_type": "display_data",
          "data": {
            "text/html": [
              "<span style=\"color:blue\"> |-xception_block_2/num_residual_blocks: 3</span>"
            ],
            "text/plain": [
              "<IPython.core.display.HTML object>"
            ]
          },
          "metadata": {
            "tags": []
          }
        },
        {
          "output_type": "display_data",
          "data": {
            "text/html": [
              "<span style=\"color:cyan\"> |-xception_block_2/pooling: avg</span>"
            ],
            "text/plain": [
              "<IPython.core.display.HTML object>"
            ]
          },
          "metadata": {
            "tags": []
          }
        },
        {
          "output_type": "display_data",
          "data": {
            "text/html": [
              "<span style=\"color:blue\"> |-xception_block_2/sep_num_filters: 640</span>"
            ],
            "text/plain": [
              "<IPython.core.display.HTML object>"
            ]
          },
          "metadata": {
            "tags": []
          }
        },
        {
          "output_type": "stream",
          "text": [
            "Train for 1250 steps, validate for 313 steps\n",
            "Epoch 1/100\n",
            "1250/1250 [==============================] - 135s 108ms/step - loss: 1.5731 - accuracy: 0.4894 - val_loss: 3.2555 - val_accuracy: 0.4596\n",
            "Epoch 2/100\n",
            "1250/1250 [==============================] - 126s 101ms/step - loss: 1.0495 - accuracy: 0.6571 - val_loss: 1.0984 - val_accuracy: 0.6483\n",
            "Epoch 3/100\n",
            "1250/1250 [==============================] - 126s 101ms/step - loss: 0.8063 - accuracy: 0.7323 - val_loss: 0.9417 - val_accuracy: 0.7135\n",
            "Epoch 4/100\n",
            "1250/1250 [==============================] - 125s 100ms/step - loss: 0.6117 - accuracy: 0.7914 - val_loss: 1.2246 - val_accuracy: 0.7005\n",
            "Epoch 5/100\n",
            "1250/1250 [==============================] - 126s 101ms/step - loss: 0.4652 - accuracy: 0.8400 - val_loss: 0.9161 - val_accuracy: 0.7291\n",
            "Epoch 6/100\n",
            "1250/1250 [==============================] - 125s 100ms/step - loss: 0.3708 - accuracy: 0.8719 - val_loss: 1.3058 - val_accuracy: 0.7065\n",
            "Epoch 7/100\n",
            "1250/1250 [==============================] - 125s 100ms/step - loss: 0.2999 - accuracy: 0.8951 - val_loss: 1.3478 - val_accuracy: 0.6993\n",
            "Epoch 8/100\n",
            "1250/1250 [==============================] - 125s 100ms/step - loss: 0.2487 - accuracy: 0.9114 - val_loss: 1.7810 - val_accuracy: 0.6631\n",
            "Epoch 9/100\n",
            "1250/1250 [==============================] - 125s 100ms/step - loss: 0.2102 - accuracy: 0.9259 - val_loss: 1.2156 - val_accuracy: 0.7448\n",
            "Epoch 10/100\n",
            "1250/1250 [==============================] - 125s 100ms/step - loss: 0.1818 - accuracy: 0.9363 - val_loss: 1.2067 - val_accuracy: 0.7511\n",
            "Epoch 11/100\n",
            "1250/1250 [==============================] - 126s 101ms/step - loss: 0.1613 - accuracy: 0.9446 - val_loss: 1.2657 - val_accuracy: 0.7631\n",
            "Epoch 12/100\n",
            "1250/1250 [==============================] - 126s 101ms/step - loss: 0.1402 - accuracy: 0.9521 - val_loss: 1.0570 - val_accuracy: 0.7801\n",
            "Epoch 13/100\n",
            "1250/1250 [==============================] - 125s 100ms/step - loss: 0.1277 - accuracy: 0.9558 - val_loss: 2.0937 - val_accuracy: 0.7061\n",
            "Epoch 14/100\n",
            "1250/1250 [==============================] - 125s 100ms/step - loss: 0.1159 - accuracy: 0.9598 - val_loss: 1.1743 - val_accuracy: 0.7768\n",
            "Epoch 15/100\n",
            "1250/1250 [==============================] - 124s 99ms/step - loss: 0.1084 - accuracy: 0.9621 - val_loss: 1.0507 - val_accuracy: 0.8030\n"
          ],
          "name": "stdout"
        },
        {
          "output_type": "display_data",
          "data": {
            "text/html": [
              "<span style=\"color:#4527A0\"><h1 style=\"font-size:18px\">Trial complete</h1></span>"
            ],
            "text/plain": [
              "<IPython.core.display.HTML object>"
            ]
          },
          "metadata": {
            "tags": []
          }
        },
        {
          "output_type": "display_data",
          "data": {
            "text/html": [
              "<span style=\"color:#4527A0\"><h1 style=\"font-size:18px\">Trial summary</h1></span>"
            ],
            "text/plain": [
              "<IPython.core.display.HTML object>"
            ]
          },
          "metadata": {
            "tags": []
          }
        },
        {
          "output_type": "display_data",
          "data": {
            "text/html": [
              "<span style=\"color:cyan\"> |-Trial ID: 998e1368df8bed0afcdabef092fd3ebc</span>"
            ],
            "text/plain": [
              "<IPython.core.display.HTML object>"
            ]
          },
          "metadata": {
            "tags": []
          }
        },
        {
          "output_type": "display_data",
          "data": {
            "text/html": [
              "<span style=\"color:cyan\"> |-Score: 0.9161293453301865</span>"
            ],
            "text/plain": [
              "<IPython.core.display.HTML object>"
            ]
          },
          "metadata": {
            "tags": []
          }
        },
        {
          "output_type": "display_data",
          "data": {
            "text/html": [
              "<span style=\"color:cyan\"> |-Best step: 0</span>"
            ],
            "text/plain": [
              "<IPython.core.display.HTML object>"
            ]
          },
          "metadata": {
            "tags": []
          }
        },
        {
          "output_type": "display_data",
          "data": {
            "text/html": [
              "<span style=\"color:#7E57C2\"><h2 style=\"font-size:16px\">Hyperparameters:</h2></span>"
            ],
            "text/plain": [
              "<IPython.core.display.HTML object>"
            ]
          },
          "metadata": {
            "tags": []
          }
        },
        {
          "output_type": "display_data",
          "data": {
            "text/html": [
              "<span style=\"color:cyan\"> |-classification_head_2/dropout_rate: 0.0</span>"
            ],
            "text/plain": [
              "<IPython.core.display.HTML object>"
            ]
          },
          "metadata": {
            "tags": []
          }
        },
        {
          "output_type": "display_data",
          "data": {
            "text/html": [
              "<span style=\"color:blue\"> |-conv_block_2/dropout_rate: 0.0</span>"
            ],
            "text/plain": [
              "<IPython.core.display.HTML object>"
            ]
          },
          "metadata": {
            "tags": []
          }
        },
        {
          "output_type": "display_data",
          "data": {
            "text/html": [
              "<span style=\"color:cyan\"> |-conv_block_2/filters_0_0: 128</span>"
            ],
            "text/plain": [
              "<IPython.core.display.HTML object>"
            ]
          },
          "metadata": {
            "tags": []
          }
        },
        {
          "output_type": "display_data",
          "data": {
            "text/html": [
              "<span style=\"color:blue\"> |-conv_block_2/filters_0_1: 32</span>"
            ],
            "text/plain": [
              "<IPython.core.display.HTML object>"
            ]
          },
          "metadata": {
            "tags": []
          }
        },
        {
          "output_type": "display_data",
          "data": {
            "text/html": [
              "<span style=\"color:cyan\"> |-conv_block_2/filters_1_0: 32</span>"
            ],
            "text/plain": [
              "<IPython.core.display.HTML object>"
            ]
          },
          "metadata": {
            "tags": []
          }
        },
        {
          "output_type": "display_data",
          "data": {
            "text/html": [
              "<span style=\"color:blue\"> |-conv_block_2/filters_1_1: 512</span>"
            ],
            "text/plain": [
              "<IPython.core.display.HTML object>"
            ]
          },
          "metadata": {
            "tags": []
          }
        },
        {
          "output_type": "display_data",
          "data": {
            "text/html": [
              "<span style=\"color:cyan\"> |-conv_block_2/filters_2_0: 256</span>"
            ],
            "text/plain": [
              "<IPython.core.display.HTML object>"
            ]
          },
          "metadata": {
            "tags": []
          }
        },
        {
          "output_type": "display_data",
          "data": {
            "text/html": [
              "<span style=\"color:blue\"> |-conv_block_2/filters_2_1: 256</span>"
            ],
            "text/plain": [
              "<IPython.core.display.HTML object>"
            ]
          },
          "metadata": {
            "tags": []
          }
        },
        {
          "output_type": "display_data",
          "data": {
            "text/html": [
              "<span style=\"color:cyan\"> |-conv_block_2/kernel_size: 5</span>"
            ],
            "text/plain": [
              "<IPython.core.display.HTML object>"
            ]
          },
          "metadata": {
            "tags": []
          }
        },
        {
          "output_type": "display_data",
          "data": {
            "text/html": [
              "<span style=\"color:blue\"> |-conv_block_2/max_pooling: True</span>"
            ],
            "text/plain": [
              "<IPython.core.display.HTML object>"
            ]
          },
          "metadata": {
            "tags": []
          }
        },
        {
          "output_type": "display_data",
          "data": {
            "text/html": [
              "<span style=\"color:cyan\"> |-conv_block_2/num_blocks: 3</span>"
            ],
            "text/plain": [
              "<IPython.core.display.HTML object>"
            ]
          },
          "metadata": {
            "tags": []
          }
        },
        {
          "output_type": "display_data",
          "data": {
            "text/html": [
              "<span style=\"color:blue\"> |-conv_block_2/num_layers: 2</span>"
            ],
            "text/plain": [
              "<IPython.core.display.HTML object>"
            ]
          },
          "metadata": {
            "tags": []
          }
        },
        {
          "output_type": "display_data",
          "data": {
            "text/html": [
              "<span style=\"color:cyan\"> |-conv_block_2/separable: True</span>"
            ],
            "text/plain": [
              "<IPython.core.display.HTML object>"
            ]
          },
          "metadata": {
            "tags": []
          }
        },
        {
          "output_type": "display_data",
          "data": {
            "text/html": [
              "<span style=\"color:blue\"> |-merge_2/merge_type: concatenate</span>"
            ],
            "text/plain": [
              "<IPython.core.display.HTML object>"
            ]
          },
          "metadata": {
            "tags": []
          }
        },
        {
          "output_type": "display_data",
          "data": {
            "text/html": [
              "<span style=\"color:cyan\"> |-optimizer: adam</span>"
            ],
            "text/plain": [
              "<IPython.core.display.HTML object>"
            ]
          },
          "metadata": {
            "tags": []
          }
        },
        {
          "output_type": "display_data",
          "data": {
            "text/html": [
              "<span style=\"color:blue\"> |-res_net_block_2/conv3_depth: 8</span>"
            ],
            "text/plain": [
              "<IPython.core.display.HTML object>"
            ]
          },
          "metadata": {
            "tags": []
          }
        },
        {
          "output_type": "display_data",
          "data": {
            "text/html": [
              "<span style=\"color:cyan\"> |-res_net_block_2/conv4_depth: 6</span>"
            ],
            "text/plain": [
              "<IPython.core.display.HTML object>"
            ]
          },
          "metadata": {
            "tags": []
          }
        },
        {
          "output_type": "display_data",
          "data": {
            "text/html": [
              "<span style=\"color:blue\"> |-res_net_block_2/pooling: avg</span>"
            ],
            "text/plain": [
              "<IPython.core.display.HTML object>"
            ]
          },
          "metadata": {
            "tags": []
          }
        },
        {
          "output_type": "display_data",
          "data": {
            "text/html": [
              "<span style=\"color:cyan\"> |-res_net_block_2/version: v2</span>"
            ],
            "text/plain": [
              "<IPython.core.display.HTML object>"
            ]
          },
          "metadata": {
            "tags": []
          }
        },
        {
          "output_type": "display_data",
          "data": {
            "text/html": [
              "<span style=\"color:blue\"> |-xception_block_2/activation: relu</span>"
            ],
            "text/plain": [
              "<IPython.core.display.HTML object>"
            ]
          },
          "metadata": {
            "tags": []
          }
        },
        {
          "output_type": "display_data",
          "data": {
            "text/html": [
              "<span style=\"color:cyan\"> |-xception_block_2/conv2d_num_filters: 64</span>"
            ],
            "text/plain": [
              "<IPython.core.display.HTML object>"
            ]
          },
          "metadata": {
            "tags": []
          }
        },
        {
          "output_type": "display_data",
          "data": {
            "text/html": [
              "<span style=\"color:blue\"> |-xception_block_2/initial_strides: 2</span>"
            ],
            "text/plain": [
              "<IPython.core.display.HTML object>"
            ]
          },
          "metadata": {
            "tags": []
          }
        },
        {
          "output_type": "display_data",
          "data": {
            "text/html": [
              "<span style=\"color:cyan\"> |-xception_block_2/kernel_size: 3</span>"
            ],
            "text/plain": [
              "<IPython.core.display.HTML object>"
            ]
          },
          "metadata": {
            "tags": []
          }
        },
        {
          "output_type": "display_data",
          "data": {
            "text/html": [
              "<span style=\"color:blue\"> |-xception_block_2/num_residual_blocks: 7</span>"
            ],
            "text/plain": [
              "<IPython.core.display.HTML object>"
            ]
          },
          "metadata": {
            "tags": []
          }
        },
        {
          "output_type": "display_data",
          "data": {
            "text/html": [
              "<span style=\"color:cyan\"> |-xception_block_2/pooling: avg</span>"
            ],
            "text/plain": [
              "<IPython.core.display.HTML object>"
            ]
          },
          "metadata": {
            "tags": []
          }
        },
        {
          "output_type": "display_data",
          "data": {
            "text/html": [
              "<span style=\"color:blue\"> |-xception_block_2/sep_num_filters: 384</span>"
            ],
            "text/plain": [
              "<IPython.core.display.HTML object>"
            ]
          },
          "metadata": {
            "tags": []
          }
        },
        {
          "output_type": "stream",
          "text": [
            "Train for 1250 steps, validate for 313 steps\n",
            "Epoch 1/100\n",
            "1250/1250 [==============================] - 218s 175ms/step - loss: 5.5727 - accuracy: 0.3707 - val_loss: 8.3985 - val_accuracy: 0.4294\n",
            "Epoch 2/100\n",
            "1250/1250 [==============================] - 202s 161ms/step - loss: 3.2644 - accuracy: 0.4766 - val_loss: 2.9319 - val_accuracy: 0.5085\n",
            "Epoch 3/100\n",
            "1250/1250 [==============================] - 202s 162ms/step - loss: 2.3818 - accuracy: 0.5479 - val_loss: 2.2143 - val_accuracy: 0.5346\n",
            "Epoch 4/100\n",
            "1250/1250 [==============================] - 200s 160ms/step - loss: 2.2860 - accuracy: 0.5708 - val_loss: 2.6351 - val_accuracy: 0.5391\n",
            "Epoch 5/100\n",
            "1250/1250 [==============================] - 203s 162ms/step - loss: 1.9626 - accuracy: 0.6134 - val_loss: 2.0206 - val_accuracy: 0.5836\n",
            "Epoch 6/100\n",
            "1250/1250 [==============================] - 202s 161ms/step - loss: 2.6678 - accuracy: 0.5843 - val_loss: 2.0685 - val_accuracy: 0.5551\n",
            "Epoch 7/100\n",
            "1250/1250 [==============================] - 202s 161ms/step - loss: 1.8341 - accuracy: 0.6226 - val_loss: 3.2178 - val_accuracy: 0.5855\n",
            "Epoch 8/100\n",
            "1250/1250 [==============================] - 202s 162ms/step - loss: 1.6012 - accuracy: 0.6709 - val_loss: 1.9976 - val_accuracy: 0.6008\n",
            "Epoch 9/100\n",
            "1250/1250 [==============================] - 201s 161ms/step - loss: 1.7586 - accuracy: 0.6667 - val_loss: 2.0813 - val_accuracy: 0.5988\n",
            "Epoch 10/100\n",
            "1250/1250 [==============================] - 202s 162ms/step - loss: 1.5391 - accuracy: 0.7024 - val_loss: 2.3714 - val_accuracy: 0.6124\n",
            "Epoch 11/100\n",
            "1250/1250 [==============================] - 201s 161ms/step - loss: 1.4043 - accuracy: 0.7254 - val_loss: 3.3023 - val_accuracy: 0.5991\n",
            "Epoch 12/100\n",
            "1250/1250 [==============================] - 202s 161ms/step - loss: 1.4552 - accuracy: 0.7345 - val_loss: 2.6815 - val_accuracy: 0.6144\n",
            "Epoch 13/100\n",
            "1250/1250 [==============================] - 202s 161ms/step - loss: 1.1833 - accuracy: 0.7691 - val_loss: 2.7933 - val_accuracy: 0.6259\n",
            "Epoch 14/100\n",
            "1250/1250 [==============================] - 202s 161ms/step - loss: 1.2701 - accuracy: 0.7717 - val_loss: 3.4309 - val_accuracy: 0.6124\n",
            "Epoch 15/100\n",
            "1250/1250 [==============================] - 201s 161ms/step - loss: 1.1322 - accuracy: 0.7954 - val_loss: 6.0380 - val_accuracy: 0.5919\n",
            "Epoch 16/100\n",
            "1250/1250 [==============================] - 202s 161ms/step - loss: 1.1522 - accuracy: 0.8080 - val_loss: 3.6595 - val_accuracy: 0.6250\n",
            "Epoch 17/100\n",
            "1250/1250 [==============================] - 203s 162ms/step - loss: 0.9738 - accuracy: 0.8285 - val_loss: 3.8724 - val_accuracy: 0.6227\n",
            "Epoch 18/100\n",
            "1250/1250 [==============================] - 203s 162ms/step - loss: 0.9938 - accuracy: 0.8368 - val_loss: 4.4607 - val_accuracy: 0.6253\n"
          ],
          "name": "stdout"
        },
        {
          "output_type": "display_data",
          "data": {
            "text/html": [
              "<span style=\"color:#4527A0\"><h1 style=\"font-size:18px\">Trial complete</h1></span>"
            ],
            "text/plain": [
              "<IPython.core.display.HTML object>"
            ]
          },
          "metadata": {
            "tags": []
          }
        },
        {
          "output_type": "display_data",
          "data": {
            "text/html": [
              "<span style=\"color:#4527A0\"><h1 style=\"font-size:18px\">Trial summary</h1></span>"
            ],
            "text/plain": [
              "<IPython.core.display.HTML object>"
            ]
          },
          "metadata": {
            "tags": []
          }
        },
        {
          "output_type": "display_data",
          "data": {
            "text/html": [
              "<span style=\"color:cyan\"> |-Trial ID: 892d1e72680a463986a8a4915fa0a64b</span>"
            ],
            "text/plain": [
              "<IPython.core.display.HTML object>"
            ]
          },
          "metadata": {
            "tags": []
          }
        },
        {
          "output_type": "display_data",
          "data": {
            "text/html": [
              "<span style=\"color:cyan\"> |-Score: 1.9975774291986095</span>"
            ],
            "text/plain": [
              "<IPython.core.display.HTML object>"
            ]
          },
          "metadata": {
            "tags": []
          }
        },
        {
          "output_type": "display_data",
          "data": {
            "text/html": [
              "<span style=\"color:cyan\"> |-Best step: 0</span>"
            ],
            "text/plain": [
              "<IPython.core.display.HTML object>"
            ]
          },
          "metadata": {
            "tags": []
          }
        },
        {
          "output_type": "display_data",
          "data": {
            "text/html": [
              "<span style=\"color:#7E57C2\"><h2 style=\"font-size:16px\">Hyperparameters:</h2></span>"
            ],
            "text/plain": [
              "<IPython.core.display.HTML object>"
            ]
          },
          "metadata": {
            "tags": []
          }
        },
        {
          "output_type": "display_data",
          "data": {
            "text/html": [
              "<span style=\"color:cyan\"> |-classification_head_2/dropout_rate: 0.5</span>"
            ],
            "text/plain": [
              "<IPython.core.display.HTML object>"
            ]
          },
          "metadata": {
            "tags": []
          }
        },
        {
          "output_type": "display_data",
          "data": {
            "text/html": [
              "<span style=\"color:blue\"> |-conv_block_2/dropout_rate: 0.5</span>"
            ],
            "text/plain": [
              "<IPython.core.display.HTML object>"
            ]
          },
          "metadata": {
            "tags": []
          }
        },
        {
          "output_type": "display_data",
          "data": {
            "text/html": [
              "<span style=\"color:cyan\"> |-conv_block_2/filters_0_0: 128</span>"
            ],
            "text/plain": [
              "<IPython.core.display.HTML object>"
            ]
          },
          "metadata": {
            "tags": []
          }
        },
        {
          "output_type": "display_data",
          "data": {
            "text/html": [
              "<span style=\"color:blue\"> |-conv_block_2/filters_0_1: 16</span>"
            ],
            "text/plain": [
              "<IPython.core.display.HTML object>"
            ]
          },
          "metadata": {
            "tags": []
          }
        },
        {
          "output_type": "display_data",
          "data": {
            "text/html": [
              "<span style=\"color:cyan\"> |-conv_block_2/filters_1_0: 64</span>"
            ],
            "text/plain": [
              "<IPython.core.display.HTML object>"
            ]
          },
          "metadata": {
            "tags": []
          }
        },
        {
          "output_type": "display_data",
          "data": {
            "text/html": [
              "<span style=\"color:blue\"> |-conv_block_2/filters_1_1: 32</span>"
            ],
            "text/plain": [
              "<IPython.core.display.HTML object>"
            ]
          },
          "metadata": {
            "tags": []
          }
        },
        {
          "output_type": "display_data",
          "data": {
            "text/html": [
              "<span style=\"color:cyan\"> |-conv_block_2/filters_2_0: 32</span>"
            ],
            "text/plain": [
              "<IPython.core.display.HTML object>"
            ]
          },
          "metadata": {
            "tags": []
          }
        },
        {
          "output_type": "display_data",
          "data": {
            "text/html": [
              "<span style=\"color:blue\"> |-conv_block_2/filters_2_1: 512</span>"
            ],
            "text/plain": [
              "<IPython.core.display.HTML object>"
            ]
          },
          "metadata": {
            "tags": []
          }
        },
        {
          "output_type": "display_data",
          "data": {
            "text/html": [
              "<span style=\"color:cyan\"> |-conv_block_2/kernel_size: 5</span>"
            ],
            "text/plain": [
              "<IPython.core.display.HTML object>"
            ]
          },
          "metadata": {
            "tags": []
          }
        },
        {
          "output_type": "display_data",
          "data": {
            "text/html": [
              "<span style=\"color:blue\"> |-conv_block_2/max_pooling: True</span>"
            ],
            "text/plain": [
              "<IPython.core.display.HTML object>"
            ]
          },
          "metadata": {
            "tags": []
          }
        },
        {
          "output_type": "display_data",
          "data": {
            "text/html": [
              "<span style=\"color:cyan\"> |-conv_block_2/num_blocks: 2</span>"
            ],
            "text/plain": [
              "<IPython.core.display.HTML object>"
            ]
          },
          "metadata": {
            "tags": []
          }
        },
        {
          "output_type": "display_data",
          "data": {
            "text/html": [
              "<span style=\"color:blue\"> |-conv_block_2/num_layers: 2</span>"
            ],
            "text/plain": [
              "<IPython.core.display.HTML object>"
            ]
          },
          "metadata": {
            "tags": []
          }
        },
        {
          "output_type": "display_data",
          "data": {
            "text/html": [
              "<span style=\"color:cyan\"> |-conv_block_2/separable: True</span>"
            ],
            "text/plain": [
              "<IPython.core.display.HTML object>"
            ]
          },
          "metadata": {
            "tags": []
          }
        },
        {
          "output_type": "display_data",
          "data": {
            "text/html": [
              "<span style=\"color:blue\"> |-merge_2/merge_type: add</span>"
            ],
            "text/plain": [
              "<IPython.core.display.HTML object>"
            ]
          },
          "metadata": {
            "tags": []
          }
        },
        {
          "output_type": "display_data",
          "data": {
            "text/html": [
              "<span style=\"color:cyan\"> |-optimizer: adam</span>"
            ],
            "text/plain": [
              "<IPython.core.display.HTML object>"
            ]
          },
          "metadata": {
            "tags": []
          }
        },
        {
          "output_type": "display_data",
          "data": {
            "text/html": [
              "<span style=\"color:blue\"> |-res_net_block_2/conv3_depth: 8</span>"
            ],
            "text/plain": [
              "<IPython.core.display.HTML object>"
            ]
          },
          "metadata": {
            "tags": []
          }
        },
        {
          "output_type": "display_data",
          "data": {
            "text/html": [
              "<span style=\"color:cyan\"> |-res_net_block_2/conv4_depth: 6</span>"
            ],
            "text/plain": [
              "<IPython.core.display.HTML object>"
            ]
          },
          "metadata": {
            "tags": []
          }
        },
        {
          "output_type": "display_data",
          "data": {
            "text/html": [
              "<span style=\"color:blue\"> |-res_net_block_2/pooling: avg</span>"
            ],
            "text/plain": [
              "<IPython.core.display.HTML object>"
            ]
          },
          "metadata": {
            "tags": []
          }
        },
        {
          "output_type": "display_data",
          "data": {
            "text/html": [
              "<span style=\"color:cyan\"> |-res_net_block_2/version: next</span>"
            ],
            "text/plain": [
              "<IPython.core.display.HTML object>"
            ]
          },
          "metadata": {
            "tags": []
          }
        },
        {
          "output_type": "display_data",
          "data": {
            "text/html": [
              "<span style=\"color:blue\"> |-xception_block_2/activation: relu</span>"
            ],
            "text/plain": [
              "<IPython.core.display.HTML object>"
            ]
          },
          "metadata": {
            "tags": []
          }
        },
        {
          "output_type": "display_data",
          "data": {
            "text/html": [
              "<span style=\"color:cyan\"> |-xception_block_2/conv2d_num_filters: 128</span>"
            ],
            "text/plain": [
              "<IPython.core.display.HTML object>"
            ]
          },
          "metadata": {
            "tags": []
          }
        },
        {
          "output_type": "display_data",
          "data": {
            "text/html": [
              "<span style=\"color:blue\"> |-xception_block_2/initial_strides: 2</span>"
            ],
            "text/plain": [
              "<IPython.core.display.HTML object>"
            ]
          },
          "metadata": {
            "tags": []
          }
        },
        {
          "output_type": "display_data",
          "data": {
            "text/html": [
              "<span style=\"color:cyan\"> |-xception_block_2/kernel_size: 3</span>"
            ],
            "text/plain": [
              "<IPython.core.display.HTML object>"
            ]
          },
          "metadata": {
            "tags": []
          }
        },
        {
          "output_type": "display_data",
          "data": {
            "text/html": [
              "<span style=\"color:blue\"> |-xception_block_2/num_residual_blocks: 8</span>"
            ],
            "text/plain": [
              "<IPython.core.display.HTML object>"
            ]
          },
          "metadata": {
            "tags": []
          }
        },
        {
          "output_type": "display_data",
          "data": {
            "text/html": [
              "<span style=\"color:cyan\"> |-xception_block_2/pooling: flatten</span>"
            ],
            "text/plain": [
              "<IPython.core.display.HTML object>"
            ]
          },
          "metadata": {
            "tags": []
          }
        },
        {
          "output_type": "display_data",
          "data": {
            "text/html": [
              "<span style=\"color:blue\"> |-xception_block_2/sep_num_filters: 640</span>"
            ],
            "text/plain": [
              "<IPython.core.display.HTML object>"
            ]
          },
          "metadata": {
            "tags": []
          }
        },
        {
          "output_type": "stream",
          "text": [
            "Train for 1250 steps, validate for 313 steps\n",
            "Epoch 1/100\n",
            "1250/1250 [==============================] - 170s 136ms/step - loss: 2.6481 - accuracy: 0.4283 - val_loss: 1.8905 - val_accuracy: 0.4894\n",
            "Epoch 2/100\n",
            "1250/1250 [==============================] - 154s 123ms/step - loss: 1.8264 - accuracy: 0.5294 - val_loss: 142.3073 - val_accuracy: 0.4675\n",
            "Epoch 3/100\n",
            "1250/1250 [==============================] - 154s 123ms/step - loss: 1.6921 - accuracy: 0.5623 - val_loss: 31.8750 - val_accuracy: 0.4359\n",
            "Epoch 4/100\n",
            "1250/1250 [==============================] - 154s 123ms/step - loss: 1.5893 - accuracy: 0.5858 - val_loss: 2.7891 - val_accuracy: 0.5411\n",
            "Epoch 5/100\n",
            "1250/1250 [==============================] - 157s 126ms/step - loss: 1.4263 - accuracy: 0.6121 - val_loss: 1.5095 - val_accuracy: 0.5569\n",
            "Epoch 6/100\n",
            "1250/1250 [==============================] - 154s 124ms/step - loss: 1.3306 - accuracy: 0.6357 - val_loss: 4.6222 - val_accuracy: 0.5759\n",
            "Epoch 7/100\n",
            "1250/1250 [==============================] - 157s 126ms/step - loss: 1.3152 - accuracy: 0.6424 - val_loss: 1.3604 - val_accuracy: 0.5810\n",
            "Epoch 8/100\n",
            "1250/1250 [==============================] - 155s 124ms/step - loss: 1.1020 - accuracy: 0.6875 - val_loss: 1.3688 - val_accuracy: 0.6046\n",
            "Epoch 9/100\n",
            "1250/1250 [==============================] - 155s 124ms/step - loss: 1.0634 - accuracy: 0.7082 - val_loss: 2.9455 - val_accuracy: 0.4966\n",
            "Epoch 10/100\n",
            "1250/1250 [==============================] - 155s 124ms/step - loss: 1.0038 - accuracy: 0.7204 - val_loss: 1.9546 - val_accuracy: 0.5297\n",
            "Epoch 11/100\n",
            "1250/1250 [==============================] - 155s 124ms/step - loss: 0.9327 - accuracy: 0.7340 - val_loss: 2.6994 - val_accuracy: 0.4605\n",
            "Epoch 12/100\n",
            "1250/1250 [==============================] - 155s 124ms/step - loss: 0.8692 - accuracy: 0.7414 - val_loss: 1.7116 - val_accuracy: 0.5661\n",
            "Epoch 13/100\n",
            "1250/1250 [==============================] - 156s 125ms/step - loss: 0.7791 - accuracy: 0.7677 - val_loss: 1.8480 - val_accuracy: 0.5880\n",
            "Epoch 14/100\n",
            "1250/1250 [==============================] - 158s 127ms/step - loss: 0.7318 - accuracy: 0.7828 - val_loss: 4.5165 - val_accuracy: 0.4314\n",
            "Epoch 15/100\n",
            "1250/1250 [==============================] - 156s 125ms/step - loss: 0.7349 - accuracy: 0.7819 - val_loss: 2.1821 - val_accuracy: 0.5561\n",
            "Epoch 16/100\n",
            "1250/1250 [==============================] - 155s 124ms/step - loss: 0.7223 - accuracy: 0.7880 - val_loss: 1.6858 - val_accuracy: 0.6297\n",
            "Epoch 17/100\n",
            "1250/1250 [==============================] - 155s 124ms/step - loss: 0.7205 - accuracy: 0.7962 - val_loss: 119.3786 - val_accuracy: 0.1294\n"
          ],
          "name": "stdout"
        },
        {
          "output_type": "display_data",
          "data": {
            "text/html": [
              "<span style=\"color:#4527A0\"><h1 style=\"font-size:18px\">Trial complete</h1></span>"
            ],
            "text/plain": [
              "<IPython.core.display.HTML object>"
            ]
          },
          "metadata": {
            "tags": []
          }
        },
        {
          "output_type": "display_data",
          "data": {
            "text/html": [
              "<span style=\"color:#4527A0\"><h1 style=\"font-size:18px\">Trial summary</h1></span>"
            ],
            "text/plain": [
              "<IPython.core.display.HTML object>"
            ]
          },
          "metadata": {
            "tags": []
          }
        },
        {
          "output_type": "display_data",
          "data": {
            "text/html": [
              "<span style=\"color:cyan\"> |-Trial ID: 492d15970f76c183fcf9e155421700bb</span>"
            ],
            "text/plain": [
              "<IPython.core.display.HTML object>"
            ]
          },
          "metadata": {
            "tags": []
          }
        },
        {
          "output_type": "display_data",
          "data": {
            "text/html": [
              "<span style=\"color:cyan\"> |-Score: 1.3604443061846894</span>"
            ],
            "text/plain": [
              "<IPython.core.display.HTML object>"
            ]
          },
          "metadata": {
            "tags": []
          }
        },
        {
          "output_type": "display_data",
          "data": {
            "text/html": [
              "<span style=\"color:cyan\"> |-Best step: 0</span>"
            ],
            "text/plain": [
              "<IPython.core.display.HTML object>"
            ]
          },
          "metadata": {
            "tags": []
          }
        },
        {
          "output_type": "display_data",
          "data": {
            "text/html": [
              "<span style=\"color:#7E57C2\"><h2 style=\"font-size:16px\">Hyperparameters:</h2></span>"
            ],
            "text/plain": [
              "<IPython.core.display.HTML object>"
            ]
          },
          "metadata": {
            "tags": []
          }
        },
        {
          "output_type": "display_data",
          "data": {
            "text/html": [
              "<span style=\"color:cyan\"> |-classification_head_2/dropout_rate: 0.5</span>"
            ],
            "text/plain": [
              "<IPython.core.display.HTML object>"
            ]
          },
          "metadata": {
            "tags": []
          }
        },
        {
          "output_type": "display_data",
          "data": {
            "text/html": [
              "<span style=\"color:blue\"> |-conv_block_2/dropout_rate: 0.25</span>"
            ],
            "text/plain": [
              "<IPython.core.display.HTML object>"
            ]
          },
          "metadata": {
            "tags": []
          }
        },
        {
          "output_type": "display_data",
          "data": {
            "text/html": [
              "<span style=\"color:cyan\"> |-conv_block_2/filters_0_0: 64</span>"
            ],
            "text/plain": [
              "<IPython.core.display.HTML object>"
            ]
          },
          "metadata": {
            "tags": []
          }
        },
        {
          "output_type": "display_data",
          "data": {
            "text/html": [
              "<span style=\"color:blue\"> |-conv_block_2/filters_0_1: 16</span>"
            ],
            "text/plain": [
              "<IPython.core.display.HTML object>"
            ]
          },
          "metadata": {
            "tags": []
          }
        },
        {
          "output_type": "display_data",
          "data": {
            "text/html": [
              "<span style=\"color:cyan\"> |-conv_block_2/filters_1_0: 512</span>"
            ],
            "text/plain": [
              "<IPython.core.display.HTML object>"
            ]
          },
          "metadata": {
            "tags": []
          }
        },
        {
          "output_type": "display_data",
          "data": {
            "text/html": [
              "<span style=\"color:blue\"> |-conv_block_2/filters_1_1: 256</span>"
            ],
            "text/plain": [
              "<IPython.core.display.HTML object>"
            ]
          },
          "metadata": {
            "tags": []
          }
        },
        {
          "output_type": "display_data",
          "data": {
            "text/html": [
              "<span style=\"color:cyan\"> |-conv_block_2/filters_2_0: 128</span>"
            ],
            "text/plain": [
              "<IPython.core.display.HTML object>"
            ]
          },
          "metadata": {
            "tags": []
          }
        },
        {
          "output_type": "display_data",
          "data": {
            "text/html": [
              "<span style=\"color:blue\"> |-conv_block_2/filters_2_1: 16</span>"
            ],
            "text/plain": [
              "<IPython.core.display.HTML object>"
            ]
          },
          "metadata": {
            "tags": []
          }
        },
        {
          "output_type": "display_data",
          "data": {
            "text/html": [
              "<span style=\"color:cyan\"> |-conv_block_2/kernel_size: 7</span>"
            ],
            "text/plain": [
              "<IPython.core.display.HTML object>"
            ]
          },
          "metadata": {
            "tags": []
          }
        },
        {
          "output_type": "display_data",
          "data": {
            "text/html": [
              "<span style=\"color:blue\"> |-conv_block_2/max_pooling: False</span>"
            ],
            "text/plain": [
              "<IPython.core.display.HTML object>"
            ]
          },
          "metadata": {
            "tags": []
          }
        },
        {
          "output_type": "display_data",
          "data": {
            "text/html": [
              "<span style=\"color:cyan\"> |-conv_block_2/num_blocks: 1</span>"
            ],
            "text/plain": [
              "<IPython.core.display.HTML object>"
            ]
          },
          "metadata": {
            "tags": []
          }
        },
        {
          "output_type": "display_data",
          "data": {
            "text/html": [
              "<span style=\"color:blue\"> |-conv_block_2/num_layers: 1</span>"
            ],
            "text/plain": [
              "<IPython.core.display.HTML object>"
            ]
          },
          "metadata": {
            "tags": []
          }
        },
        {
          "output_type": "display_data",
          "data": {
            "text/html": [
              "<span style=\"color:cyan\"> |-conv_block_2/separable: False</span>"
            ],
            "text/plain": [
              "<IPython.core.display.HTML object>"
            ]
          },
          "metadata": {
            "tags": []
          }
        },
        {
          "output_type": "display_data",
          "data": {
            "text/html": [
              "<span style=\"color:blue\"> |-merge_2/merge_type: concatenate</span>"
            ],
            "text/plain": [
              "<IPython.core.display.HTML object>"
            ]
          },
          "metadata": {
            "tags": []
          }
        },
        {
          "output_type": "display_data",
          "data": {
            "text/html": [
              "<span style=\"color:cyan\"> |-optimizer: adam</span>"
            ],
            "text/plain": [
              "<IPython.core.display.HTML object>"
            ]
          },
          "metadata": {
            "tags": []
          }
        },
        {
          "output_type": "display_data",
          "data": {
            "text/html": [
              "<span style=\"color:blue\"> |-res_net_block_2/conv3_depth: 8</span>"
            ],
            "text/plain": [
              "<IPython.core.display.HTML object>"
            ]
          },
          "metadata": {
            "tags": []
          }
        },
        {
          "output_type": "display_data",
          "data": {
            "text/html": [
              "<span style=\"color:cyan\"> |-res_net_block_2/conv4_depth: 23</span>"
            ],
            "text/plain": [
              "<IPython.core.display.HTML object>"
            ]
          },
          "metadata": {
            "tags": []
          }
        },
        {
          "output_type": "display_data",
          "data": {
            "text/html": [
              "<span style=\"color:blue\"> |-res_net_block_2/pooling: avg</span>"
            ],
            "text/plain": [
              "<IPython.core.display.HTML object>"
            ]
          },
          "metadata": {
            "tags": []
          }
        },
        {
          "output_type": "display_data",
          "data": {
            "text/html": [
              "<span style=\"color:cyan\"> |-res_net_block_2/version: v1</span>"
            ],
            "text/plain": [
              "<IPython.core.display.HTML object>"
            ]
          },
          "metadata": {
            "tags": []
          }
        },
        {
          "output_type": "display_data",
          "data": {
            "text/html": [
              "<span style=\"color:blue\"> |-xception_block_2/activation: relu</span>"
            ],
            "text/plain": [
              "<IPython.core.display.HTML object>"
            ]
          },
          "metadata": {
            "tags": []
          }
        },
        {
          "output_type": "display_data",
          "data": {
            "text/html": [
              "<span style=\"color:cyan\"> |-xception_block_2/conv2d_num_filters: 32</span>"
            ],
            "text/plain": [
              "<IPython.core.display.HTML object>"
            ]
          },
          "metadata": {
            "tags": []
          }
        },
        {
          "output_type": "display_data",
          "data": {
            "text/html": [
              "<span style=\"color:blue\"> |-xception_block_2/initial_strides: 2</span>"
            ],
            "text/plain": [
              "<IPython.core.display.HTML object>"
            ]
          },
          "metadata": {
            "tags": []
          }
        },
        {
          "output_type": "display_data",
          "data": {
            "text/html": [
              "<span style=\"color:cyan\"> |-xception_block_2/kernel_size: 3</span>"
            ],
            "text/plain": [
              "<IPython.core.display.HTML object>"
            ]
          },
          "metadata": {
            "tags": []
          }
        },
        {
          "output_type": "display_data",
          "data": {
            "text/html": [
              "<span style=\"color:blue\"> |-xception_block_2/num_residual_blocks: 2</span>"
            ],
            "text/plain": [
              "<IPython.core.display.HTML object>"
            ]
          },
          "metadata": {
            "tags": []
          }
        },
        {
          "output_type": "display_data",
          "data": {
            "text/html": [
              "<span style=\"color:cyan\"> |-xception_block_2/pooling: flatten</span>"
            ],
            "text/plain": [
              "<IPython.core.display.HTML object>"
            ]
          },
          "metadata": {
            "tags": []
          }
        },
        {
          "output_type": "display_data",
          "data": {
            "text/html": [
              "<span style=\"color:blue\"> |-xception_block_2/sep_num_filters: 640</span>"
            ],
            "text/plain": [
              "<IPython.core.display.HTML object>"
            ]
          },
          "metadata": {
            "tags": []
          }
        },
        {
          "output_type": "stream",
          "text": [
            "Train for 1250 steps, validate for 313 steps\n",
            "Epoch 1/100\n",
            "1250/1250 [==============================] - 68s 54ms/step - loss: 2.2330 - accuracy: 0.4306 - val_loss: 3.6358 - val_accuracy: 0.4520\n",
            "Epoch 2/100\n",
            "1250/1250 [==============================] - 61s 49ms/step - loss: 1.6933 - accuracy: 0.5424 - val_loss: 3.0212 - val_accuracy: 0.5237\n",
            "Epoch 3/100\n",
            "1250/1250 [==============================] - 61s 49ms/step - loss: 1.3972 - accuracy: 0.5999 - val_loss: 1.6107 - val_accuracy: 0.5745\n",
            "Epoch 4/100\n",
            "1250/1250 [==============================] - 60s 48ms/step - loss: 1.1129 - accuracy: 0.6558 - val_loss: 1.6630 - val_accuracy: 0.5825\n",
            "Epoch 5/100\n",
            "1250/1250 [==============================] - 61s 48ms/step - loss: 0.9858 - accuracy: 0.6881 - val_loss: 1.9116 - val_accuracy: 0.5741\n",
            "Epoch 6/100\n",
            "1250/1250 [==============================] - 62s 49ms/step - loss: 0.8963 - accuracy: 0.7171 - val_loss: 1.5859 - val_accuracy: 0.6112\n",
            "Epoch 7/100\n",
            "1250/1250 [==============================] - 61s 49ms/step - loss: 0.7802 - accuracy: 0.7452 - val_loss: 1.5953 - val_accuracy: 0.5929\n",
            "Epoch 8/100\n",
            "1250/1250 [==============================] - 62s 49ms/step - loss: 0.7028 - accuracy: 0.7741 - val_loss: 1.4431 - val_accuracy: 0.6399\n",
            "Epoch 9/100\n",
            "1250/1250 [==============================] - 61s 48ms/step - loss: 0.6279 - accuracy: 0.7962 - val_loss: 1.4493 - val_accuracy: 0.6565\n",
            "Epoch 10/100\n",
            "1250/1250 [==============================] - 61s 48ms/step - loss: 0.5734 - accuracy: 0.8126 - val_loss: 1.5886 - val_accuracy: 0.6506\n",
            "Epoch 11/100\n",
            "1250/1250 [==============================] - 61s 48ms/step - loss: 0.5263 - accuracy: 0.8296 - val_loss: 1.4868 - val_accuracy: 0.6717\n",
            "Epoch 12/100\n",
            "1250/1250 [==============================] - 61s 49ms/step - loss: 0.4669 - accuracy: 0.8475 - val_loss: 1.9170 - val_accuracy: 0.6341\n",
            "Epoch 13/100\n",
            "1250/1250 [==============================] - 61s 48ms/step - loss: 0.4428 - accuracy: 0.8569 - val_loss: 1.6907 - val_accuracy: 0.6744\n",
            "Epoch 14/100\n",
            "1250/1250 [==============================] - 60s 48ms/step - loss: 0.4171 - accuracy: 0.8673 - val_loss: 1.7968 - val_accuracy: 0.6652\n",
            "Epoch 15/100\n",
            "1250/1250 [==============================] - 60s 48ms/step - loss: 0.3831 - accuracy: 0.8780 - val_loss: 1.8509 - val_accuracy: 0.6651\n",
            "Epoch 16/100\n",
            "1250/1250 [==============================] - 61s 48ms/step - loss: 0.3543 - accuracy: 0.8866 - val_loss: 1.9217 - val_accuracy: 0.6765\n",
            "Epoch 17/100\n",
            "1250/1250 [==============================] - 61s 48ms/step - loss: 0.3433 - accuracy: 0.8930 - val_loss: 2.0200 - val_accuracy: 0.6775\n",
            "Epoch 18/100\n",
            "1250/1250 [==============================] - 60s 48ms/step - loss: 0.3255 - accuracy: 0.8993 - val_loss: 2.1489 - val_accuracy: 0.6671\n"
          ],
          "name": "stdout"
        },
        {
          "output_type": "display_data",
          "data": {
            "text/html": [
              "<span style=\"color:#4527A0\"><h1 style=\"font-size:18px\">Trial complete</h1></span>"
            ],
            "text/plain": [
              "<IPython.core.display.HTML object>"
            ]
          },
          "metadata": {
            "tags": []
          }
        },
        {
          "output_type": "display_data",
          "data": {
            "text/html": [
              "<span style=\"color:#4527A0\"><h1 style=\"font-size:18px\">Trial summary</h1></span>"
            ],
            "text/plain": [
              "<IPython.core.display.HTML object>"
            ]
          },
          "metadata": {
            "tags": []
          }
        },
        {
          "output_type": "display_data",
          "data": {
            "text/html": [
              "<span style=\"color:cyan\"> |-Trial ID: 04e2a3a3178ed5da8f8771a8bd90a776</span>"
            ],
            "text/plain": [
              "<IPython.core.display.HTML object>"
            ]
          },
          "metadata": {
            "tags": []
          }
        },
        {
          "output_type": "display_data",
          "data": {
            "text/html": [
              "<span style=\"color:cyan\"> |-Score: 1.44306609834345</span>"
            ],
            "text/plain": [
              "<IPython.core.display.HTML object>"
            ]
          },
          "metadata": {
            "tags": []
          }
        },
        {
          "output_type": "display_data",
          "data": {
            "text/html": [
              "<span style=\"color:cyan\"> |-Best step: 0</span>"
            ],
            "text/plain": [
              "<IPython.core.display.HTML object>"
            ]
          },
          "metadata": {
            "tags": []
          }
        },
        {
          "output_type": "display_data",
          "data": {
            "text/html": [
              "<span style=\"color:#7E57C2\"><h2 style=\"font-size:16px\">Hyperparameters:</h2></span>"
            ],
            "text/plain": [
              "<IPython.core.display.HTML object>"
            ]
          },
          "metadata": {
            "tags": []
          }
        },
        {
          "output_type": "display_data",
          "data": {
            "text/html": [
              "<span style=\"color:cyan\"> |-classification_head_2/dropout_rate: 0.25</span>"
            ],
            "text/plain": [
              "<IPython.core.display.HTML object>"
            ]
          },
          "metadata": {
            "tags": []
          }
        },
        {
          "output_type": "display_data",
          "data": {
            "text/html": [
              "<span style=\"color:blue\"> |-conv_block_2/dropout_rate: 0.5</span>"
            ],
            "text/plain": [
              "<IPython.core.display.HTML object>"
            ]
          },
          "metadata": {
            "tags": []
          }
        },
        {
          "output_type": "display_data",
          "data": {
            "text/html": [
              "<span style=\"color:cyan\"> |-conv_block_2/filters_0_0: 32</span>"
            ],
            "text/plain": [
              "<IPython.core.display.HTML object>"
            ]
          },
          "metadata": {
            "tags": []
          }
        },
        {
          "output_type": "display_data",
          "data": {
            "text/html": [
              "<span style=\"color:blue\"> |-conv_block_2/filters_0_1: 128</span>"
            ],
            "text/plain": [
              "<IPython.core.display.HTML object>"
            ]
          },
          "metadata": {
            "tags": []
          }
        },
        {
          "output_type": "display_data",
          "data": {
            "text/html": [
              "<span style=\"color:cyan\"> |-conv_block_2/filters_1_0: 16</span>"
            ],
            "text/plain": [
              "<IPython.core.display.HTML object>"
            ]
          },
          "metadata": {
            "tags": []
          }
        },
        {
          "output_type": "display_data",
          "data": {
            "text/html": [
              "<span style=\"color:blue\"> |-conv_block_2/filters_1_1: 512</span>"
            ],
            "text/plain": [
              "<IPython.core.display.HTML object>"
            ]
          },
          "metadata": {
            "tags": []
          }
        },
        {
          "output_type": "display_data",
          "data": {
            "text/html": [
              "<span style=\"color:cyan\"> |-conv_block_2/filters_2_0: 16</span>"
            ],
            "text/plain": [
              "<IPython.core.display.HTML object>"
            ]
          },
          "metadata": {
            "tags": []
          }
        },
        {
          "output_type": "display_data",
          "data": {
            "text/html": [
              "<span style=\"color:blue\"> |-conv_block_2/filters_2_1: 32</span>"
            ],
            "text/plain": [
              "<IPython.core.display.HTML object>"
            ]
          },
          "metadata": {
            "tags": []
          }
        },
        {
          "output_type": "display_data",
          "data": {
            "text/html": [
              "<span style=\"color:cyan\"> |-conv_block_2/kernel_size: 7</span>"
            ],
            "text/plain": [
              "<IPython.core.display.HTML object>"
            ]
          },
          "metadata": {
            "tags": []
          }
        },
        {
          "output_type": "display_data",
          "data": {
            "text/html": [
              "<span style=\"color:blue\"> |-conv_block_2/max_pooling: True</span>"
            ],
            "text/plain": [
              "<IPython.core.display.HTML object>"
            ]
          },
          "metadata": {
            "tags": []
          }
        },
        {
          "output_type": "display_data",
          "data": {
            "text/html": [
              "<span style=\"color:cyan\"> |-conv_block_2/num_blocks: 1</span>"
            ],
            "text/plain": [
              "<IPython.core.display.HTML object>"
            ]
          },
          "metadata": {
            "tags": []
          }
        },
        {
          "output_type": "display_data",
          "data": {
            "text/html": [
              "<span style=\"color:blue\"> |-conv_block_2/num_layers: 1</span>"
            ],
            "text/plain": [
              "<IPython.core.display.HTML object>"
            ]
          },
          "metadata": {
            "tags": []
          }
        },
        {
          "output_type": "display_data",
          "data": {
            "text/html": [
              "<span style=\"color:cyan\"> |-conv_block_2/separable: False</span>"
            ],
            "text/plain": [
              "<IPython.core.display.HTML object>"
            ]
          },
          "metadata": {
            "tags": []
          }
        },
        {
          "output_type": "display_data",
          "data": {
            "text/html": [
              "<span style=\"color:blue\"> |-merge_2/merge_type: concatenate</span>"
            ],
            "text/plain": [
              "<IPython.core.display.HTML object>"
            ]
          },
          "metadata": {
            "tags": []
          }
        },
        {
          "output_type": "display_data",
          "data": {
            "text/html": [
              "<span style=\"color:cyan\"> |-optimizer: adam</span>"
            ],
            "text/plain": [
              "<IPython.core.display.HTML object>"
            ]
          },
          "metadata": {
            "tags": []
          }
        },
        {
          "output_type": "display_data",
          "data": {
            "text/html": [
              "<span style=\"color:blue\"> |-res_net_block_2/conv3_depth: 4</span>"
            ],
            "text/plain": [
              "<IPython.core.display.HTML object>"
            ]
          },
          "metadata": {
            "tags": []
          }
        },
        {
          "output_type": "display_data",
          "data": {
            "text/html": [
              "<span style=\"color:cyan\"> |-res_net_block_2/conv4_depth: 6</span>"
            ],
            "text/plain": [
              "<IPython.core.display.HTML object>"
            ]
          },
          "metadata": {
            "tags": []
          }
        },
        {
          "output_type": "display_data",
          "data": {
            "text/html": [
              "<span style=\"color:blue\"> |-res_net_block_2/pooling: avg</span>"
            ],
            "text/plain": [
              "<IPython.core.display.HTML object>"
            ]
          },
          "metadata": {
            "tags": []
          }
        },
        {
          "output_type": "display_data",
          "data": {
            "text/html": [
              "<span style=\"color:cyan\"> |-res_net_block_2/version: v2</span>"
            ],
            "text/plain": [
              "<IPython.core.display.HTML object>"
            ]
          },
          "metadata": {
            "tags": []
          }
        },
        {
          "output_type": "display_data",
          "data": {
            "text/html": [
              "<span style=\"color:blue\"> |-xception_block_2/activation: relu</span>"
            ],
            "text/plain": [
              "<IPython.core.display.HTML object>"
            ]
          },
          "metadata": {
            "tags": []
          }
        },
        {
          "output_type": "display_data",
          "data": {
            "text/html": [
              "<span style=\"color:cyan\"> |-xception_block_2/conv2d_num_filters: 128</span>"
            ],
            "text/plain": [
              "<IPython.core.display.HTML object>"
            ]
          },
          "metadata": {
            "tags": []
          }
        },
        {
          "output_type": "display_data",
          "data": {
            "text/html": [
              "<span style=\"color:blue\"> |-xception_block_2/initial_strides: 2</span>"
            ],
            "text/plain": [
              "<IPython.core.display.HTML object>"
            ]
          },
          "metadata": {
            "tags": []
          }
        },
        {
          "output_type": "display_data",
          "data": {
            "text/html": [
              "<span style=\"color:cyan\"> |-xception_block_2/kernel_size: 3</span>"
            ],
            "text/plain": [
              "<IPython.core.display.HTML object>"
            ]
          },
          "metadata": {
            "tags": []
          }
        },
        {
          "output_type": "display_data",
          "data": {
            "text/html": [
              "<span style=\"color:blue\"> |-xception_block_2/num_residual_blocks: 3</span>"
            ],
            "text/plain": [
              "<IPython.core.display.HTML object>"
            ]
          },
          "metadata": {
            "tags": []
          }
        },
        {
          "output_type": "display_data",
          "data": {
            "text/html": [
              "<span style=\"color:cyan\"> |-xception_block_2/pooling: flatten</span>"
            ],
            "text/plain": [
              "<IPython.core.display.HTML object>"
            ]
          },
          "metadata": {
            "tags": []
          }
        },
        {
          "output_type": "display_data",
          "data": {
            "text/html": [
              "<span style=\"color:blue\"> |-xception_block_2/sep_num_filters: 128</span>"
            ],
            "text/plain": [
              "<IPython.core.display.HTML object>"
            ]
          },
          "metadata": {
            "tags": []
          }
        },
        {
          "output_type": "stream",
          "text": [
            "Train for 1250 steps, validate for 313 steps\n",
            "Epoch 1/100\n",
            "1250/1250 [==============================] - 209s 167ms/step - loss: 1.9875 - accuracy: 0.3693 - val_loss: 2.0128 - val_accuracy: 0.3594\n",
            "Epoch 2/100\n",
            "1250/1250 [==============================] - 187s 150ms/step - loss: 1.7163 - accuracy: 0.4525 - val_loss: 2.9097 - val_accuracy: 0.4662\n",
            "Epoch 3/100\n",
            "1250/1250 [==============================] - 190s 152ms/step - loss: 1.5519 - accuracy: 0.4983 - val_loss: 1.4419 - val_accuracy: 0.5098\n",
            "Epoch 4/100\n",
            "1250/1250 [==============================] - 190s 152ms/step - loss: 1.4667 - accuracy: 0.5232 - val_loss: 1.2916 - val_accuracy: 0.5405\n",
            "Epoch 5/100\n",
            "1250/1250 [==============================] - 187s 150ms/step - loss: 1.3838 - accuracy: 0.5382 - val_loss: 1.3760 - val_accuracy: 0.5458\n",
            "Epoch 6/100\n",
            "1250/1250 [==============================] - 192s 153ms/step - loss: 1.2955 - accuracy: 0.5622 - val_loss: 1.2624 - val_accuracy: 0.5544\n",
            "Epoch 7/100\n",
            "1250/1250 [==============================] - 192s 153ms/step - loss: 1.2169 - accuracy: 0.5806 - val_loss: 1.5935 - val_accuracy: 0.5512\n",
            "Epoch 8/100\n",
            "1250/1250 [==============================] - 191s 153ms/step - loss: 1.1670 - accuracy: 0.5980 - val_loss: 1.2455 - val_accuracy: 0.5744\n",
            "Epoch 9/100\n",
            "1250/1250 [==============================] - 191s 153ms/step - loss: 1.1166 - accuracy: 0.6114 - val_loss: 1.1675 - val_accuracy: 0.5866\n",
            "Epoch 10/100\n",
            "1250/1250 [==============================] - 191s 153ms/step - loss: 1.0695 - accuracy: 0.6256 - val_loss: 1.1562 - val_accuracy: 0.6023\n",
            "Epoch 11/100\n",
            "1250/1250 [==============================] - 188s 150ms/step - loss: 1.0198 - accuracy: 0.6409 - val_loss: 1.1757 - val_accuracy: 0.5944\n",
            "Epoch 12/100\n",
            "1250/1250 [==============================] - 189s 151ms/step - loss: 0.9728 - accuracy: 0.6597 - val_loss: 1.1109 - val_accuracy: 0.6202\n",
            "Epoch 13/100\n",
            "1250/1250 [==============================] - 188s 151ms/step - loss: 0.9328 - accuracy: 0.6720 - val_loss: 1.1084 - val_accuracy: 0.6267\n",
            "Epoch 14/100\n",
            "1250/1250 [==============================] - 189s 151ms/step - loss: 0.8835 - accuracy: 0.6874 - val_loss: 1.0603 - val_accuracy: 0.6387\n",
            "Epoch 15/100\n",
            "1250/1250 [==============================] - 189s 151ms/step - loss: 0.8502 - accuracy: 0.7002 - val_loss: 1.0476 - val_accuracy: 0.6401\n",
            "Epoch 16/100\n",
            "1250/1250 [==============================] - 186s 149ms/step - loss: 0.8006 - accuracy: 0.7193 - val_loss: 1.0823 - val_accuracy: 0.6424\n",
            "Epoch 17/100\n",
            "1250/1250 [==============================] - 185s 148ms/step - loss: 0.7746 - accuracy: 0.7268 - val_loss: 1.1037 - val_accuracy: 0.6343\n",
            "Epoch 18/100\n",
            "1250/1250 [==============================] - 189s 151ms/step - loss: 0.7324 - accuracy: 0.7393 - val_loss: 1.0888 - val_accuracy: 0.6385\n",
            "Epoch 19/100\n",
            "1250/1250 [==============================] - 187s 150ms/step - loss: 0.7051 - accuracy: 0.7491 - val_loss: 1.1326 - val_accuracy: 0.6399\n",
            "Epoch 20/100\n",
            "1250/1250 [==============================] - 188s 150ms/step - loss: 0.6841 - accuracy: 0.7546 - val_loss: 1.0638 - val_accuracy: 0.6543\n",
            "Epoch 21/100\n",
            "1250/1250 [==============================] - 187s 150ms/step - loss: 0.6497 - accuracy: 0.7690 - val_loss: 1.1001 - val_accuracy: 0.6540\n",
            "Epoch 22/100\n",
            "1250/1250 [==============================] - 187s 149ms/step - loss: 0.6291 - accuracy: 0.7762 - val_loss: 1.0916 - val_accuracy: 0.6566\n",
            "Epoch 23/100\n",
            "1250/1250 [==============================] - 187s 150ms/step - loss: 0.5985 - accuracy: 0.7863 - val_loss: 1.1658 - val_accuracy: 0.6514\n",
            "Epoch 24/100\n",
            "1250/1250 [==============================] - 185s 148ms/step - loss: 0.5796 - accuracy: 0.7935 - val_loss: 1.0952 - val_accuracy: 0.6691\n",
            "Epoch 25/100\n",
            "1250/1250 [==============================] - 185s 148ms/step - loss: 0.5644 - accuracy: 0.8008 - val_loss: 1.2171 - val_accuracy: 0.6503\n"
          ],
          "name": "stdout"
        },
        {
          "output_type": "display_data",
          "data": {
            "text/html": [
              "<span style=\"color:#4527A0\"><h1 style=\"font-size:18px\">Trial complete</h1></span>"
            ],
            "text/plain": [
              "<IPython.core.display.HTML object>"
            ]
          },
          "metadata": {
            "tags": []
          }
        },
        {
          "output_type": "display_data",
          "data": {
            "text/html": [
              "<span style=\"color:#4527A0\"><h1 style=\"font-size:18px\">Trial summary</h1></span>"
            ],
            "text/plain": [
              "<IPython.core.display.HTML object>"
            ]
          },
          "metadata": {
            "tags": []
          }
        },
        {
          "output_type": "display_data",
          "data": {
            "text/html": [
              "<span style=\"color:cyan\"> |-Trial ID: 131df01590cd2d0e5fdd8e7326c17251</span>"
            ],
            "text/plain": [
              "<IPython.core.display.HTML object>"
            ]
          },
          "metadata": {
            "tags": []
          }
        },
        {
          "output_type": "display_data",
          "data": {
            "text/html": [
              "<span style=\"color:cyan\"> |-Score: 1.0476248591852646</span>"
            ],
            "text/plain": [
              "<IPython.core.display.HTML object>"
            ]
          },
          "metadata": {
            "tags": []
          }
        },
        {
          "output_type": "display_data",
          "data": {
            "text/html": [
              "<span style=\"color:cyan\"> |-Best step: 0</span>"
            ],
            "text/plain": [
              "<IPython.core.display.HTML object>"
            ]
          },
          "metadata": {
            "tags": []
          }
        },
        {
          "output_type": "display_data",
          "data": {
            "text/html": [
              "<span style=\"color:#7E57C2\"><h2 style=\"font-size:16px\">Hyperparameters:</h2></span>"
            ],
            "text/plain": [
              "<IPython.core.display.HTML object>"
            ]
          },
          "metadata": {
            "tags": []
          }
        },
        {
          "output_type": "display_data",
          "data": {
            "text/html": [
              "<span style=\"color:cyan\"> |-classification_head_2/dropout_rate: 0.5</span>"
            ],
            "text/plain": [
              "<IPython.core.display.HTML object>"
            ]
          },
          "metadata": {
            "tags": []
          }
        },
        {
          "output_type": "display_data",
          "data": {
            "text/html": [
              "<span style=\"color:blue\"> |-conv_block_2/dropout_rate: 0.5</span>"
            ],
            "text/plain": [
              "<IPython.core.display.HTML object>"
            ]
          },
          "metadata": {
            "tags": []
          }
        },
        {
          "output_type": "display_data",
          "data": {
            "text/html": [
              "<span style=\"color:cyan\"> |-conv_block_2/filters_0_0: 16</span>"
            ],
            "text/plain": [
              "<IPython.core.display.HTML object>"
            ]
          },
          "metadata": {
            "tags": []
          }
        },
        {
          "output_type": "display_data",
          "data": {
            "text/html": [
              "<span style=\"color:blue\"> |-conv_block_2/filters_0_1: 512</span>"
            ],
            "text/plain": [
              "<IPython.core.display.HTML object>"
            ]
          },
          "metadata": {
            "tags": []
          }
        },
        {
          "output_type": "display_data",
          "data": {
            "text/html": [
              "<span style=\"color:cyan\"> |-conv_block_2/filters_1_0: 32</span>"
            ],
            "text/plain": [
              "<IPython.core.display.HTML object>"
            ]
          },
          "metadata": {
            "tags": []
          }
        },
        {
          "output_type": "display_data",
          "data": {
            "text/html": [
              "<span style=\"color:blue\"> |-conv_block_2/filters_1_1: 32</span>"
            ],
            "text/plain": [
              "<IPython.core.display.HTML object>"
            ]
          },
          "metadata": {
            "tags": []
          }
        },
        {
          "output_type": "display_data",
          "data": {
            "text/html": [
              "<span style=\"color:cyan\"> |-conv_block_2/filters_2_0: 256</span>"
            ],
            "text/plain": [
              "<IPython.core.display.HTML object>"
            ]
          },
          "metadata": {
            "tags": []
          }
        },
        {
          "output_type": "display_data",
          "data": {
            "text/html": [
              "<span style=\"color:blue\"> |-conv_block_2/filters_2_1: 256</span>"
            ],
            "text/plain": [
              "<IPython.core.display.HTML object>"
            ]
          },
          "metadata": {
            "tags": []
          }
        },
        {
          "output_type": "display_data",
          "data": {
            "text/html": [
              "<span style=\"color:cyan\"> |-conv_block_2/kernel_size: 3</span>"
            ],
            "text/plain": [
              "<IPython.core.display.HTML object>"
            ]
          },
          "metadata": {
            "tags": []
          }
        },
        {
          "output_type": "display_data",
          "data": {
            "text/html": [
              "<span style=\"color:blue\"> |-conv_block_2/max_pooling: True</span>"
            ],
            "text/plain": [
              "<IPython.core.display.HTML object>"
            ]
          },
          "metadata": {
            "tags": []
          }
        },
        {
          "output_type": "display_data",
          "data": {
            "text/html": [
              "<span style=\"color:cyan\"> |-conv_block_2/num_blocks: 2</span>"
            ],
            "text/plain": [
              "<IPython.core.display.HTML object>"
            ]
          },
          "metadata": {
            "tags": []
          }
        },
        {
          "output_type": "display_data",
          "data": {
            "text/html": [
              "<span style=\"color:blue\"> |-conv_block_2/num_layers: 2</span>"
            ],
            "text/plain": [
              "<IPython.core.display.HTML object>"
            ]
          },
          "metadata": {
            "tags": []
          }
        },
        {
          "output_type": "display_data",
          "data": {
            "text/html": [
              "<span style=\"color:cyan\"> |-conv_block_2/separable: True</span>"
            ],
            "text/plain": [
              "<IPython.core.display.HTML object>"
            ]
          },
          "metadata": {
            "tags": []
          }
        },
        {
          "output_type": "display_data",
          "data": {
            "text/html": [
              "<span style=\"color:blue\"> |-merge_2/merge_type: add</span>"
            ],
            "text/plain": [
              "<IPython.core.display.HTML object>"
            ]
          },
          "metadata": {
            "tags": []
          }
        },
        {
          "output_type": "display_data",
          "data": {
            "text/html": [
              "<span style=\"color:cyan\"> |-optimizer: adam</span>"
            ],
            "text/plain": [
              "<IPython.core.display.HTML object>"
            ]
          },
          "metadata": {
            "tags": []
          }
        },
        {
          "output_type": "display_data",
          "data": {
            "text/html": [
              "<span style=\"color:blue\"> |-res_net_block_2/conv3_depth: 8</span>"
            ],
            "text/plain": [
              "<IPython.core.display.HTML object>"
            ]
          },
          "metadata": {
            "tags": []
          }
        },
        {
          "output_type": "display_data",
          "data": {
            "text/html": [
              "<span style=\"color:cyan\"> |-res_net_block_2/conv4_depth: 36</span>"
            ],
            "text/plain": [
              "<IPython.core.display.HTML object>"
            ]
          },
          "metadata": {
            "tags": []
          }
        },
        {
          "output_type": "display_data",
          "data": {
            "text/html": [
              "<span style=\"color:blue\"> |-res_net_block_2/pooling: avg</span>"
            ],
            "text/plain": [
              "<IPython.core.display.HTML object>"
            ]
          },
          "metadata": {
            "tags": []
          }
        },
        {
          "output_type": "display_data",
          "data": {
            "text/html": [
              "<span style=\"color:cyan\"> |-res_net_block_2/version: v2</span>"
            ],
            "text/plain": [
              "<IPython.core.display.HTML object>"
            ]
          },
          "metadata": {
            "tags": []
          }
        },
        {
          "output_type": "display_data",
          "data": {
            "text/html": [
              "<span style=\"color:blue\"> |-xception_block_2/activation: selu</span>"
            ],
            "text/plain": [
              "<IPython.core.display.HTML object>"
            ]
          },
          "metadata": {
            "tags": []
          }
        },
        {
          "output_type": "display_data",
          "data": {
            "text/html": [
              "<span style=\"color:cyan\"> |-xception_block_2/conv2d_num_filters: 32</span>"
            ],
            "text/plain": [
              "<IPython.core.display.HTML object>"
            ]
          },
          "metadata": {
            "tags": []
          }
        },
        {
          "output_type": "display_data",
          "data": {
            "text/html": [
              "<span style=\"color:blue\"> |-xception_block_2/initial_strides: 2</span>"
            ],
            "text/plain": [
              "<IPython.core.display.HTML object>"
            ]
          },
          "metadata": {
            "tags": []
          }
        },
        {
          "output_type": "display_data",
          "data": {
            "text/html": [
              "<span style=\"color:cyan\"> |-xception_block_2/kernel_size: 3</span>"
            ],
            "text/plain": [
              "<IPython.core.display.HTML object>"
            ]
          },
          "metadata": {
            "tags": []
          }
        },
        {
          "output_type": "display_data",
          "data": {
            "text/html": [
              "<span style=\"color:blue\"> |-xception_block_2/num_residual_blocks: 7</span>"
            ],
            "text/plain": [
              "<IPython.core.display.HTML object>"
            ]
          },
          "metadata": {
            "tags": []
          }
        },
        {
          "output_type": "display_data",
          "data": {
            "text/html": [
              "<span style=\"color:cyan\"> |-xception_block_2/pooling: avg</span>"
            ],
            "text/plain": [
              "<IPython.core.display.HTML object>"
            ]
          },
          "metadata": {
            "tags": []
          }
        },
        {
          "output_type": "display_data",
          "data": {
            "text/html": [
              "<span style=\"color:blue\"> |-xception_block_2/sep_num_filters: 384</span>"
            ],
            "text/plain": [
              "<IPython.core.display.HTML object>"
            ]
          },
          "metadata": {
            "tags": []
          }
        },
        {
          "output_type": "stream",
          "text": [
            "Train for 1250 steps, validate for 313 steps\n",
            "Epoch 1/100\n",
            "1250/1250 [==============================] - 249s 199ms/step - loss: 1.7093 - accuracy: 0.4978 - val_loss: 2.6459 - val_accuracy: 0.3773\n",
            "Epoch 2/100\n",
            "1250/1250 [==============================] - 207s 165ms/step - loss: 1.2454 - accuracy: 0.6607 - val_loss: 1.6709 - val_accuracy: 0.5824\n",
            "Epoch 3/100\n",
            "1250/1250 [==============================] - 207s 166ms/step - loss: 0.9464 - accuracy: 0.7457 - val_loss: 1.6321 - val_accuracy: 0.6198\n",
            "Epoch 4/100\n",
            "1250/1250 [==============================] - 203s 162ms/step - loss: 0.6557 - accuracy: 0.8167 - val_loss: 2.2814 - val_accuracy: 0.6431\n",
            "Epoch 5/100\n",
            "1250/1250 [==============================] - 203s 163ms/step - loss: 0.4570 - accuracy: 0.8655 - val_loss: 4.1301 - val_accuracy: 0.6294\n",
            "Epoch 6/100\n",
            "1250/1250 [==============================] - 204s 163ms/step - loss: 0.3904 - accuracy: 0.8914 - val_loss: 12.1856 - val_accuracy: 0.6175\n",
            "Epoch 7/100\n",
            "1250/1250 [==============================] - 203s 163ms/step - loss: 0.3330 - accuracy: 0.9092 - val_loss: 2.9037 - val_accuracy: 0.6162\n",
            "Epoch 8/100\n",
            "1250/1250 [==============================] - 203s 163ms/step - loss: 0.2722 - accuracy: 0.9241 - val_loss: 2.0177 - val_accuracy: 0.6838\n",
            "Epoch 9/100\n",
            "1250/1250 [==============================] - 204s 163ms/step - loss: 0.2038 - accuracy: 0.9390 - val_loss: 2.4944 - val_accuracy: 0.6478\n",
            "Epoch 10/100\n",
            "1250/1250 [==============================] - 204s 163ms/step - loss: 0.2692 - accuracy: 0.9318 - val_loss: 6.4997 - val_accuracy: 0.6083\n",
            "Epoch 11/100\n",
            "1250/1250 [==============================] - 203s 163ms/step - loss: 0.2514 - accuracy: 0.9363 - val_loss: 2.9867 - val_accuracy: 0.6580\n",
            "Epoch 12/100\n",
            "1250/1250 [==============================] - 204s 163ms/step - loss: 0.1685 - accuracy: 0.9521 - val_loss: 2.5284 - val_accuracy: 0.6933\n",
            "Epoch 13/100\n",
            "1250/1250 [==============================] - 203s 163ms/step - loss: 0.1480 - accuracy: 0.9584 - val_loss: 2.6859 - val_accuracy: 0.6788\n"
          ],
          "name": "stdout"
        },
        {
          "output_type": "display_data",
          "data": {
            "text/html": [
              "<span style=\"color:#4527A0\"><h1 style=\"font-size:18px\">Trial complete</h1></span>"
            ],
            "text/plain": [
              "<IPython.core.display.HTML object>"
            ]
          },
          "metadata": {
            "tags": []
          }
        },
        {
          "output_type": "display_data",
          "data": {
            "text/html": [
              "<span style=\"color:#4527A0\"><h1 style=\"font-size:18px\">Trial summary</h1></span>"
            ],
            "text/plain": [
              "<IPython.core.display.HTML object>"
            ]
          },
          "metadata": {
            "tags": []
          }
        },
        {
          "output_type": "display_data",
          "data": {
            "text/html": [
              "<span style=\"color:cyan\"> |-Trial ID: 0af05656e829a178b325ac6fd7692d34</span>"
            ],
            "text/plain": [
              "<IPython.core.display.HTML object>"
            ]
          },
          "metadata": {
            "tags": []
          }
        },
        {
          "output_type": "display_data",
          "data": {
            "text/html": [
              "<span style=\"color:cyan\"> |-Score: 1.6320820173706871</span>"
            ],
            "text/plain": [
              "<IPython.core.display.HTML object>"
            ]
          },
          "metadata": {
            "tags": []
          }
        },
        {
          "output_type": "display_data",
          "data": {
            "text/html": [
              "<span style=\"color:cyan\"> |-Best step: 0</span>"
            ],
            "text/plain": [
              "<IPython.core.display.HTML object>"
            ]
          },
          "metadata": {
            "tags": []
          }
        },
        {
          "output_type": "display_data",
          "data": {
            "text/html": [
              "<span style=\"color:#7E57C2\"><h2 style=\"font-size:16px\">Hyperparameters:</h2></span>"
            ],
            "text/plain": [
              "<IPython.core.display.HTML object>"
            ]
          },
          "metadata": {
            "tags": []
          }
        },
        {
          "output_type": "display_data",
          "data": {
            "text/html": [
              "<span style=\"color:cyan\"> |-classification_head_2/dropout_rate: 0.5</span>"
            ],
            "text/plain": [
              "<IPython.core.display.HTML object>"
            ]
          },
          "metadata": {
            "tags": []
          }
        },
        {
          "output_type": "display_data",
          "data": {
            "text/html": [
              "<span style=\"color:blue\"> |-conv_block_2/dropout_rate: 0.0</span>"
            ],
            "text/plain": [
              "<IPython.core.display.HTML object>"
            ]
          },
          "metadata": {
            "tags": []
          }
        },
        {
          "output_type": "display_data",
          "data": {
            "text/html": [
              "<span style=\"color:cyan\"> |-conv_block_2/filters_0_0: 16</span>"
            ],
            "text/plain": [
              "<IPython.core.display.HTML object>"
            ]
          },
          "metadata": {
            "tags": []
          }
        },
        {
          "output_type": "display_data",
          "data": {
            "text/html": [
              "<span style=\"color:blue\"> |-conv_block_2/filters_0_1: 512</span>"
            ],
            "text/plain": [
              "<IPython.core.display.HTML object>"
            ]
          },
          "metadata": {
            "tags": []
          }
        },
        {
          "output_type": "display_data",
          "data": {
            "text/html": [
              "<span style=\"color:cyan\"> |-conv_block_2/filters_1_0: 512</span>"
            ],
            "text/plain": [
              "<IPython.core.display.HTML object>"
            ]
          },
          "metadata": {
            "tags": []
          }
        },
        {
          "output_type": "display_data",
          "data": {
            "text/html": [
              "<span style=\"color:blue\"> |-conv_block_2/filters_1_1: 512</span>"
            ],
            "text/plain": [
              "<IPython.core.display.HTML object>"
            ]
          },
          "metadata": {
            "tags": []
          }
        },
        {
          "output_type": "display_data",
          "data": {
            "text/html": [
              "<span style=\"color:cyan\"> |-conv_block_2/filters_2_0: 512</span>"
            ],
            "text/plain": [
              "<IPython.core.display.HTML object>"
            ]
          },
          "metadata": {
            "tags": []
          }
        },
        {
          "output_type": "display_data",
          "data": {
            "text/html": [
              "<span style=\"color:blue\"> |-conv_block_2/filters_2_1: 16</span>"
            ],
            "text/plain": [
              "<IPython.core.display.HTML object>"
            ]
          },
          "metadata": {
            "tags": []
          }
        },
        {
          "output_type": "display_data",
          "data": {
            "text/html": [
              "<span style=\"color:cyan\"> |-conv_block_2/kernel_size: 3</span>"
            ],
            "text/plain": [
              "<IPython.core.display.HTML object>"
            ]
          },
          "metadata": {
            "tags": []
          }
        },
        {
          "output_type": "display_data",
          "data": {
            "text/html": [
              "<span style=\"color:blue\"> |-conv_block_2/max_pooling: False</span>"
            ],
            "text/plain": [
              "<IPython.core.display.HTML object>"
            ]
          },
          "metadata": {
            "tags": []
          }
        },
        {
          "output_type": "display_data",
          "data": {
            "text/html": [
              "<span style=\"color:cyan\"> |-conv_block_2/num_blocks: 1</span>"
            ],
            "text/plain": [
              "<IPython.core.display.HTML object>"
            ]
          },
          "metadata": {
            "tags": []
          }
        },
        {
          "output_type": "display_data",
          "data": {
            "text/html": [
              "<span style=\"color:blue\"> |-conv_block_2/num_layers: 2</span>"
            ],
            "text/plain": [
              "<IPython.core.display.HTML object>"
            ]
          },
          "metadata": {
            "tags": []
          }
        },
        {
          "output_type": "display_data",
          "data": {
            "text/html": [
              "<span style=\"color:cyan\"> |-conv_block_2/separable: True</span>"
            ],
            "text/plain": [
              "<IPython.core.display.HTML object>"
            ]
          },
          "metadata": {
            "tags": []
          }
        },
        {
          "output_type": "display_data",
          "data": {
            "text/html": [
              "<span style=\"color:blue\"> |-merge_2/merge_type: concatenate</span>"
            ],
            "text/plain": [
              "<IPython.core.display.HTML object>"
            ]
          },
          "metadata": {
            "tags": []
          }
        },
        {
          "output_type": "display_data",
          "data": {
            "text/html": [
              "<span style=\"color:cyan\"> |-optimizer: adam</span>"
            ],
            "text/plain": [
              "<IPython.core.display.HTML object>"
            ]
          },
          "metadata": {
            "tags": []
          }
        },
        {
          "output_type": "display_data",
          "data": {
            "text/html": [
              "<span style=\"color:blue\"> |-res_net_block_2/conv3_depth: 8</span>"
            ],
            "text/plain": [
              "<IPython.core.display.HTML object>"
            ]
          },
          "metadata": {
            "tags": []
          }
        },
        {
          "output_type": "display_data",
          "data": {
            "text/html": [
              "<span style=\"color:cyan\"> |-res_net_block_2/conv4_depth: 36</span>"
            ],
            "text/plain": [
              "<IPython.core.display.HTML object>"
            ]
          },
          "metadata": {
            "tags": []
          }
        },
        {
          "output_type": "display_data",
          "data": {
            "text/html": [
              "<span style=\"color:blue\"> |-res_net_block_2/pooling: max</span>"
            ],
            "text/plain": [
              "<IPython.core.display.HTML object>"
            ]
          },
          "metadata": {
            "tags": []
          }
        },
        {
          "output_type": "display_data",
          "data": {
            "text/html": [
              "<span style=\"color:cyan\"> |-res_net_block_2/version: next</span>"
            ],
            "text/plain": [
              "<IPython.core.display.HTML object>"
            ]
          },
          "metadata": {
            "tags": []
          }
        },
        {
          "output_type": "display_data",
          "data": {
            "text/html": [
              "<span style=\"color:blue\"> |-xception_block_2/activation: relu</span>"
            ],
            "text/plain": [
              "<IPython.core.display.HTML object>"
            ]
          },
          "metadata": {
            "tags": []
          }
        },
        {
          "output_type": "display_data",
          "data": {
            "text/html": [
              "<span style=\"color:cyan\"> |-xception_block_2/conv2d_num_filters: 32</span>"
            ],
            "text/plain": [
              "<IPython.core.display.HTML object>"
            ]
          },
          "metadata": {
            "tags": []
          }
        },
        {
          "output_type": "display_data",
          "data": {
            "text/html": [
              "<span style=\"color:blue\"> |-xception_block_2/initial_strides: 2</span>"
            ],
            "text/plain": [
              "<IPython.core.display.HTML object>"
            ]
          },
          "metadata": {
            "tags": []
          }
        },
        {
          "output_type": "display_data",
          "data": {
            "text/html": [
              "<span style=\"color:cyan\"> |-xception_block_2/kernel_size: 3</span>"
            ],
            "text/plain": [
              "<IPython.core.display.HTML object>"
            ]
          },
          "metadata": {
            "tags": []
          }
        },
        {
          "output_type": "display_data",
          "data": {
            "text/html": [
              "<span style=\"color:blue\"> |-xception_block_2/num_residual_blocks: 7</span>"
            ],
            "text/plain": [
              "<IPython.core.display.HTML object>"
            ]
          },
          "metadata": {
            "tags": []
          }
        },
        {
          "output_type": "display_data",
          "data": {
            "text/html": [
              "<span style=\"color:cyan\"> |-xception_block_2/pooling: avg</span>"
            ],
            "text/plain": [
              "<IPython.core.display.HTML object>"
            ]
          },
          "metadata": {
            "tags": []
          }
        },
        {
          "output_type": "display_data",
          "data": {
            "text/html": [
              "<span style=\"color:blue\"> |-xception_block_2/sep_num_filters: 384</span>"
            ],
            "text/plain": [
              "<IPython.core.display.HTML object>"
            ]
          },
          "metadata": {
            "tags": []
          }
        },
        {
          "output_type": "stream",
          "text": [
            "Train for 1250 steps, validate for 313 steps\n",
            "Epoch 1/100\n",
            "1250/1250 [==============================] - 172s 138ms/step - loss: 4.8840 - accuracy: 0.3659 - val_loss: 7.7269 - val_accuracy: 0.4152\n",
            "Epoch 2/100\n",
            "1250/1250 [==============================] - 159s 127ms/step - loss: 2.4031 - accuracy: 0.4889 - val_loss: 3.9323 - val_accuracy: 0.4609\n",
            "Epoch 3/100\n",
            "1250/1250 [==============================] - 157s 126ms/step - loss: 2.0389 - accuracy: 0.5408 - val_loss: 2.9564 - val_accuracy: 0.5218\n",
            "Epoch 4/100\n",
            "1250/1250 [==============================] - 157s 125ms/step - loss: 1.9965 - accuracy: 0.5692 - val_loss: 2.4404 - val_accuracy: 0.5220\n",
            "Epoch 5/100\n",
            "1250/1250 [==============================] - 154s 123ms/step - loss: 1.7921 - accuracy: 0.6015 - val_loss: 6.5303 - val_accuracy: 0.5659\n",
            "Epoch 6/100\n",
            "1250/1250 [==============================] - 153s 123ms/step - loss: 1.6602 - accuracy: 0.6289 - val_loss: 4.9970 - val_accuracy: 0.5311\n",
            "Epoch 7/100\n",
            "1250/1250 [==============================] - 155s 124ms/step - loss: 1.5191 - accuracy: 0.6564 - val_loss: 3.1273 - val_accuracy: 0.5339\n",
            "Epoch 8/100\n",
            "1250/1250 [==============================] - 162s 130ms/step - loss: 1.3607 - accuracy: 0.6774 - val_loss: 2.1235 - val_accuracy: 0.6033\n",
            "Epoch 9/100\n",
            "1250/1250 [==============================] - 162s 129ms/step - loss: 1.2263 - accuracy: 0.7113 - val_loss: 1.9432 - val_accuracy: 0.6108\n",
            "Epoch 10/100\n",
            "1250/1250 [==============================] - 159s 127ms/step - loss: 1.3890 - accuracy: 0.6939 - val_loss: 1.9672 - val_accuracy: 0.6213\n",
            "Epoch 11/100\n",
            "1250/1250 [==============================] - 158s 127ms/step - loss: 1.0098 - accuracy: 0.7502 - val_loss: 2.3881 - val_accuracy: 0.5987\n",
            "Epoch 12/100\n",
            "1250/1250 [==============================] - 158s 127ms/step - loss: 1.0394 - accuracy: 0.7653 - val_loss: 2.2278 - val_accuracy: 0.6361\n",
            "Epoch 13/100\n",
            "1250/1250 [==============================] - 158s 127ms/step - loss: 0.9959 - accuracy: 0.7772 - val_loss: 2.4397 - val_accuracy: 0.6266\n",
            "Epoch 14/100\n",
            "1250/1250 [==============================] - 158s 127ms/step - loss: 0.8699 - accuracy: 0.7978 - val_loss: 2.7464 - val_accuracy: 0.6111\n",
            "Epoch 15/100\n",
            "1250/1250 [==============================] - 158s 127ms/step - loss: 0.8314 - accuracy: 0.8104 - val_loss: 2.6667 - val_accuracy: 0.6344\n",
            "Epoch 16/100\n",
            "1250/1250 [==============================] - 158s 127ms/step - loss: 0.8301 - accuracy: 0.8192 - val_loss: 2.9813 - val_accuracy: 0.6290\n",
            "Epoch 17/100\n",
            "1250/1250 [==============================] - 159s 127ms/step - loss: 0.7628 - accuracy: 0.8388 - val_loss: 2.8221 - val_accuracy: 0.6298\n",
            "Epoch 18/100\n",
            "1250/1250 [==============================] - 159s 127ms/step - loss: 0.7032 - accuracy: 0.8448 - val_loss: 3.0276 - val_accuracy: 0.6316\n",
            "Epoch 19/100\n",
            "1250/1250 [==============================] - 160s 128ms/step - loss: 0.6846 - accuracy: 0.8566 - val_loss: 3.2700 - val_accuracy: 0.6350\n"
          ],
          "name": "stdout"
        },
        {
          "output_type": "display_data",
          "data": {
            "text/html": [
              "<span style=\"color:#4527A0\"><h1 style=\"font-size:18px\">Trial complete</h1></span>"
            ],
            "text/plain": [
              "<IPython.core.display.HTML object>"
            ]
          },
          "metadata": {
            "tags": []
          }
        },
        {
          "output_type": "display_data",
          "data": {
            "text/html": [
              "<span style=\"color:#4527A0\"><h1 style=\"font-size:18px\">Trial summary</h1></span>"
            ],
            "text/plain": [
              "<IPython.core.display.HTML object>"
            ]
          },
          "metadata": {
            "tags": []
          }
        },
        {
          "output_type": "display_data",
          "data": {
            "text/html": [
              "<span style=\"color:cyan\"> |-Trial ID: bc5fab339402cdd851784f740a7c8587</span>"
            ],
            "text/plain": [
              "<IPython.core.display.HTML object>"
            ]
          },
          "metadata": {
            "tags": []
          }
        },
        {
          "output_type": "display_data",
          "data": {
            "text/html": [
              "<span style=\"color:cyan\"> |-Score: 1.943161119953893</span>"
            ],
            "text/plain": [
              "<IPython.core.display.HTML object>"
            ]
          },
          "metadata": {
            "tags": []
          }
        },
        {
          "output_type": "display_data",
          "data": {
            "text/html": [
              "<span style=\"color:cyan\"> |-Best step: 0</span>"
            ],
            "text/plain": [
              "<IPython.core.display.HTML object>"
            ]
          },
          "metadata": {
            "tags": []
          }
        },
        {
          "output_type": "display_data",
          "data": {
            "text/html": [
              "<span style=\"color:#7E57C2\"><h2 style=\"font-size:16px\">Hyperparameters:</h2></span>"
            ],
            "text/plain": [
              "<IPython.core.display.HTML object>"
            ]
          },
          "metadata": {
            "tags": []
          }
        },
        {
          "output_type": "display_data",
          "data": {
            "text/html": [
              "<span style=\"color:cyan\"> |-classification_head_2/dropout_rate: 0.5</span>"
            ],
            "text/plain": [
              "<IPython.core.display.HTML object>"
            ]
          },
          "metadata": {
            "tags": []
          }
        },
        {
          "output_type": "display_data",
          "data": {
            "text/html": [
              "<span style=\"color:blue\"> |-conv_block_2/dropout_rate: 0.5</span>"
            ],
            "text/plain": [
              "<IPython.core.display.HTML object>"
            ]
          },
          "metadata": {
            "tags": []
          }
        },
        {
          "output_type": "display_data",
          "data": {
            "text/html": [
              "<span style=\"color:cyan\"> |-conv_block_2/filters_0_0: 256</span>"
            ],
            "text/plain": [
              "<IPython.core.display.HTML object>"
            ]
          },
          "metadata": {
            "tags": []
          }
        },
        {
          "output_type": "display_data",
          "data": {
            "text/html": [
              "<span style=\"color:blue\"> |-conv_block_2/filters_0_1: 128</span>"
            ],
            "text/plain": [
              "<IPython.core.display.HTML object>"
            ]
          },
          "metadata": {
            "tags": []
          }
        },
        {
          "output_type": "display_data",
          "data": {
            "text/html": [
              "<span style=\"color:cyan\"> |-conv_block_2/filters_1_0: 256</span>"
            ],
            "text/plain": [
              "<IPython.core.display.HTML object>"
            ]
          },
          "metadata": {
            "tags": []
          }
        },
        {
          "output_type": "display_data",
          "data": {
            "text/html": [
              "<span style=\"color:blue\"> |-conv_block_2/filters_1_1: 32</span>"
            ],
            "text/plain": [
              "<IPython.core.display.HTML object>"
            ]
          },
          "metadata": {
            "tags": []
          }
        },
        {
          "output_type": "display_data",
          "data": {
            "text/html": [
              "<span style=\"color:cyan\"> |-conv_block_2/filters_2_0: 16</span>"
            ],
            "text/plain": [
              "<IPython.core.display.HTML object>"
            ]
          },
          "metadata": {
            "tags": []
          }
        },
        {
          "output_type": "display_data",
          "data": {
            "text/html": [
              "<span style=\"color:blue\"> |-conv_block_2/filters_2_1: 256</span>"
            ],
            "text/plain": [
              "<IPython.core.display.HTML object>"
            ]
          },
          "metadata": {
            "tags": []
          }
        },
        {
          "output_type": "display_data",
          "data": {
            "text/html": [
              "<span style=\"color:cyan\"> |-conv_block_2/kernel_size: 5</span>"
            ],
            "text/plain": [
              "<IPython.core.display.HTML object>"
            ]
          },
          "metadata": {
            "tags": []
          }
        },
        {
          "output_type": "display_data",
          "data": {
            "text/html": [
              "<span style=\"color:blue\"> |-conv_block_2/max_pooling: True</span>"
            ],
            "text/plain": [
              "<IPython.core.display.HTML object>"
            ]
          },
          "metadata": {
            "tags": []
          }
        },
        {
          "output_type": "display_data",
          "data": {
            "text/html": [
              "<span style=\"color:cyan\"> |-conv_block_2/num_blocks: 3</span>"
            ],
            "text/plain": [
              "<IPython.core.display.HTML object>"
            ]
          },
          "metadata": {
            "tags": []
          }
        },
        {
          "output_type": "display_data",
          "data": {
            "text/html": [
              "<span style=\"color:blue\"> |-conv_block_2/num_layers: 1</span>"
            ],
            "text/plain": [
              "<IPython.core.display.HTML object>"
            ]
          },
          "metadata": {
            "tags": []
          }
        },
        {
          "output_type": "display_data",
          "data": {
            "text/html": [
              "<span style=\"color:cyan\"> |-conv_block_2/separable: True</span>"
            ],
            "text/plain": [
              "<IPython.core.display.HTML object>"
            ]
          },
          "metadata": {
            "tags": []
          }
        },
        {
          "output_type": "display_data",
          "data": {
            "text/html": [
              "<span style=\"color:blue\"> |-merge_2/merge_type: add</span>"
            ],
            "text/plain": [
              "<IPython.core.display.HTML object>"
            ]
          },
          "metadata": {
            "tags": []
          }
        },
        {
          "output_type": "display_data",
          "data": {
            "text/html": [
              "<span style=\"color:cyan\"> |-optimizer: adam</span>"
            ],
            "text/plain": [
              "<IPython.core.display.HTML object>"
            ]
          },
          "metadata": {
            "tags": []
          }
        },
        {
          "output_type": "display_data",
          "data": {
            "text/html": [
              "<span style=\"color:blue\"> |-res_net_block_2/conv3_depth: 8</span>"
            ],
            "text/plain": [
              "<IPython.core.display.HTML object>"
            ]
          },
          "metadata": {
            "tags": []
          }
        },
        {
          "output_type": "display_data",
          "data": {
            "text/html": [
              "<span style=\"color:cyan\"> |-res_net_block_2/conv4_depth: 23</span>"
            ],
            "text/plain": [
              "<IPython.core.display.HTML object>"
            ]
          },
          "metadata": {
            "tags": []
          }
        },
        {
          "output_type": "display_data",
          "data": {
            "text/html": [
              "<span style=\"color:blue\"> |-res_net_block_2/pooling: max</span>"
            ],
            "text/plain": [
              "<IPython.core.display.HTML object>"
            ]
          },
          "metadata": {
            "tags": []
          }
        },
        {
          "output_type": "display_data",
          "data": {
            "text/html": [
              "<span style=\"color:cyan\"> |-res_net_block_2/version: v1</span>"
            ],
            "text/plain": [
              "<IPython.core.display.HTML object>"
            ]
          },
          "metadata": {
            "tags": []
          }
        },
        {
          "output_type": "display_data",
          "data": {
            "text/html": [
              "<span style=\"color:blue\"> |-xception_block_2/activation: relu</span>"
            ],
            "text/plain": [
              "<IPython.core.display.HTML object>"
            ]
          },
          "metadata": {
            "tags": []
          }
        },
        {
          "output_type": "display_data",
          "data": {
            "text/html": [
              "<span style=\"color:cyan\"> |-xception_block_2/conv2d_num_filters: 64</span>"
            ],
            "text/plain": [
              "<IPython.core.display.HTML object>"
            ]
          },
          "metadata": {
            "tags": []
          }
        },
        {
          "output_type": "display_data",
          "data": {
            "text/html": [
              "<span style=\"color:blue\"> |-xception_block_2/initial_strides: 2</span>"
            ],
            "text/plain": [
              "<IPython.core.display.HTML object>"
            ]
          },
          "metadata": {
            "tags": []
          }
        },
        {
          "output_type": "display_data",
          "data": {
            "text/html": [
              "<span style=\"color:cyan\"> |-xception_block_2/kernel_size: 5</span>"
            ],
            "text/plain": [
              "<IPython.core.display.HTML object>"
            ]
          },
          "metadata": {
            "tags": []
          }
        },
        {
          "output_type": "display_data",
          "data": {
            "text/html": [
              "<span style=\"color:blue\"> |-xception_block_2/num_residual_blocks: 6</span>"
            ],
            "text/plain": [
              "<IPython.core.display.HTML object>"
            ]
          },
          "metadata": {
            "tags": []
          }
        },
        {
          "output_type": "display_data",
          "data": {
            "text/html": [
              "<span style=\"color:cyan\"> |-xception_block_2/pooling: flatten</span>"
            ],
            "text/plain": [
              "<IPython.core.display.HTML object>"
            ]
          },
          "metadata": {
            "tags": []
          }
        },
        {
          "output_type": "display_data",
          "data": {
            "text/html": [
              "<span style=\"color:blue\"> |-xception_block_2/sep_num_filters: 384</span>"
            ],
            "text/plain": [
              "<IPython.core.display.HTML object>"
            ]
          },
          "metadata": {
            "tags": []
          }
        },
        {
          "output_type": "stream",
          "text": [
            "Train for 1250 steps, validate for 313 steps\n",
            "Epoch 1/100\n",
            "1250/1250 [==============================] - 268s 214ms/step - loss: 2.1432 - accuracy: 0.4394 - val_loss: 2.6592 - val_accuracy: 0.5068\n",
            "Epoch 2/100\n",
            "1250/1250 [==============================] - 246s 197ms/step - loss: 1.5758 - accuracy: 0.5545 - val_loss: 1.9105 - val_accuracy: 0.5364\n",
            "Epoch 3/100\n",
            "1250/1250 [==============================] - 246s 197ms/step - loss: 1.3029 - accuracy: 0.6111 - val_loss: 1.5793 - val_accuracy: 0.5631\n",
            "Epoch 4/100\n",
            "1250/1250 [==============================] - 243s 194ms/step - loss: 1.1759 - accuracy: 0.6416 - val_loss: 5.4209 - val_accuracy: 0.5008\n",
            "Epoch 5/100\n",
            "1250/1250 [==============================] - 242s 194ms/step - loss: 1.1337 - accuracy: 0.6661 - val_loss: 2.0818 - val_accuracy: 0.5557\n",
            "Epoch 6/100\n",
            "1250/1250 [==============================] - 242s 194ms/step - loss: 1.1119 - accuracy: 0.6861 - val_loss: 1.7576 - val_accuracy: 0.6013\n",
            "Epoch 7/100\n",
            "1250/1250 [==============================] - 243s 194ms/step - loss: 1.0562 - accuracy: 0.7084 - val_loss: 1.9552 - val_accuracy: 0.5905\n",
            "Epoch 8/100\n",
            "1250/1250 [==============================] - 242s 194ms/step - loss: 1.0633 - accuracy: 0.7312 - val_loss: 2.2074 - val_accuracy: 0.6061\n",
            "Epoch 9/100\n",
            " 229/1250 [====>.........................] - ETA: 3:04 - loss: 1.0643 - accuracy: 0.7473"
          ],
          "name": "stdout"
        }
      ]
    }
  ]
}