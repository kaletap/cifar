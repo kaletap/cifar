{
  "nbformat": 4,
  "nbformat_minor": 0,
  "metadata": {
    "colab": {
      "name": "cifar_10_experiments.ipynb",
      "provenance": [],
      "collapsed_sections": [],
      "toc_visible": true
    },
    "kernelspec": {
      "name": "python3",
      "display_name": "Python 3"
    },
    "accelerator": "GPU"
  },
  "cells": [
    {
      "cell_type": "markdown",
      "metadata": {
        "id": "PyXFwxaUv_Db",
        "colab_type": "text"
      },
      "source": [
        "## Imports"
      ]
    },
    {
      "cell_type": "code",
      "metadata": {
        "colab_type": "code",
        "id": "8II09-xqvtj3",
        "outputId": "9eb31be9-de3b-47e5-e951-4736c1f76a5e",
        "colab": {
          "base_uri": "https://localhost:8080/",
          "height": 34
        }
      },
      "source": [
        "#!/usr/bin/env python2\n",
        "# -*- coding: utf-8 -*-\n",
        "\"\"\"\n",
        "Created on Fri Nov 17 12:01:13 2017\n",
        "@author: abhijeet\n",
        "\"\"\"\n",
        "\n",
        "import keras\n",
        "from keras.models import Sequential\n",
        "from keras.utils import np_utils\n",
        "from keras.preprocessing.image import ImageDataGenerator\n",
        "from keras.layers import Dense, Activation, Flatten, Dropout, BatchNormalization\n",
        "from keras.layers import Conv2D, MaxPooling2D\n",
        "from keras.datasets import cifar10\n",
        "from keras import regularizers\n",
        "from keras.callbacks import LearningRateScheduler, ModelCheckpoint\n",
        "import numpy as np\n",
        "import os"
      ],
      "execution_count": 3,
      "outputs": [
        {
          "output_type": "stream",
          "text": [
            "Using TensorFlow backend.\n"
          ],
          "name": "stderr"
        }
      ]
    },
    {
      "cell_type": "markdown",
      "metadata": {
        "id": "FcVai18LwB0z",
        "colab_type": "text"
      },
      "source": [
        "## Functions"
      ]
    },
    {
      "cell_type": "code",
      "metadata": {
        "id": "ngaXm_CLvuhK",
        "colab_type": "code",
        "colab": {}
      },
      "source": [
        "def lr_schedule(epoch):\n",
        "    lrate = 0.001\n",
        "    if epoch > 75:\n",
        "        lrate = 0.0005\n",
        "    elif epoch > 100:\n",
        "        lrate = 0.0003        \n",
        "    return lrate"
      ],
      "execution_count": 0,
      "outputs": []
    },
    {
      "cell_type": "markdown",
      "metadata": {
        "id": "25Wr-LeswLnW",
        "colab_type": "text"
      },
      "source": [
        "## Data load and preproccess"
      ]
    },
    {
      "cell_type": "code",
      "metadata": {
        "id": "qkkFNgBAvx8V",
        "colab_type": "code",
        "colab": {}
      },
      "source": [
        "(x_train, y_train), (x_test, y_test) = cifar10.load_data()\n",
        "x_train = x_train.astype('float32')\n",
        "x_test = x_test.astype('float32')\n",
        "\n",
        "#z-score\n",
        "mean = np.mean(x_train,axis=(0,1,2,3))\n",
        "std = np.std(x_train,axis=(0,1,2,3))\n",
        "x_train = (x_train-mean)/(std+1e-7)\n",
        "x_test = (x_test-mean)/(std+1e-7)\n",
        "\n",
        "num_classes = 10\n",
        "y_train = np_utils.to_categorical(y_train,num_classes)\n",
        "y_test = np_utils.to_categorical(y_test,num_classes)\n"
      ],
      "execution_count": 0,
      "outputs": []
    },
    {
      "cell_type": "markdown",
      "metadata": {
        "id": "oCYs6di_wRFb",
        "colab_type": "text"
      },
      "source": [
        "## Model architecture "
      ]
    },
    {
      "cell_type": "code",
      "metadata": {
        "id": "xcla6vqYv7uE",
        "colab_type": "code",
        "outputId": "4e3519da-a313-47d3-cf88-e4f34bd39b9e",
        "colab": {
          "base_uri": "https://localhost:8080/",
          "height": 1000
        }
      },
      "source": [
        "weight_decay = 1e-4\n",
        "\n",
        "model = Sequential()\n",
        "model.add(Conv2D(32, (3,3), padding='same', kernel_regularizer=regularizers.l2(weight_decay), input_shape=x_train.shape[1:]))\n",
        "model.add(Activation('elu'))\n",
        "model.add(BatchNormalization())\n",
        "model.add(Conv2D(32, (3,3), padding='same', kernel_regularizer=regularizers.l2(weight_decay)))\n",
        "model.add(Activation('elu'))\n",
        "model.add(BatchNormalization())\n",
        "model.add(MaxPooling2D(pool_size=(2,2)))\n",
        "model.add(Dropout(0.2))\n",
        "\n",
        "model.add(Conv2D(64, (3,3), padding='same', kernel_regularizer=regularizers.l2(weight_decay)))\n",
        "model.add(Activation('elu'))\n",
        "model.add(BatchNormalization())\n",
        "model.add(Conv2D(64, (3,3), padding='same', kernel_regularizer=regularizers.l2(weight_decay)))\n",
        "model.add(Activation('elu'))\n",
        "model.add(BatchNormalization())\n",
        "model.add(MaxPooling2D(pool_size=(2,2)))\n",
        "model.add(Dropout(0.3))\n",
        "\n",
        "model.add(Conv2D(128, (3,3), padding='same', kernel_regularizer=regularizers.l2(weight_decay)))\n",
        "model.add(Activation('elu'))\n",
        "model.add(BatchNormalization())\n",
        "model.add(Conv2D(128, (3,3), padding='same', kernel_regularizer=regularizers.l2(weight_decay)))\n",
        "model.add(Activation('elu'))\n",
        "model.add(BatchNormalization())\n",
        "model.add(MaxPooling2D(pool_size=(2,2)))\n",
        "model.add(Dropout(0.4))\n",
        "\n",
        "model.add(Flatten())\n",
        "model.add(Dense(num_classes, activation='softmax'))\n",
        "\n",
        "model.summary()"
      ],
      "execution_count": 0,
      "outputs": [
        {
          "output_type": "stream",
          "text": [
            "Model: \"sequential_1\"\n",
            "_________________________________________________________________\n",
            "Layer (type)                 Output Shape              Param #   \n",
            "=================================================================\n",
            "conv2d_1 (Conv2D)            (None, 32, 32, 32)        896       \n",
            "_________________________________________________________________\n",
            "activation_1 (Activation)    (None, 32, 32, 32)        0         \n",
            "_________________________________________________________________\n",
            "batch_normalization_1 (Batch (None, 32, 32, 32)        128       \n",
            "_________________________________________________________________\n",
            "conv2d_2 (Conv2D)            (None, 32, 32, 32)        9248      \n",
            "_________________________________________________________________\n",
            "activation_2 (Activation)    (None, 32, 32, 32)        0         \n",
            "_________________________________________________________________\n",
            "batch_normalization_2 (Batch (None, 32, 32, 32)        128       \n",
            "_________________________________________________________________\n",
            "max_pooling2d_1 (MaxPooling2 (None, 16, 16, 32)        0         \n",
            "_________________________________________________________________\n",
            "dropout_1 (Dropout)          (None, 16, 16, 32)        0         \n",
            "_________________________________________________________________\n",
            "conv2d_3 (Conv2D)            (None, 16, 16, 64)        18496     \n",
            "_________________________________________________________________\n",
            "activation_3 (Activation)    (None, 16, 16, 64)        0         \n",
            "_________________________________________________________________\n",
            "batch_normalization_3 (Batch (None, 16, 16, 64)        256       \n",
            "_________________________________________________________________\n",
            "conv2d_4 (Conv2D)            (None, 16, 16, 64)        36928     \n",
            "_________________________________________________________________\n",
            "activation_4 (Activation)    (None, 16, 16, 64)        0         \n",
            "_________________________________________________________________\n",
            "batch_normalization_4 (Batch (None, 16, 16, 64)        256       \n",
            "_________________________________________________________________\n",
            "max_pooling2d_2 (MaxPooling2 (None, 8, 8, 64)          0         \n",
            "_________________________________________________________________\n",
            "dropout_2 (Dropout)          (None, 8, 8, 64)          0         \n",
            "_________________________________________________________________\n",
            "conv2d_5 (Conv2D)            (None, 8, 8, 128)         73856     \n",
            "_________________________________________________________________\n",
            "activation_5 (Activation)    (None, 8, 8, 128)         0         \n",
            "_________________________________________________________________\n",
            "batch_normalization_5 (Batch (None, 8, 8, 128)         512       \n",
            "_________________________________________________________________\n",
            "conv2d_6 (Conv2D)            (None, 8, 8, 128)         147584    \n",
            "_________________________________________________________________\n",
            "activation_6 (Activation)    (None, 8, 8, 128)         0         \n",
            "_________________________________________________________________\n",
            "batch_normalization_6 (Batch (None, 8, 8, 128)         512       \n",
            "_________________________________________________________________\n",
            "max_pooling2d_3 (MaxPooling2 (None, 4, 4, 128)         0         \n",
            "_________________________________________________________________\n",
            "dropout_3 (Dropout)          (None, 4, 4, 128)         0         \n",
            "_________________________________________________________________\n",
            "flatten_1 (Flatten)          (None, 2048)              0         \n",
            "_________________________________________________________________\n",
            "dense_1 (Dense)              (None, 10)                20490     \n",
            "=================================================================\n",
            "Total params: 309,290\n",
            "Trainable params: 308,394\n",
            "Non-trainable params: 896\n",
            "_________________________________________________________________\n"
          ],
          "name": "stdout"
        }
      ]
    },
    {
      "cell_type": "markdown",
      "metadata": {
        "id": "DbuWEGTTwaAA",
        "colab_type": "text"
      },
      "source": [
        "## Data augumentation"
      ]
    },
    {
      "cell_type": "code",
      "metadata": {
        "id": "tTLHCjdfv9ME",
        "colab_type": "code",
        "colab": {}
      },
      "source": [
        "datagen = ImageDataGenerator(\n",
        "    rotation_range=15,\n",
        "    width_shift_range=0.1,\n",
        "    height_shift_range=0.1,\n",
        "    horizontal_flip=True,\n",
        "    )\n",
        "datagen.fit(x_train)"
      ],
      "execution_count": 0,
      "outputs": []
    },
    {
      "cell_type": "markdown",
      "metadata": {
        "id": "CmYYs0S7whBp",
        "colab_type": "text"
      },
      "source": [
        "## Callbacks"
      ]
    },
    {
      "cell_type": "code",
      "metadata": {
        "id": "ICRcUibBwjvM",
        "colab_type": "code",
        "colab": {}
      },
      "source": [
        "run_path = \"/content/drive/My Drive/Colab Notebooks/mgu/models\"\n",
        "mcp_save = ModelCheckpoint(os.path.join(run_path, 'model-{epoch:03d}-{accuracy:03f}-{val_accuracy:03f}.h5'),\n",
        "                           save_best_only=True, monitor='val_accuracy')\n",
        "callbacks = [LearningRateScheduler(lr_schedule), mcp_save]"
      ],
      "execution_count": 0,
      "outputs": []
    },
    {
      "cell_type": "markdown",
      "metadata": {
        "id": "xJOS3r2-wnKL",
        "colab_type": "text"
      },
      "source": [
        "## Training"
      ]
    },
    {
      "cell_type": "code",
      "metadata": {
        "id": "H1X2W15vwdhI",
        "colab_type": "code",
        "colab": {}
      },
      "source": [
        "batch_size = 64\n",
        "opt_rms = keras.optimizers.rmsprop(lr=0.00001,decay=1e-6)\n",
        "model.compile(loss='categorical_crossentropy', optimizer=opt_rms, metrics=['accuracy'])\n",
        "model.load_weights(\"/content/drive/My Drive/Colab Notebooks/mgu/models/model-083-0.883371-0.891900.h5\")\n",
        "model.fit_generator(datagen.flow(x_train, y_train, batch_size=batch_size),\\\n",
        "                    steps_per_epoch=x_train.shape[0] // batch_size,epochs=125,\\\n",
        "                    verbose=1,validation_data=(x_test,y_test), callbacks=callbacks)\n",
        "#save to disk\n",
        "model_json = model.to_json()\n",
        "with open('/content/drive/My Drive/Colab Notebooks/mgu/models/model.json', 'w') as json_file:\n",
        "    json_file.write(model_json)"
      ],
      "execution_count": 0,
      "outputs": []
    },
    {
      "cell_type": "code",
      "metadata": {
        "id": "RSex_GIoJ8tG",
        "colab_type": "code",
        "colab": {
          "base_uri": "https://localhost:8080/",
          "height": 272
        },
        "outputId": "0136e0bf-7ff4-485f-e54a-cc4eb856b04c"
      },
      "source": [
        "pip install -U keras-tuner"
      ],
      "execution_count": 7,
      "outputs": [
        {
          "output_type": "stream",
          "text": [
            "Requirement already up-to-date: keras-tuner in /usr/local/lib/python3.6/dist-packages (1.0.1)\n",
            "Requirement already satisfied, skipping upgrade: colorama in /usr/local/lib/python3.6/dist-packages (from keras-tuner) (0.4.3)\n",
            "Requirement already satisfied, skipping upgrade: requests in /usr/local/lib/python3.6/dist-packages (from keras-tuner) (2.21.0)\n",
            "Requirement already satisfied, skipping upgrade: terminaltables in /usr/local/lib/python3.6/dist-packages (from keras-tuner) (3.1.0)\n",
            "Requirement already satisfied, skipping upgrade: tabulate in /usr/local/lib/python3.6/dist-packages (from keras-tuner) (0.8.7)\n",
            "Requirement already satisfied, skipping upgrade: tqdm in /usr/local/lib/python3.6/dist-packages (from keras-tuner) (4.38.0)\n",
            "Requirement already satisfied, skipping upgrade: future in /usr/local/lib/python3.6/dist-packages (from keras-tuner) (0.16.0)\n",
            "Requirement already satisfied, skipping upgrade: scikit-learn in /usr/local/lib/python3.6/dist-packages (from keras-tuner) (0.22.2.post1)\n",
            "Requirement already satisfied, skipping upgrade: numpy in /usr/local/lib/python3.6/dist-packages (from keras-tuner) (1.18.2)\n",
            "Requirement already satisfied, skipping upgrade: scipy in /usr/local/lib/python3.6/dist-packages (from keras-tuner) (1.4.1)\n",
            "Requirement already satisfied, skipping upgrade: idna<2.9,>=2.5 in /usr/local/lib/python3.6/dist-packages (from requests->keras-tuner) (2.8)\n",
            "Requirement already satisfied, skipping upgrade: certifi>=2017.4.17 in /usr/local/lib/python3.6/dist-packages (from requests->keras-tuner) (2020.4.5.1)\n",
            "Requirement already satisfied, skipping upgrade: urllib3<1.25,>=1.21.1 in /usr/local/lib/python3.6/dist-packages (from requests->keras-tuner) (1.24.3)\n",
            "Requirement already satisfied, skipping upgrade: chardet<3.1.0,>=3.0.2 in /usr/local/lib/python3.6/dist-packages (from requests->keras-tuner) (3.0.4)\n",
            "Requirement already satisfied, skipping upgrade: joblib>=0.11 in /usr/local/lib/python3.6/dist-packages (from scikit-learn->keras-tuner) (0.14.1)\n"
          ],
          "name": "stdout"
        }
      ]
    },
    {
      "cell_type": "code",
      "metadata": {
        "id": "Pksox8cxI7dS",
        "colab_type": "code",
        "colab": {
          "base_uri": "https://localhost:8080/",
          "height": 1000
        },
        "outputId": "7ed00db3-6074-4dfd-cdcb-061ab5439aa2"
      },
      "source": [
        "from kerastuner import HyperModel\n",
        "from kerastuner.tuners import RandomSearch\n",
        "from tensorflow import keras\n",
        "from tensorflow.keras import layers\n",
        "\n",
        "\n",
        "class MyHyperModel(HyperModel):\n",
        "\n",
        "    def __init__(self, num_classes):\n",
        "        self.num_classes = num_classes\n",
        "\n",
        "    def build(self, hp):\n",
        "\n",
        "        weight_decay = 1e-4\n",
        "\n",
        "        model = keras.Sequential()\n",
        "        model.add(layers.Conv2D(32, (3,3), padding='same', kernel_regularizer=regularizers.l2(weight_decay), input_shape=(32,32,3)))\n",
        "        model.add(layers.Activation('elu'))\n",
        "        model.add(layers.BatchNormalization())\n",
        "        model.add(layers.Conv2D(32, (3,3), padding='same', kernel_regularizer=regularizers.l2(weight_decay)))\n",
        "        model.add(layers.Activation('elu'))\n",
        "        model.add(layers.BatchNormalization())\n",
        "        model.add(layers.MaxPooling2D(pool_size=(2,2)))\n",
        "        model.add(layers.Dropout(0.2))\n",
        "\n",
        "        model.add(layers.Conv2D(64, (3,3), padding='same', kernel_regularizer=regularizers.l2(weight_decay)))\n",
        "        model.add(layers.Activation('elu'))\n",
        "        model.add(layers.BatchNormalization())\n",
        "        model.add(layers.Conv2D(64, (3,3), padding='same', kernel_regularizer=regularizers.l2(weight_decay)))\n",
        "        model.add(layers.Activation('elu'))\n",
        "        model.add(layers.BatchNormalization())\n",
        "        model.add(layers.MaxPooling2D(pool_size=(2,2)))\n",
        "        model.add(layers.Dropout(0.3))\n",
        "\n",
        "        model.add(layers.Conv2D(filters=hp.Int('filters',\n",
        "                                min_value=100,\n",
        "                                max_value=150,\n",
        "                                step=32),\n",
        "                          kernel_size=(3,3), padding='same', kernel_regularizer=regularizers.l2(weight_decay)))\n",
        "        model.add(layers.Activation('elu'))\n",
        "        model.add(layers.BatchNormalization())\n",
        "        model.add(layers.Conv2D(128, (3,3), padding='same', kernel_regularizer=regularizers.l2(weight_decay)))\n",
        "        model.add(layers.Activation('elu'))\n",
        "        model.add(layers.BatchNormalization())\n",
        "        model.add(layers.MaxPooling2D(pool_size=(2,2)))\n",
        "        model.add(layers.Dropout(rate=hp.Choice('dropout_rate',\n",
        "                          values=[1e-2, 2e-2, 3e-2])))\n",
        "\n",
        "        model.add(layers.Flatten())\n",
        "        model.add(layers.Dense(num_classes, activation='softmax'))\n",
        "        opt_rms = keras.optimizers.RMSprop(lr=0.00001,decay=1e-6)\n",
        "        model.compile(loss='categorical_crossentropy', optimizer=opt_rms, metrics=['accuracy'])\n",
        "        return model\n",
        "\n",
        "\n",
        "hypermodel = MyHyperModel(num_classes=10)\n",
        "\n",
        "tuner = RandomSearch(\n",
        "    hypermodel,\n",
        "    objective='val_accuracy',\n",
        "    max_trials=10,\n",
        "    directory='/content/drive/My Drive/Colab Notebooks/mgu/hyper',\n",
        "    project_name='hyper')\n",
        "\n",
        "batch_size = 64\n",
        "epochs = 60\n",
        "tuner.search(datagen.flow(x_train, y_train, batch_size=batch_size),\n",
        "            steps_per_epoch=int((len(x_train)-1) / batch_size), # steps per epoch\n",
        "            epochs=epochs,\n",
        "            validation_data=(x_test, y_test))"
      ],
      "execution_count": 0,
      "outputs": [
        {
          "output_type": "stream",
          "text": [
            "INFO:tensorflow:Reloading Oracle from existing project /content/drive/My Drive/Colab Notebooks/mgu/hyper/hyper/oracle.json\n",
            "Epoch 1/60\n",
            "781/781 [==============================] - 58s 75ms/step - loss: 2.3075 - accuracy: 0.2539 - val_loss: 1.8263 - val_accuracy: 0.3731\n",
            "Epoch 2/60\n",
            "781/781 [==============================] - 58s 75ms/step - loss: 1.9475 - accuracy: 0.3421 - val_loss: 1.8136 - val_accuracy: 0.3887\n",
            "Epoch 3/60\n",
            "781/781 [==============================] - 58s 74ms/step - loss: 1.8126 - accuracy: 0.3823 - val_loss: 1.8030 - val_accuracy: 0.3987\n",
            "Epoch 4/60\n",
            "781/781 [==============================] - 59s 75ms/step - loss: 1.7119 - accuracy: 0.4089 - val_loss: 1.7822 - val_accuracy: 0.4117\n",
            "Epoch 5/60\n",
            "781/781 [==============================] - 58s 75ms/step - loss: 1.6366 - accuracy: 0.4352 - val_loss: 1.7655 - val_accuracy: 0.4225\n",
            "Epoch 6/60\n",
            "781/781 [==============================] - 58s 74ms/step - loss: 1.5747 - accuracy: 0.4509 - val_loss: 1.7743 - val_accuracy: 0.4263\n",
            "Epoch 7/60\n",
            "781/781 [==============================] - 58s 74ms/step - loss: 1.5345 - accuracy: 0.4642 - val_loss: 1.7834 - val_accuracy: 0.4253\n",
            "Epoch 8/60\n",
            "781/781 [==============================] - 58s 75ms/step - loss: 1.4990 - accuracy: 0.4755 - val_loss: 1.7770 - val_accuracy: 0.4309\n",
            "Epoch 9/60\n",
            "781/781 [==============================] - 59s 75ms/step - loss: 1.4653 - accuracy: 0.4880 - val_loss: 1.8273 - val_accuracy: 0.4298\n",
            "Epoch 10/60\n",
            "781/781 [==============================] - 58s 75ms/step - loss: 1.4327 - accuracy: 0.4992 - val_loss: 1.8362 - val_accuracy: 0.4263\n",
            "Epoch 11/60\n",
            "781/781 [==============================] - 58s 74ms/step - loss: 1.4080 - accuracy: 0.5101 - val_loss: 1.8120 - val_accuracy: 0.4360\n",
            "Epoch 12/60\n",
            "781/781 [==============================] - 58s 75ms/step - loss: 1.3868 - accuracy: 0.5189 - val_loss: 1.7815 - val_accuracy: 0.4470\n",
            "Epoch 13/60\n",
            "781/781 [==============================] - 58s 74ms/step - loss: 1.3687 - accuracy: 0.5256 - val_loss: 1.8445 - val_accuracy: 0.4382\n",
            "Epoch 14/60\n",
            "781/781 [==============================] - 58s 74ms/step - loss: 1.3411 - accuracy: 0.5344 - val_loss: 1.7672 - val_accuracy: 0.4486\n",
            "Epoch 15/60\n",
            "781/781 [==============================] - 58s 74ms/step - loss: 1.3301 - accuracy: 0.5386 - val_loss: 1.7570 - val_accuracy: 0.4551\n",
            "Epoch 16/60\n",
            "781/781 [==============================] - 58s 74ms/step - loss: 1.3095 - accuracy: 0.5471 - val_loss: 1.7491 - val_accuracy: 0.4638\n",
            "Epoch 17/60\n",
            "781/781 [==============================] - 58s 74ms/step - loss: 1.2919 - accuracy: 0.5513 - val_loss: 1.6996 - val_accuracy: 0.4719\n",
            "Epoch 18/60\n",
            "781/781 [==============================] - 58s 75ms/step - loss: 1.2834 - accuracy: 0.5569 - val_loss: 1.7206 - val_accuracy: 0.4727\n",
            "Epoch 19/60\n",
            "781/781 [==============================] - 58s 75ms/step - loss: 1.2648 - accuracy: 0.5641 - val_loss: 1.6267 - val_accuracy: 0.4869\n",
            "Epoch 20/60\n",
            "781/781 [==============================] - 58s 74ms/step - loss: 1.2507 - accuracy: 0.5713 - val_loss: 1.6409 - val_accuracy: 0.4884\n",
            "Epoch 21/60\n",
            "781/781 [==============================] - 58s 75ms/step - loss: 1.2382 - accuracy: 0.5717 - val_loss: 1.6113 - val_accuracy: 0.4956\n",
            "Epoch 22/60\n",
            "781/781 [==============================] - 58s 74ms/step - loss: 1.2247 - accuracy: 0.5787 - val_loss: 1.6086 - val_accuracy: 0.5000\n",
            "Epoch 23/60\n",
            "781/781 [==============================] - 58s 75ms/step - loss: 1.2102 - accuracy: 0.5816 - val_loss: 1.6268 - val_accuracy: 0.5000\n",
            "Epoch 24/60\n",
            "781/781 [==============================] - 58s 75ms/step - loss: 1.2061 - accuracy: 0.5856 - val_loss: 1.6034 - val_accuracy: 0.5039\n",
            "Epoch 25/60\n",
            "781/781 [==============================] - 59s 75ms/step - loss: 1.1937 - accuracy: 0.5911 - val_loss: 1.5436 - val_accuracy: 0.5190\n",
            "Epoch 26/60\n",
            "781/781 [==============================] - 59s 75ms/step - loss: 1.1741 - accuracy: 0.5977 - val_loss: 1.5015 - val_accuracy: 0.5251\n",
            "Epoch 27/60\n",
            "781/781 [==============================] - 58s 75ms/step - loss: 1.1719 - accuracy: 0.5993 - val_loss: 1.4706 - val_accuracy: 0.5330\n",
            "Epoch 28/60\n",
            "781/781 [==============================] - 58s 75ms/step - loss: 1.1578 - accuracy: 0.6002 - val_loss: 1.4630 - val_accuracy: 0.5387\n",
            "Epoch 29/60\n",
            "781/781 [==============================] - 58s 75ms/step - loss: 1.1491 - accuracy: 0.6073 - val_loss: 1.4910 - val_accuracy: 0.5368\n",
            "Epoch 30/60\n",
            "781/781 [==============================] - 58s 75ms/step - loss: 1.1433 - accuracy: 0.6080 - val_loss: 1.4631 - val_accuracy: 0.5392\n",
            "Epoch 31/60\n",
            "781/781 [==============================] - 58s 75ms/step - loss: 1.1328 - accuracy: 0.6108 - val_loss: 1.4738 - val_accuracy: 0.5398\n",
            "Epoch 32/60\n",
            "781/781 [==============================] - 58s 74ms/step - loss: 1.1274 - accuracy: 0.6119 - val_loss: 1.4349 - val_accuracy: 0.5449\n",
            "Epoch 33/60\n",
            "781/781 [==============================] - 58s 74ms/step - loss: 1.1151 - accuracy: 0.6193 - val_loss: 1.4210 - val_accuracy: 0.5517\n",
            "Epoch 34/60\n",
            "781/781 [==============================] - 58s 75ms/step - loss: 1.1097 - accuracy: 0.6200 - val_loss: 1.4387 - val_accuracy: 0.5506\n",
            "Epoch 35/60\n",
            "781/781 [==============================] - 58s 75ms/step - loss: 1.0938 - accuracy: 0.6280 - val_loss: 1.4081 - val_accuracy: 0.5567\n",
            "Epoch 36/60\n",
            "781/781 [==============================] - 58s 75ms/step - loss: 1.0950 - accuracy: 0.6262 - val_loss: 1.3909 - val_accuracy: 0.5618\n",
            "Epoch 37/60\n",
            "781/781 [==============================] - 58s 75ms/step - loss: 1.0818 - accuracy: 0.6282 - val_loss: 1.4074 - val_accuracy: 0.5580\n",
            "Epoch 38/60\n",
            "781/781 [==============================] - 58s 75ms/step - loss: 1.0791 - accuracy: 0.6327 - val_loss: 1.3665 - val_accuracy: 0.5693\n",
            "Epoch 39/60\n",
            "781/781 [==============================] - 58s 74ms/step - loss: 1.0653 - accuracy: 0.6371 - val_loss: 1.3900 - val_accuracy: 0.5653\n",
            "Epoch 40/60\n",
            "781/781 [==============================] - 58s 75ms/step - loss: 1.0606 - accuracy: 0.6392 - val_loss: 1.3438 - val_accuracy: 0.5776\n",
            "Epoch 41/60\n",
            "781/781 [==============================] - 58s 74ms/step - loss: 1.0554 - accuracy: 0.6413 - val_loss: 1.3523 - val_accuracy: 0.5771\n",
            "Epoch 42/60\n",
            "781/781 [==============================] - 58s 74ms/step - loss: 1.0538 - accuracy: 0.6399 - val_loss: 1.3033 - val_accuracy: 0.5861\n",
            "Epoch 43/60\n",
            "781/781 [==============================] - 58s 74ms/step - loss: 1.0451 - accuracy: 0.6457 - val_loss: 1.3341 - val_accuracy: 0.5838\n",
            "Epoch 44/60\n",
            "781/781 [==============================] - 58s 74ms/step - loss: 1.0344 - accuracy: 0.6496 - val_loss: 1.3420 - val_accuracy: 0.5811\n",
            "Epoch 45/60\n",
            "781/781 [==============================] - 58s 74ms/step - loss: 1.0286 - accuracy: 0.6491 - val_loss: 1.3035 - val_accuracy: 0.5918\n",
            "Epoch 46/60\n",
            "781/781 [==============================] - 58s 74ms/step - loss: 1.0266 - accuracy: 0.6519 - val_loss: 1.2712 - val_accuracy: 0.5979\n",
            "Epoch 47/60\n",
            "781/781 [==============================] - 58s 74ms/step - loss: 1.0167 - accuracy: 0.6558 - val_loss: 1.2789 - val_accuracy: 0.5956\n",
            "Epoch 48/60\n",
            "781/781 [==============================] - 58s 74ms/step - loss: 1.0139 - accuracy: 0.6557 - val_loss: 1.2731 - val_accuracy: 0.5947\n",
            "Epoch 49/60\n",
            "781/781 [==============================] - 58s 75ms/step - loss: 1.0071 - accuracy: 0.6586 - val_loss: 1.2217 - val_accuracy: 0.6072\n",
            "Epoch 50/60\n",
            "781/781 [==============================] - 58s 74ms/step - loss: 1.0049 - accuracy: 0.6602 - val_loss: 1.2493 - val_accuracy: 0.6019\n",
            "Epoch 51/60\n",
            "781/781 [==============================] - 58s 75ms/step - loss: 1.0008 - accuracy: 0.6612 - val_loss: 1.2763 - val_accuracy: 0.6004\n",
            "Epoch 52/60\n",
            "781/781 [==============================] - 58s 74ms/step - loss: 0.9951 - accuracy: 0.6617 - val_loss: 1.2469 - val_accuracy: 0.6066\n",
            "Epoch 53/60\n",
            "781/781 [==============================] - 59s 75ms/step - loss: 0.9883 - accuracy: 0.6685 - val_loss: 1.1993 - val_accuracy: 0.6198\n",
            "Epoch 54/60\n",
            "781/781 [==============================] - 58s 74ms/step - loss: 0.9858 - accuracy: 0.6667 - val_loss: 1.2234 - val_accuracy: 0.6130\n",
            "Epoch 55/60\n",
            "781/781 [==============================] - 58s 75ms/step - loss: 0.9731 - accuracy: 0.6703 - val_loss: 1.1957 - val_accuracy: 0.6202\n",
            "Epoch 56/60\n",
            "781/781 [==============================] - 58s 74ms/step - loss: 0.9687 - accuracy: 0.6725 - val_loss: 1.2676 - val_accuracy: 0.6100\n",
            "Epoch 57/60\n",
            "781/781 [==============================] - 59s 75ms/step - loss: 0.9689 - accuracy: 0.6731 - val_loss: 1.2072 - val_accuracy: 0.6204\n",
            "Epoch 58/60\n",
            "781/781 [==============================] - 58s 75ms/step - loss: 0.9655 - accuracy: 0.6746 - val_loss: 1.1741 - val_accuracy: 0.6289\n",
            "Epoch 59/60\n",
            "781/781 [==============================] - 58s 75ms/step - loss: 0.9641 - accuracy: 0.6751 - val_loss: 1.1752 - val_accuracy: 0.6304\n",
            "Epoch 60/60\n",
            "781/781 [==============================] - 58s 74ms/step - loss: 0.9540 - accuracy: 0.6773 - val_loss: 1.1499 - val_accuracy: 0.6345\n"
          ],
          "name": "stdout"
        },
        {
          "output_type": "display_data",
          "data": {
            "text/html": [
              "<span style=\"color:#4527A0\"><h1 style=\"font-size:18px\">Trial complete</h1></span>"
            ],
            "text/plain": [
              "<IPython.core.display.HTML object>"
            ]
          },
          "metadata": {
            "tags": []
          }
        },
        {
          "output_type": "display_data",
          "data": {
            "text/html": [
              "<span style=\"color:#4527A0\"><h1 style=\"font-size:18px\">Trial summary</h1></span>"
            ],
            "text/plain": [
              "<IPython.core.display.HTML object>"
            ]
          },
          "metadata": {
            "tags": []
          }
        },
        {
          "output_type": "display_data",
          "data": {
            "text/html": [
              "<span style=\"color:cyan\"> |-Trial ID: 13cfc73db6fe331ab533bf26ebd46b62</span>"
            ],
            "text/plain": [
              "<IPython.core.display.HTML object>"
            ]
          },
          "metadata": {
            "tags": []
          }
        },
        {
          "output_type": "display_data",
          "data": {
            "text/html": [
              "<span style=\"color:cyan\"> |-Score: 0.6345000267028809</span>"
            ],
            "text/plain": [
              "<IPython.core.display.HTML object>"
            ]
          },
          "metadata": {
            "tags": []
          }
        },
        {
          "output_type": "display_data",
          "data": {
            "text/html": [
              "<span style=\"color:cyan\"> |-Best step: 0</span>"
            ],
            "text/plain": [
              "<IPython.core.display.HTML object>"
            ]
          },
          "metadata": {
            "tags": []
          }
        },
        {
          "output_type": "display_data",
          "data": {
            "text/html": [
              "<span style=\"color:#7E57C2\"><h2 style=\"font-size:16px\">Hyperparameters:</h2></span>"
            ],
            "text/plain": [
              "<IPython.core.display.HTML object>"
            ]
          },
          "metadata": {
            "tags": []
          }
        },
        {
          "output_type": "display_data",
          "data": {
            "text/html": [
              "<span style=\"color:cyan\"> |-dropout_rate: 0.01</span>"
            ],
            "text/plain": [
              "<IPython.core.display.HTML object>"
            ]
          },
          "metadata": {
            "tags": []
          }
        },
        {
          "output_type": "display_data",
          "data": {
            "text/html": [
              "<span style=\"color:blue\"> |-filters: 164</span>"
            ],
            "text/plain": [
              "<IPython.core.display.HTML object>"
            ]
          },
          "metadata": {
            "tags": []
          }
        },
        {
          "output_type": "stream",
          "text": [
            "Epoch 1/60\n",
            "781/781 [==============================] - 58s 74ms/step - loss: 2.2392 - accuracy: 0.2693 - val_loss: 1.7636 - val_accuracy: 0.3924\n",
            "Epoch 2/60\n",
            "781/781 [==============================] - 58s 74ms/step - loss: 1.8743 - accuracy: 0.3628 - val_loss: 1.7124 - val_accuracy: 0.4183\n",
            "Epoch 3/60\n",
            "781/781 [==============================] - 59s 75ms/step - loss: 1.7236 - accuracy: 0.4071 - val_loss: 1.6388 - val_accuracy: 0.4512\n",
            "Epoch 4/60\n",
            "781/781 [==============================] - 59s 75ms/step - loss: 1.6243 - accuracy: 0.4367 - val_loss: 1.6451 - val_accuracy: 0.4663\n",
            "Epoch 5/60\n",
            "781/781 [==============================] - 59s 75ms/step - loss: 1.5559 - accuracy: 0.4634 - val_loss: 1.6148 - val_accuracy: 0.4737\n",
            "Epoch 6/60\n",
            "781/781 [==============================] - 59s 75ms/step - loss: 1.5107 - accuracy: 0.4766 - val_loss: 1.6319 - val_accuracy: 0.4742\n",
            "Epoch 7/60\n",
            "781/781 [==============================] - 58s 75ms/step - loss: 1.4717 - accuracy: 0.4900 - val_loss: 1.5946 - val_accuracy: 0.4838\n",
            "Epoch 8/60\n",
            "781/781 [==============================] - 59s 75ms/step - loss: 1.4377 - accuracy: 0.5011 - val_loss: 1.5820 - val_accuracy: 0.4904\n",
            "Epoch 9/60\n",
            "781/781 [==============================] - 59s 75ms/step - loss: 1.4044 - accuracy: 0.5183 - val_loss: 1.5699 - val_accuracy: 0.4973\n",
            "Epoch 10/60\n",
            "781/781 [==============================] - 59s 75ms/step - loss: 1.3794 - accuracy: 0.5254 - val_loss: 1.5988 - val_accuracy: 0.4933\n",
            "Epoch 11/60\n",
            "781/781 [==============================] - 59s 75ms/step - loss: 1.3530 - accuracy: 0.5331 - val_loss: 1.5635 - val_accuracy: 0.5025\n",
            "Epoch 12/60\n",
            "781/781 [==============================] - 59s 76ms/step - loss: 1.3336 - accuracy: 0.5428 - val_loss: 1.5212 - val_accuracy: 0.5170\n",
            "Epoch 13/60\n",
            "781/781 [==============================] - 58s 75ms/step - loss: 1.3077 - accuracy: 0.5534 - val_loss: 1.5241 - val_accuracy: 0.5202\n",
            "Epoch 14/60\n",
            "781/781 [==============================] - 59s 75ms/step - loss: 1.2876 - accuracy: 0.5581 - val_loss: 1.5426 - val_accuracy: 0.5161\n",
            "Epoch 15/60\n",
            "781/781 [==============================] - 59s 75ms/step - loss: 1.2690 - accuracy: 0.5651 - val_loss: 1.4257 - val_accuracy: 0.5394\n",
            "Epoch 16/60\n",
            "781/781 [==============================] - 59s 75ms/step - loss: 1.2480 - accuracy: 0.5716 - val_loss: 1.4699 - val_accuracy: 0.5359\n",
            "Epoch 17/60\n",
            "781/781 [==============================] - 59s 75ms/step - loss: 1.2383 - accuracy: 0.5774 - val_loss: 1.4479 - val_accuracy: 0.5384\n",
            "Epoch 18/60\n",
            "781/781 [==============================] - 58s 75ms/step - loss: 1.2170 - accuracy: 0.5859 - val_loss: 1.4353 - val_accuracy: 0.5444\n",
            "Epoch 19/60\n",
            "781/781 [==============================] - 59s 75ms/step - loss: 1.2085 - accuracy: 0.5880 - val_loss: 1.4258 - val_accuracy: 0.5494\n",
            "Epoch 20/60\n",
            "781/781 [==============================] - 58s 75ms/step - loss: 1.2000 - accuracy: 0.5898 - val_loss: 1.4011 - val_accuracy: 0.5545\n",
            "Epoch 21/60\n",
            "781/781 [==============================] - 58s 75ms/step - loss: 1.1828 - accuracy: 0.5984 - val_loss: 1.3798 - val_accuracy: 0.5596\n",
            "Epoch 22/60\n",
            "781/781 [==============================] - 58s 74ms/step - loss: 1.1652 - accuracy: 0.6027 - val_loss: 1.3651 - val_accuracy: 0.5690\n",
            "Epoch 23/60\n",
            "781/781 [==============================] - 58s 75ms/step - loss: 1.1617 - accuracy: 0.6065 - val_loss: 1.3261 - val_accuracy: 0.5785\n",
            "Epoch 24/60\n",
            "781/781 [==============================] - 58s 75ms/step - loss: 1.1431 - accuracy: 0.6091 - val_loss: 1.3468 - val_accuracy: 0.5710\n",
            "Epoch 25/60\n",
            "781/781 [==============================] - 58s 75ms/step - loss: 1.1338 - accuracy: 0.6134 - val_loss: 1.3443 - val_accuracy: 0.5762\n",
            "Epoch 26/60\n",
            "781/781 [==============================] - 59s 75ms/step - loss: 1.1252 - accuracy: 0.6179 - val_loss: 1.3404 - val_accuracy: 0.5810\n",
            "Epoch 27/60\n",
            "781/781 [==============================] - 59s 75ms/step - loss: 1.1090 - accuracy: 0.6252 - val_loss: 1.2793 - val_accuracy: 0.5932\n",
            "Epoch 28/60\n",
            "781/781 [==============================] - 59s 76ms/step - loss: 1.1107 - accuracy: 0.6230 - val_loss: 1.2860 - val_accuracy: 0.5961\n",
            "Epoch 29/60\n",
            "781/781 [==============================] - 59s 76ms/step - loss: 1.0926 - accuracy: 0.6286 - val_loss: 1.2652 - val_accuracy: 0.6018\n",
            "Epoch 30/60\n",
            "781/781 [==============================] - 59s 76ms/step - loss: 1.0945 - accuracy: 0.6298 - val_loss: 1.2794 - val_accuracy: 0.5937\n",
            "Epoch 31/60\n",
            "781/781 [==============================] - 59s 75ms/step - loss: 1.0742 - accuracy: 0.6383 - val_loss: 1.2729 - val_accuracy: 0.5994\n",
            "Epoch 32/60\n",
            "781/781 [==============================] - 59s 76ms/step - loss: 1.0653 - accuracy: 0.6399 - val_loss: 1.2431 - val_accuracy: 0.6061\n",
            "Epoch 33/60\n",
            "781/781 [==============================] - 59s 76ms/step - loss: 1.0611 - accuracy: 0.6406 - val_loss: 1.2347 - val_accuracy: 0.6093\n",
            "Epoch 34/60\n",
            "781/781 [==============================] - 59s 75ms/step - loss: 1.0502 - accuracy: 0.6461 - val_loss: 1.2105 - val_accuracy: 0.6164\n",
            "Epoch 35/60\n",
            "781/781 [==============================] - 59s 75ms/step - loss: 1.0511 - accuracy: 0.6449 - val_loss: 1.1903 - val_accuracy: 0.6212\n",
            "Epoch 36/60\n",
            "781/781 [==============================] - 59s 75ms/step - loss: 1.0344 - accuracy: 0.6499 - val_loss: 1.1845 - val_accuracy: 0.6240\n",
            "Epoch 37/60\n",
            "781/781 [==============================] - 59s 75ms/step - loss: 1.0322 - accuracy: 0.6511 - val_loss: 1.2573 - val_accuracy: 0.6083\n",
            "Epoch 38/60\n",
            "781/781 [==============================] - 59s 75ms/step - loss: 1.0207 - accuracy: 0.6566 - val_loss: 1.2102 - val_accuracy: 0.6231\n",
            "Epoch 39/60\n",
            "781/781 [==============================] - 58s 75ms/step - loss: 1.0187 - accuracy: 0.6591 - val_loss: 1.2211 - val_accuracy: 0.6204\n",
            "Epoch 40/60\n",
            "781/781 [==============================] - 59s 75ms/step - loss: 1.0111 - accuracy: 0.6599 - val_loss: 1.1764 - val_accuracy: 0.6283\n",
            "Epoch 41/60\n",
            "781/781 [==============================] - 59s 75ms/step - loss: 1.0026 - accuracy: 0.6642 - val_loss: 1.1791 - val_accuracy: 0.6325\n",
            "Epoch 42/60\n",
            "781/781 [==============================] - 59s 75ms/step - loss: 1.0038 - accuracy: 0.6629 - val_loss: 1.1608 - val_accuracy: 0.6322\n",
            "Epoch 43/60\n",
            "781/781 [==============================] - 59s 75ms/step - loss: 0.9907 - accuracy: 0.6687 - val_loss: 1.1872 - val_accuracy: 0.6291\n",
            "Epoch 44/60\n",
            "781/781 [==============================] - 59s 76ms/step - loss: 0.9893 - accuracy: 0.6677 - val_loss: 1.1170 - val_accuracy: 0.6470\n",
            "Epoch 45/60\n",
            "781/781 [==============================] - 59s 75ms/step - loss: 0.9786 - accuracy: 0.6704 - val_loss: 1.1418 - val_accuracy: 0.6431\n",
            "Epoch 46/60\n",
            "781/781 [==============================] - 59s 75ms/step - loss: 0.9731 - accuracy: 0.6724 - val_loss: 1.1460 - val_accuracy: 0.6409\n",
            "Epoch 47/60\n",
            "781/781 [==============================] - 59s 75ms/step - loss: 0.9685 - accuracy: 0.6760 - val_loss: 1.1316 - val_accuracy: 0.6450\n",
            "Epoch 48/60\n",
            "781/781 [==============================] - 58s 74ms/step - loss: 0.9653 - accuracy: 0.6761 - val_loss: 1.1514 - val_accuracy: 0.6402\n",
            "Epoch 49/60\n",
            "781/781 [==============================] - 59s 75ms/step - loss: 0.9613 - accuracy: 0.6783 - val_loss: 1.1290 - val_accuracy: 0.6457\n",
            "Epoch 50/60\n",
            "781/781 [==============================] - 59s 76ms/step - loss: 0.9500 - accuracy: 0.6836 - val_loss: 1.0978 - val_accuracy: 0.6541\n",
            "Epoch 51/60\n",
            "781/781 [==============================] - 59s 75ms/step - loss: 0.9471 - accuracy: 0.6823 - val_loss: 1.0869 - val_accuracy: 0.6583\n",
            "Epoch 52/60\n",
            "781/781 [==============================] - 59s 75ms/step - loss: 0.9419 - accuracy: 0.6866 - val_loss: 1.0896 - val_accuracy: 0.6562\n",
            "Epoch 53/60\n",
            "781/781 [==============================] - 59s 75ms/step - loss: 0.9389 - accuracy: 0.6861 - val_loss: 1.0996 - val_accuracy: 0.6545\n",
            "Epoch 54/60\n",
            "781/781 [==============================] - 59s 75ms/step - loss: 0.9355 - accuracy: 0.6891 - val_loss: 1.0942 - val_accuracy: 0.6553\n",
            "Epoch 55/60\n",
            "781/781 [==============================] - 59s 75ms/step - loss: 0.9278 - accuracy: 0.6903 - val_loss: 1.0756 - val_accuracy: 0.6647\n",
            "Epoch 56/60\n",
            "781/781 [==============================] - 58s 75ms/step - loss: 0.9263 - accuracy: 0.6928 - val_loss: 1.0575 - val_accuracy: 0.6700\n",
            "Epoch 57/60\n",
            "781/781 [==============================] - 58s 75ms/step - loss: 0.9158 - accuracy: 0.6941 - val_loss: 1.0756 - val_accuracy: 0.6634\n",
            "Epoch 58/60\n",
            "781/781 [==============================] - 59s 75ms/step - loss: 0.9086 - accuracy: 0.6999 - val_loss: 1.0691 - val_accuracy: 0.6650\n",
            "Epoch 59/60\n",
            "781/781 [==============================] - 59s 76ms/step - loss: 0.9029 - accuracy: 0.6992 - val_loss: 1.0681 - val_accuracy: 0.6660\n",
            "Epoch 60/60\n",
            "781/781 [==============================] - 59s 75ms/step - loss: 0.9081 - accuracy: 0.6965 - val_loss: 1.0551 - val_accuracy: 0.6710\n"
          ],
          "name": "stdout"
        },
        {
          "output_type": "display_data",
          "data": {
            "text/html": [
              "<span style=\"color:#4527A0\"><h1 style=\"font-size:18px\">Trial complete</h1></span>"
            ],
            "text/plain": [
              "<IPython.core.display.HTML object>"
            ]
          },
          "metadata": {
            "tags": []
          }
        },
        {
          "output_type": "display_data",
          "data": {
            "text/html": [
              "<span style=\"color:#4527A0\"><h1 style=\"font-size:18px\">Trial summary</h1></span>"
            ],
            "text/plain": [
              "<IPython.core.display.HTML object>"
            ]
          },
          "metadata": {
            "tags": []
          }
        },
        {
          "output_type": "display_data",
          "data": {
            "text/html": [
              "<span style=\"color:cyan\"> |-Trial ID: ba2e1936cb7e4c49baa5446713eb3ccf</span>"
            ],
            "text/plain": [
              "<IPython.core.display.HTML object>"
            ]
          },
          "metadata": {
            "tags": []
          }
        },
        {
          "output_type": "display_data",
          "data": {
            "text/html": [
              "<span style=\"color:cyan\"> |-Score: 0.6710000038146973</span>"
            ],
            "text/plain": [
              "<IPython.core.display.HTML object>"
            ]
          },
          "metadata": {
            "tags": []
          }
        },
        {
          "output_type": "display_data",
          "data": {
            "text/html": [
              "<span style=\"color:cyan\"> |-Best step: 0</span>"
            ],
            "text/plain": [
              "<IPython.core.display.HTML object>"
            ]
          },
          "metadata": {
            "tags": []
          }
        },
        {
          "output_type": "display_data",
          "data": {
            "text/html": [
              "<span style=\"color:#7E57C2\"><h2 style=\"font-size:16px\">Hyperparameters:</h2></span>"
            ],
            "text/plain": [
              "<IPython.core.display.HTML object>"
            ]
          },
          "metadata": {
            "tags": []
          }
        },
        {
          "output_type": "display_data",
          "data": {
            "text/html": [
              "<span style=\"color:cyan\"> |-dropout_rate: 0.01</span>"
            ],
            "text/plain": [
              "<IPython.core.display.HTML object>"
            ]
          },
          "metadata": {
            "tags": []
          }
        },
        {
          "output_type": "display_data",
          "data": {
            "text/html": [
              "<span style=\"color:blue\"> |-filters: 228</span>"
            ],
            "text/plain": [
              "<IPython.core.display.HTML object>"
            ]
          },
          "metadata": {
            "tags": []
          }
        },
        {
          "output_type": "stream",
          "text": [
            "Epoch 1/60\n",
            "781/781 [==============================] - 63s 81ms/step - loss: 1.9751 - accuracy: 0.3414 - val_loss: 1.6371 - val_accuracy: 0.4355\n",
            "Epoch 2/60\n",
            "781/781 [==============================] - 63s 80ms/step - loss: 1.6467 - accuracy: 0.4344 - val_loss: 1.6425 - val_accuracy: 0.4442\n",
            "Epoch 3/60\n",
            "781/781 [==============================] - 63s 80ms/step - loss: 1.5198 - accuracy: 0.4728 - val_loss: 1.6760 - val_accuracy: 0.4553\n",
            "Epoch 4/60\n",
            "781/781 [==============================] - 63s 81ms/step - loss: 1.4460 - accuracy: 0.5016 - val_loss: 1.6661 - val_accuracy: 0.4630\n",
            "Epoch 5/60\n",
            "781/781 [==============================] - 63s 80ms/step - loss: 1.3928 - accuracy: 0.5237 - val_loss: 1.6791 - val_accuracy: 0.4713\n",
            "Epoch 6/60\n",
            "781/781 [==============================] - 63s 80ms/step - loss: 1.3577 - accuracy: 0.5356 - val_loss: 1.6600 - val_accuracy: 0.4738\n",
            "Epoch 7/60\n",
            "781/781 [==============================] - 62s 80ms/step - loss: 1.3141 - accuracy: 0.5524 - val_loss: 1.6050 - val_accuracy: 0.4924\n",
            "Epoch 8/60\n",
            "781/781 [==============================] - 62s 80ms/step - loss: 1.2916 - accuracy: 0.5607 - val_loss: 1.6259 - val_accuracy: 0.4964\n",
            "Epoch 9/60\n",
            "781/781 [==============================] - 61s 79ms/step - loss: 1.2566 - accuracy: 0.5716 - val_loss: 1.5790 - val_accuracy: 0.5060\n",
            "Epoch 10/60\n",
            "781/781 [==============================] - 62s 80ms/step - loss: 1.2345 - accuracy: 0.5798 - val_loss: 1.6317 - val_accuracy: 0.5115\n",
            "Epoch 11/60\n",
            "781/781 [==============================] - 62s 80ms/step - loss: 1.2194 - accuracy: 0.5862 - val_loss: 1.5619 - val_accuracy: 0.5153\n",
            "Epoch 12/60\n",
            "781/781 [==============================] - 62s 80ms/step - loss: 1.1959 - accuracy: 0.5925 - val_loss: 1.4136 - val_accuracy: 0.5476\n",
            "Epoch 13/60\n",
            "781/781 [==============================] - 62s 80ms/step - loss: 1.1784 - accuracy: 0.5997 - val_loss: 1.4370 - val_accuracy: 0.5449\n",
            "Epoch 14/60\n",
            "781/781 [==============================] - 63s 80ms/step - loss: 1.1569 - accuracy: 0.6102 - val_loss: 1.4210 - val_accuracy: 0.5519\n",
            "Epoch 15/60\n",
            "781/781 [==============================] - 63s 80ms/step - loss: 1.1390 - accuracy: 0.6162 - val_loss: 1.4481 - val_accuracy: 0.5532\n",
            "Epoch 16/60\n",
            "781/781 [==============================] - 62s 80ms/step - loss: 1.1322 - accuracy: 0.6175 - val_loss: 1.3857 - val_accuracy: 0.5621\n",
            "Epoch 17/60\n",
            "781/781 [==============================] - 63s 80ms/step - loss: 1.1109 - accuracy: 0.6290 - val_loss: 1.3703 - val_accuracy: 0.5723\n",
            "Epoch 18/60\n",
            "781/781 [==============================] - 62s 80ms/step - loss: 1.0986 - accuracy: 0.6307 - val_loss: 1.3078 - val_accuracy: 0.5837\n",
            "Epoch 19/60\n",
            "781/781 [==============================] - 62s 80ms/step - loss: 1.0844 - accuracy: 0.6379 - val_loss: 1.3210 - val_accuracy: 0.5826\n",
            "Epoch 20/60\n",
            "781/781 [==============================] - 61s 78ms/step - loss: 1.0731 - accuracy: 0.6415 - val_loss: 1.3454 - val_accuracy: 0.5790\n",
            "Epoch 21/60\n",
            "781/781 [==============================] - 61s 78ms/step - loss: 1.0627 - accuracy: 0.6443 - val_loss: 1.3065 - val_accuracy: 0.5941\n",
            "Epoch 22/60\n",
            "781/781 [==============================] - 62s 79ms/step - loss: 1.0507 - accuracy: 0.6477 - val_loss: 1.2672 - val_accuracy: 0.6045\n",
            "Epoch 23/60\n",
            "781/781 [==============================] - 62s 80ms/step - loss: 1.0425 - accuracy: 0.6522 - val_loss: 1.3754 - val_accuracy: 0.5837\n",
            "Epoch 24/60\n",
            "781/781 [==============================] - 62s 80ms/step - loss: 1.0315 - accuracy: 0.6575 - val_loss: 1.2555 - val_accuracy: 0.6049\n",
            "Epoch 25/60\n",
            "781/781 [==============================] - 63s 80ms/step - loss: 1.0247 - accuracy: 0.6590 - val_loss: 1.2481 - val_accuracy: 0.6087\n",
            "Epoch 26/60\n",
            "781/781 [==============================] - 62s 80ms/step - loss: 1.0105 - accuracy: 0.6609 - val_loss: 1.2213 - val_accuracy: 0.6172\n",
            "Epoch 27/60\n",
            "781/781 [==============================] - 62s 80ms/step - loss: 1.0039 - accuracy: 0.6695 - val_loss: 1.2380 - val_accuracy: 0.6187\n",
            "Epoch 28/60\n",
            "781/781 [==============================] - 62s 80ms/step - loss: 0.9987 - accuracy: 0.6688 - val_loss: 1.2583 - val_accuracy: 0.6173\n",
            "Epoch 29/60\n",
            "781/781 [==============================] - 62s 80ms/step - loss: 0.9885 - accuracy: 0.6718 - val_loss: 1.2143 - val_accuracy: 0.6199\n",
            "Epoch 30/60\n",
            "781/781 [==============================] - 63s 80ms/step - loss: 0.9803 - accuracy: 0.6774 - val_loss: 1.1559 - val_accuracy: 0.6356\n",
            "Epoch 31/60\n",
            "781/781 [==============================] - 62s 79ms/step - loss: 0.9730 - accuracy: 0.6794 - val_loss: 1.1610 - val_accuracy: 0.6355\n",
            "Epoch 32/60\n",
            "781/781 [==============================] - 61s 79ms/step - loss: 0.9635 - accuracy: 0.6798 - val_loss: 1.1396 - val_accuracy: 0.6433\n",
            "Epoch 33/60\n",
            "781/781 [==============================] - 62s 79ms/step - loss: 0.9606 - accuracy: 0.6795 - val_loss: 1.1778 - val_accuracy: 0.6364\n",
            "Epoch 34/60\n",
            "781/781 [==============================] - 62s 80ms/step - loss: 0.9517 - accuracy: 0.6847 - val_loss: 1.1247 - val_accuracy: 0.6486\n",
            "Epoch 35/60\n",
            "781/781 [==============================] - 62s 79ms/step - loss: 0.9505 - accuracy: 0.6878 - val_loss: 1.1955 - val_accuracy: 0.6325\n",
            "Epoch 36/60\n",
            "781/781 [==============================] - 62s 79ms/step - loss: 0.9359 - accuracy: 0.6912 - val_loss: 1.1406 - val_accuracy: 0.6491\n",
            "Epoch 37/60\n",
            "781/781 [==============================] - 62s 79ms/step - loss: 0.9283 - accuracy: 0.6917 - val_loss: 1.1468 - val_accuracy: 0.6508\n",
            "Epoch 38/60\n",
            "781/781 [==============================] - 62s 80ms/step - loss: 0.9262 - accuracy: 0.6942 - val_loss: 1.1053 - val_accuracy: 0.6572\n",
            "Epoch 39/60\n",
            "781/781 [==============================] - 62s 79ms/step - loss: 0.9122 - accuracy: 0.6980 - val_loss: 1.0391 - val_accuracy: 0.6724\n",
            "Epoch 40/60\n",
            "781/781 [==============================] - 62s 80ms/step - loss: 0.9078 - accuracy: 0.7007 - val_loss: 1.1171 - val_accuracy: 0.6615\n",
            "Epoch 41/60\n",
            "781/781 [==============================] - 62s 79ms/step - loss: 0.9102 - accuracy: 0.6991 - val_loss: 1.0694 - val_accuracy: 0.6661\n",
            "Epoch 42/60\n",
            "781/781 [==============================] - 61s 79ms/step - loss: 0.8997 - accuracy: 0.7023 - val_loss: 1.0750 - val_accuracy: 0.6703\n",
            "Epoch 43/60\n",
            "781/781 [==============================] - 61s 78ms/step - loss: 0.8984 - accuracy: 0.7014 - val_loss: 1.0273 - val_accuracy: 0.6791\n",
            "Epoch 44/60\n",
            "781/781 [==============================] - 61s 79ms/step - loss: 0.8905 - accuracy: 0.7084 - val_loss: 1.0354 - val_accuracy: 0.6828\n",
            "Epoch 45/60\n",
            "781/781 [==============================] - 61s 78ms/step - loss: 0.8762 - accuracy: 0.7121 - val_loss: 1.0246 - val_accuracy: 0.6793\n",
            "Epoch 46/60\n",
            "781/781 [==============================] - 61s 78ms/step - loss: 0.8759 - accuracy: 0.7120 - val_loss: 0.9908 - val_accuracy: 0.6924\n",
            "Epoch 47/60\n",
            "781/781 [==============================] - 61s 78ms/step - loss: 0.8688 - accuracy: 0.7158 - val_loss: 1.0021 - val_accuracy: 0.6910\n",
            "Epoch 48/60\n",
            "781/781 [==============================] - 62s 79ms/step - loss: 0.8710 - accuracy: 0.7140 - val_loss: 1.0036 - val_accuracy: 0.6893\n",
            "Epoch 49/60\n",
            "781/781 [==============================] - 62s 79ms/step - loss: 0.8594 - accuracy: 0.7167 - val_loss: 1.0101 - val_accuracy: 0.6878\n",
            "Epoch 50/60\n",
            "781/781 [==============================] - 61s 79ms/step - loss: 0.8527 - accuracy: 0.7218 - val_loss: 1.0221 - val_accuracy: 0.6885\n",
            "Epoch 51/60\n",
            "781/781 [==============================] - 62s 79ms/step - loss: 0.8490 - accuracy: 0.7208 - val_loss: 0.9528 - val_accuracy: 0.7009\n",
            "Epoch 52/60\n",
            "781/781 [==============================] - 62s 79ms/step - loss: 0.8495 - accuracy: 0.7215 - val_loss: 0.9962 - val_accuracy: 0.6935\n",
            "Epoch 53/60\n",
            "781/781 [==============================] - 62s 79ms/step - loss: 0.8468 - accuracy: 0.7221 - val_loss: 1.0047 - val_accuracy: 0.6950\n",
            "Epoch 54/60\n",
            "781/781 [==============================] - 62s 79ms/step - loss: 0.8400 - accuracy: 0.7238 - val_loss: 0.9684 - val_accuracy: 0.6995\n",
            "Epoch 55/60\n",
            "781/781 [==============================] - 61s 79ms/step - loss: 0.8371 - accuracy: 0.7246 - val_loss: 0.9628 - val_accuracy: 0.7057\n",
            "Epoch 56/60\n",
            "781/781 [==============================] - 62s 79ms/step - loss: 0.8264 - accuracy: 0.7298 - val_loss: 0.9407 - val_accuracy: 0.7106\n",
            "Epoch 57/60\n",
            "781/781 [==============================] - 62s 79ms/step - loss: 0.8244 - accuracy: 0.7307 - val_loss: 0.9507 - val_accuracy: 0.7072\n",
            "Epoch 58/60\n",
            "781/781 [==============================] - 61s 79ms/step - loss: 0.8198 - accuracy: 0.7310 - val_loss: 0.9499 - val_accuracy: 0.7094\n",
            "Epoch 59/60\n",
            "781/781 [==============================] - 62s 79ms/step - loss: 0.8167 - accuracy: 0.7341 - val_loss: 0.9679 - val_accuracy: 0.7044\n",
            "Epoch 60/60\n",
            "781/781 [==============================] - 63s 80ms/step - loss: 0.8150 - accuracy: 0.7362 - val_loss: 0.9304 - val_accuracy: 0.7150\n"
          ],
          "name": "stdout"
        },
        {
          "output_type": "display_data",
          "data": {
            "text/html": [
              "<span style=\"color:#4527A0\"><h1 style=\"font-size:18px\">Trial complete</h1></span>"
            ],
            "text/plain": [
              "<IPython.core.display.HTML object>"
            ]
          },
          "metadata": {
            "tags": []
          }
        },
        {
          "output_type": "display_data",
          "data": {
            "text/html": [
              "<span style=\"color:#4527A0\"><h1 style=\"font-size:18px\">Trial summary</h1></span>"
            ],
            "text/plain": [
              "<IPython.core.display.HTML object>"
            ]
          },
          "metadata": {
            "tags": []
          }
        },
        {
          "output_type": "display_data",
          "data": {
            "text/html": [
              "<span style=\"color:cyan\"> |-Trial ID: 6fed6d76601d77ea84aba5c7ee996e1e</span>"
            ],
            "text/plain": [
              "<IPython.core.display.HTML object>"
            ]
          },
          "metadata": {
            "tags": []
          }
        },
        {
          "output_type": "display_data",
          "data": {
            "text/html": [
              "<span style=\"color:cyan\"> |-Score: 0.7149999737739563</span>"
            ],
            "text/plain": [
              "<IPython.core.display.HTML object>"
            ]
          },
          "metadata": {
            "tags": []
          }
        },
        {
          "output_type": "display_data",
          "data": {
            "text/html": [
              "<span style=\"color:cyan\"> |-Best step: 0</span>"
            ],
            "text/plain": [
              "<IPython.core.display.HTML object>"
            ]
          },
          "metadata": {
            "tags": []
          }
        },
        {
          "output_type": "display_data",
          "data": {
            "text/html": [
              "<span style=\"color:#7E57C2\"><h2 style=\"font-size:16px\">Hyperparameters:</h2></span>"
            ],
            "text/plain": [
              "<IPython.core.display.HTML object>"
            ]
          },
          "metadata": {
            "tags": []
          }
        },
        {
          "output_type": "display_data",
          "data": {
            "text/html": [
              "<span style=\"color:cyan\"> |-dropout_rate: 0.01</span>"
            ],
            "text/plain": [
              "<IPython.core.display.HTML object>"
            ]
          },
          "metadata": {
            "tags": []
          }
        },
        {
          "output_type": "display_data",
          "data": {
            "text/html": [
              "<span style=\"color:blue\"> |-filters: 1380</span>"
            ],
            "text/plain": [
              "<IPython.core.display.HTML object>"
            ]
          },
          "metadata": {
            "tags": []
          }
        },
        {
          "output_type": "stream",
          "text": [
            "Epoch 1/60\n",
            "781/781 [==============================] - 61s 78ms/step - loss: 2.0936 - accuracy: 0.3132 - val_loss: 1.6587 - val_accuracy: 0.4348\n",
            "Epoch 2/60\n",
            "781/781 [==============================] - 60s 77ms/step - loss: 1.7545 - accuracy: 0.4002 - val_loss: 1.6467 - val_accuracy: 0.4398\n",
            "Epoch 3/60\n",
            "781/781 [==============================] - 60s 77ms/step - loss: 1.6122 - accuracy: 0.4440 - val_loss: 1.6761 - val_accuracy: 0.4503\n",
            "Epoch 4/60\n",
            "781/781 [==============================] - 60s 77ms/step - loss: 1.5231 - accuracy: 0.4735 - val_loss: 1.6839 - val_accuracy: 0.4620\n",
            "Epoch 5/60\n",
            "781/781 [==============================] - 61s 78ms/step - loss: 1.4619 - accuracy: 0.4940 - val_loss: 1.7161 - val_accuracy: 0.4588\n",
            "Epoch 6/60\n",
            "781/781 [==============================] - 62s 79ms/step - loss: 1.4179 - accuracy: 0.5118 - val_loss: 1.7576 - val_accuracy: 0.4583\n",
            "Epoch 7/60\n",
            "781/781 [==============================] - 61s 79ms/step - loss: 1.3808 - accuracy: 0.5260 - val_loss: 1.7136 - val_accuracy: 0.4729\n",
            "Epoch 8/60\n",
            "781/781 [==============================] - 61s 78ms/step - loss: 1.3494 - accuracy: 0.5371 - val_loss: 1.6474 - val_accuracy: 0.4959\n",
            "Epoch 9/60\n",
            "781/781 [==============================] - 61s 79ms/step - loss: 1.3102 - accuracy: 0.5511 - val_loss: 1.6828 - val_accuracy: 0.4928\n",
            "Epoch 10/60\n",
            "781/781 [==============================] - 61s 78ms/step - loss: 1.2853 - accuracy: 0.5618 - val_loss: 1.6392 - val_accuracy: 0.5000\n",
            "Epoch 11/60\n",
            "781/781 [==============================] - 61s 78ms/step - loss: 1.2634 - accuracy: 0.5715 - val_loss: 1.5677 - val_accuracy: 0.5217\n",
            "Epoch 12/60\n",
            "781/781 [==============================] - 61s 79ms/step - loss: 1.2432 - accuracy: 0.5779 - val_loss: 1.5969 - val_accuracy: 0.5187\n",
            "Epoch 13/60\n",
            "781/781 [==============================] - 61s 78ms/step - loss: 1.2209 - accuracy: 0.5868 - val_loss: 1.5283 - val_accuracy: 0.5359\n",
            "Epoch 14/60\n",
            "781/781 [==============================] - 61s 79ms/step - loss: 1.2041 - accuracy: 0.5947 - val_loss: 1.5237 - val_accuracy: 0.5378\n",
            "Epoch 15/60\n",
            "781/781 [==============================] - 61s 78ms/step - loss: 1.1816 - accuracy: 0.6009 - val_loss: 1.4885 - val_accuracy: 0.5507\n",
            "Epoch 16/60\n",
            "781/781 [==============================] - 61s 78ms/step - loss: 1.1660 - accuracy: 0.6080 - val_loss: 1.5195 - val_accuracy: 0.5391\n",
            "Epoch 17/60\n",
            "781/781 [==============================] - 61s 78ms/step - loss: 1.1564 - accuracy: 0.6102 - val_loss: 1.4871 - val_accuracy: 0.5487\n",
            "Epoch 18/60\n",
            "781/781 [==============================] - 61s 78ms/step - loss: 1.1443 - accuracy: 0.6110 - val_loss: 1.4099 - val_accuracy: 0.5658\n",
            "Epoch 19/60\n",
            "781/781 [==============================] - 61s 79ms/step - loss: 1.1299 - accuracy: 0.6210 - val_loss: 1.3826 - val_accuracy: 0.5751\n",
            "Epoch 20/60\n",
            "781/781 [==============================] - 61s 78ms/step - loss: 1.1103 - accuracy: 0.6282 - val_loss: 1.4121 - val_accuracy: 0.5654\n",
            "Epoch 21/60\n",
            "781/781 [==============================] - 61s 79ms/step - loss: 1.0977 - accuracy: 0.6327 - val_loss: 1.4583 - val_accuracy: 0.5625\n",
            "Epoch 22/60\n",
            "781/781 [==============================] - 61s 78ms/step - loss: 1.0902 - accuracy: 0.6358 - val_loss: 1.4072 - val_accuracy: 0.5733\n",
            "Epoch 23/60\n",
            "781/781 [==============================] - 61s 79ms/step - loss: 1.0761 - accuracy: 0.6388 - val_loss: 1.3635 - val_accuracy: 0.5858\n",
            "Epoch 24/60\n",
            "781/781 [==============================] - 62s 79ms/step - loss: 1.0720 - accuracy: 0.6408 - val_loss: 1.3274 - val_accuracy: 0.5921\n",
            "Epoch 25/60\n",
            "781/781 [==============================] - 62s 79ms/step - loss: 1.0567 - accuracy: 0.6468 - val_loss: 1.3530 - val_accuracy: 0.5831\n",
            "Epoch 26/60\n",
            "781/781 [==============================] - 62s 79ms/step - loss: 1.0455 - accuracy: 0.6468 - val_loss: 1.2734 - val_accuracy: 0.6069\n",
            "Epoch 27/60\n",
            "781/781 [==============================] - 62s 79ms/step - loss: 1.0444 - accuracy: 0.6517 - val_loss: 1.3141 - val_accuracy: 0.5934\n",
            "Epoch 28/60\n",
            "781/781 [==============================] - 62s 80ms/step - loss: 1.0285 - accuracy: 0.6567 - val_loss: 1.2587 - val_accuracy: 0.6090\n",
            "Epoch 29/60\n",
            "781/781 [==============================] - 61s 78ms/step - loss: 1.0178 - accuracy: 0.6606 - val_loss: 1.3191 - val_accuracy: 0.6018\n",
            "Epoch 30/60\n",
            "781/781 [==============================] - 62s 79ms/step - loss: 1.0186 - accuracy: 0.6620 - val_loss: 1.2697 - val_accuracy: 0.6112\n",
            "Epoch 31/60\n",
            "781/781 [==============================] - 61s 78ms/step - loss: 1.0037 - accuracy: 0.6658 - val_loss: 1.2253 - val_accuracy: 0.6233\n",
            "Epoch 32/60\n",
            "781/781 [==============================] - 62s 79ms/step - loss: 0.9961 - accuracy: 0.6686 - val_loss: 1.2258 - val_accuracy: 0.6251\n",
            "Epoch 33/60\n",
            "781/781 [==============================] - 61s 78ms/step - loss: 0.9874 - accuracy: 0.6728 - val_loss: 1.2399 - val_accuracy: 0.6187\n",
            "Epoch 34/60\n",
            "781/781 [==============================] - 61s 78ms/step - loss: 0.9828 - accuracy: 0.6738 - val_loss: 1.2295 - val_accuracy: 0.6288\n",
            "Epoch 35/60\n",
            "781/781 [==============================] - 61s 78ms/step - loss: 0.9755 - accuracy: 0.6772 - val_loss: 1.2118 - val_accuracy: 0.6264\n",
            "Epoch 36/60\n",
            "781/781 [==============================] - 61s 78ms/step - loss: 0.9683 - accuracy: 0.6805 - val_loss: 1.2052 - val_accuracy: 0.6316\n",
            "Epoch 37/60\n",
            "781/781 [==============================] - 61s 78ms/step - loss: 0.9594 - accuracy: 0.6829 - val_loss: 1.1991 - val_accuracy: 0.6360\n",
            "Epoch 38/60\n",
            "781/781 [==============================] - 61s 78ms/step - loss: 0.9520 - accuracy: 0.6837 - val_loss: 1.1986 - val_accuracy: 0.6296\n",
            "Epoch 39/60\n",
            "781/781 [==============================] - 61s 78ms/step - loss: 0.9465 - accuracy: 0.6867 - val_loss: 1.1743 - val_accuracy: 0.6377\n",
            "Epoch 40/60\n",
            "781/781 [==============================] - 61s 78ms/step - loss: 0.9389 - accuracy: 0.6898 - val_loss: 1.1714 - val_accuracy: 0.6401\n",
            "Epoch 41/60\n",
            "781/781 [==============================] - 61s 78ms/step - loss: 0.9281 - accuracy: 0.6946 - val_loss: 1.1376 - val_accuracy: 0.6503\n",
            "Epoch 42/60\n",
            "781/781 [==============================] - 61s 78ms/step - loss: 0.9321 - accuracy: 0.6912 - val_loss: 1.1855 - val_accuracy: 0.6368\n",
            "Epoch 43/60\n",
            "781/781 [==============================] - 61s 78ms/step - loss: 0.9229 - accuracy: 0.6947 - val_loss: 1.1374 - val_accuracy: 0.6508\n",
            "Epoch 44/60\n",
            "781/781 [==============================] - 61s 78ms/step - loss: 0.9151 - accuracy: 0.6975 - val_loss: 1.1695 - val_accuracy: 0.6434\n",
            "Epoch 45/60\n",
            "781/781 [==============================] - 61s 78ms/step - loss: 0.9056 - accuracy: 0.7013 - val_loss: 1.1144 - val_accuracy: 0.6600\n",
            "Epoch 46/60\n",
            "781/781 [==============================] - 61s 78ms/step - loss: 0.8997 - accuracy: 0.7039 - val_loss: 1.0819 - val_accuracy: 0.6655\n",
            "Epoch 47/60\n",
            "781/781 [==============================] - 62s 79ms/step - loss: 0.9025 - accuracy: 0.7019 - val_loss: 1.1025 - val_accuracy: 0.6614\n",
            "Epoch 48/60\n",
            "781/781 [==============================] - 62s 79ms/step - loss: 0.8876 - accuracy: 0.7080 - val_loss: 1.0532 - val_accuracy: 0.6730\n",
            "Epoch 49/60\n",
            "781/781 [==============================] - 61s 79ms/step - loss: 0.8891 - accuracy: 0.7060 - val_loss: 1.0721 - val_accuracy: 0.6723\n",
            "Epoch 50/60\n",
            "781/781 [==============================] - 61s 78ms/step - loss: 0.8736 - accuracy: 0.7131 - val_loss: 1.0826 - val_accuracy: 0.6674\n",
            "Epoch 51/60\n",
            "781/781 [==============================] - 62s 79ms/step - loss: 0.8784 - accuracy: 0.7117 - val_loss: 1.1051 - val_accuracy: 0.6665\n",
            "Epoch 52/60\n",
            "781/781 [==============================] - 61s 78ms/step - loss: 0.8733 - accuracy: 0.7140 - val_loss: 1.1000 - val_accuracy: 0.6660\n",
            "Epoch 53/60\n",
            "781/781 [==============================] - 61s 79ms/step - loss: 0.8689 - accuracy: 0.7143 - val_loss: 1.0798 - val_accuracy: 0.6756\n",
            "Epoch 54/60\n",
            "781/781 [==============================] - 62s 79ms/step - loss: 0.8585 - accuracy: 0.7167 - val_loss: 1.0632 - val_accuracy: 0.6787\n",
            "Epoch 55/60\n",
            "781/781 [==============================] - 62s 79ms/step - loss: 0.8618 - accuracy: 0.7146 - val_loss: 1.0790 - val_accuracy: 0.6764\n",
            "Epoch 56/60\n",
            "781/781 [==============================] - 61s 78ms/step - loss: 0.8509 - accuracy: 0.7212 - val_loss: 1.0798 - val_accuracy: 0.6737\n",
            "Epoch 57/60\n",
            "781/781 [==============================] - 61s 78ms/step - loss: 0.8513 - accuracy: 0.7218 - val_loss: 1.0149 - val_accuracy: 0.6922\n",
            "Epoch 58/60\n",
            "781/781 [==============================] - 61s 78ms/step - loss: 0.8400 - accuracy: 0.7230 - val_loss: 1.0476 - val_accuracy: 0.6827\n",
            "Epoch 59/60\n",
            "781/781 [==============================] - 61s 78ms/step - loss: 0.8360 - accuracy: 0.7272 - val_loss: 0.9898 - val_accuracy: 0.6980\n",
            "Epoch 60/60\n",
            "781/781 [==============================] - 61s 78ms/step - loss: 0.8399 - accuracy: 0.7237 - val_loss: 0.9428 - val_accuracy: 0.7101\n"
          ],
          "name": "stdout"
        },
        {
          "output_type": "display_data",
          "data": {
            "text/html": [
              "<span style=\"color:#4527A0\"><h1 style=\"font-size:18px\">Trial complete</h1></span>"
            ],
            "text/plain": [
              "<IPython.core.display.HTML object>"
            ]
          },
          "metadata": {
            "tags": []
          }
        },
        {
          "output_type": "display_data",
          "data": {
            "text/html": [
              "<span style=\"color:#4527A0\"><h1 style=\"font-size:18px\">Trial summary</h1></span>"
            ],
            "text/plain": [
              "<IPython.core.display.HTML object>"
            ]
          },
          "metadata": {
            "tags": []
          }
        },
        {
          "output_type": "display_data",
          "data": {
            "text/html": [
              "<span style=\"color:cyan\"> |-Trial ID: 6dd77fd61c3b38209f30571ee5ca1d91</span>"
            ],
            "text/plain": [
              "<IPython.core.display.HTML object>"
            ]
          },
          "metadata": {
            "tags": []
          }
        },
        {
          "output_type": "display_data",
          "data": {
            "text/html": [
              "<span style=\"color:cyan\"> |-Score: 0.710099995136261</span>"
            ],
            "text/plain": [
              "<IPython.core.display.HTML object>"
            ]
          },
          "metadata": {
            "tags": []
          }
        },
        {
          "output_type": "display_data",
          "data": {
            "text/html": [
              "<span style=\"color:cyan\"> |-Best step: 0</span>"
            ],
            "text/plain": [
              "<IPython.core.display.HTML object>"
            ]
          },
          "metadata": {
            "tags": []
          }
        },
        {
          "output_type": "display_data",
          "data": {
            "text/html": [
              "<span style=\"color:#7E57C2\"><h2 style=\"font-size:16px\">Hyperparameters:</h2></span>"
            ],
            "text/plain": [
              "<IPython.core.display.HTML object>"
            ]
          },
          "metadata": {
            "tags": []
          }
        },
        {
          "output_type": "display_data",
          "data": {
            "text/html": [
              "<span style=\"color:cyan\"> |-dropout_rate: 0.02</span>"
            ],
            "text/plain": [
              "<IPython.core.display.HTML object>"
            ]
          },
          "metadata": {
            "tags": []
          }
        },
        {
          "output_type": "display_data",
          "data": {
            "text/html": [
              "<span style=\"color:blue\"> |-filters: 868</span>"
            ],
            "text/plain": [
              "<IPython.core.display.HTML object>"
            ]
          },
          "metadata": {
            "tags": []
          }
        },
        {
          "output_type": "stream",
          "text": [
            "Epoch 1/60\n",
            "781/781 [==============================] - 58s 75ms/step - loss: 2.1734 - accuracy: 0.2913 - val_loss: 1.7123 - val_accuracy: 0.4222\n",
            "Epoch 2/60\n",
            "781/781 [==============================] - 59s 76ms/step - loss: 1.8405 - accuracy: 0.3753 - val_loss: 1.6181 - val_accuracy: 0.4501\n",
            "Epoch 3/60\n",
            "781/781 [==============================] - 59s 76ms/step - loss: 1.6909 - accuracy: 0.4190 - val_loss: 1.6325 - val_accuracy: 0.4522\n",
            "Epoch 4/60\n",
            "781/781 [==============================] - 60s 77ms/step - loss: 1.6042 - accuracy: 0.4447 - val_loss: 1.6225 - val_accuracy: 0.4584\n",
            "Epoch 5/60\n",
            "781/781 [==============================] - 60s 77ms/step - loss: 1.5385 - accuracy: 0.4686 - val_loss: 1.5910 - val_accuracy: 0.4733\n",
            "Epoch 6/60\n",
            "781/781 [==============================] - 60s 77ms/step - loss: 1.4912 - accuracy: 0.4843 - val_loss: 1.5907 - val_accuracy: 0.4773\n",
            "Epoch 7/60\n",
            "781/781 [==============================] - 60s 77ms/step - loss: 1.4526 - accuracy: 0.4999 - val_loss: 1.6226 - val_accuracy: 0.4722\n",
            "Epoch 8/60\n",
            "781/781 [==============================] - 60s 77ms/step - loss: 1.4127 - accuracy: 0.5137 - val_loss: 1.6019 - val_accuracy: 0.4808\n",
            "Epoch 9/60\n",
            "781/781 [==============================] - 60s 77ms/step - loss: 1.3864 - accuracy: 0.5223 - val_loss: 1.6234 - val_accuracy: 0.4804\n",
            "Epoch 10/60\n",
            "781/781 [==============================] - 60s 76ms/step - loss: 1.3724 - accuracy: 0.5276 - val_loss: 1.5982 - val_accuracy: 0.4864\n",
            "Epoch 11/60\n",
            "781/781 [==============================] - 60s 77ms/step - loss: 1.3312 - accuracy: 0.5447 - val_loss: 1.5703 - val_accuracy: 0.4947\n",
            "Epoch 12/60\n",
            "781/781 [==============================] - 60s 77ms/step - loss: 1.3162 - accuracy: 0.5505 - val_loss: 1.6193 - val_accuracy: 0.4922\n",
            "Epoch 13/60\n",
            "781/781 [==============================] - 60s 77ms/step - loss: 1.2935 - accuracy: 0.5572 - val_loss: 1.5790 - val_accuracy: 0.5011\n",
            "Epoch 14/60\n",
            "781/781 [==============================] - 60s 77ms/step - loss: 1.2803 - accuracy: 0.5602 - val_loss: 1.5740 - val_accuracy: 0.5042\n",
            "Epoch 15/60\n",
            "781/781 [==============================] - 60s 76ms/step - loss: 1.2604 - accuracy: 0.5714 - val_loss: 1.5515 - val_accuracy: 0.5091\n",
            "Epoch 16/60\n",
            "781/781 [==============================] - 60s 76ms/step - loss: 1.2362 - accuracy: 0.5804 - val_loss: 1.5282 - val_accuracy: 0.5148\n",
            "Epoch 17/60\n",
            "781/781 [==============================] - 60s 77ms/step - loss: 1.2320 - accuracy: 0.5782 - val_loss: 1.5009 - val_accuracy: 0.5216\n",
            "Epoch 18/60\n",
            "781/781 [==============================] - 60s 77ms/step - loss: 1.2111 - accuracy: 0.5878 - val_loss: 1.4983 - val_accuracy: 0.5275\n",
            "Epoch 19/60\n",
            "781/781 [==============================] - 59s 76ms/step - loss: 1.2034 - accuracy: 0.5910 - val_loss: 1.4761 - val_accuracy: 0.5336\n",
            "Epoch 20/60\n",
            "781/781 [==============================] - 59s 76ms/step - loss: 1.1840 - accuracy: 0.5979 - val_loss: 1.4677 - val_accuracy: 0.5346\n",
            "Epoch 21/60\n",
            "781/781 [==============================] - 59s 75ms/step - loss: 1.1771 - accuracy: 0.5998 - val_loss: 1.4776 - val_accuracy: 0.5410\n",
            "Epoch 22/60\n",
            "781/781 [==============================] - 59s 75ms/step - loss: 1.1650 - accuracy: 0.6048 - val_loss: 1.4262 - val_accuracy: 0.5502\n",
            "Epoch 23/60\n",
            "781/781 [==============================] - 59s 76ms/step - loss: 1.1479 - accuracy: 0.6116 - val_loss: 1.4520 - val_accuracy: 0.5486\n",
            "Epoch 24/60\n",
            "781/781 [==============================] - 59s 76ms/step - loss: 1.1348 - accuracy: 0.6198 - val_loss: 1.3805 - val_accuracy: 0.5646\n",
            "Epoch 25/60\n",
            "781/781 [==============================] - 59s 76ms/step - loss: 1.1206 - accuracy: 0.6207 - val_loss: 1.3791 - val_accuracy: 0.5680\n",
            "Epoch 26/60\n",
            "781/781 [==============================] - 59s 76ms/step - loss: 1.1254 - accuracy: 0.6188 - val_loss: 1.3532 - val_accuracy: 0.5709\n",
            "Epoch 27/60\n",
            "781/781 [==============================] - 59s 76ms/step - loss: 1.1003 - accuracy: 0.6295 - val_loss: 1.3932 - val_accuracy: 0.5688\n",
            "Epoch 28/60\n",
            "781/781 [==============================] - 59s 75ms/step - loss: 1.1007 - accuracy: 0.6307 - val_loss: 1.3279 - val_accuracy: 0.5837\n",
            "Epoch 29/60\n",
            "781/781 [==============================] - 59s 75ms/step - loss: 1.0865 - accuracy: 0.6343 - val_loss: 1.3347 - val_accuracy: 0.5841\n",
            "Epoch 30/60\n",
            "781/781 [==============================] - 59s 75ms/step - loss: 1.0813 - accuracy: 0.6353 - val_loss: 1.3503 - val_accuracy: 0.5785\n",
            "Epoch 31/60\n",
            "781/781 [==============================] - 58s 75ms/step - loss: 1.0626 - accuracy: 0.6406 - val_loss: 1.2616 - val_accuracy: 0.6013\n",
            "Epoch 32/60\n",
            "781/781 [==============================] - 59s 76ms/step - loss: 1.0582 - accuracy: 0.6454 - val_loss: 1.3267 - val_accuracy: 0.5892\n",
            "Epoch 33/60\n",
            "781/781 [==============================] - 59s 75ms/step - loss: 1.0491 - accuracy: 0.6477 - val_loss: 1.2907 - val_accuracy: 0.5980\n",
            "Epoch 34/60\n",
            "781/781 [==============================] - 58s 75ms/step - loss: 1.0450 - accuracy: 0.6508 - val_loss: 1.2357 - val_accuracy: 0.6048\n",
            "Epoch 35/60\n",
            "781/781 [==============================] - 59s 75ms/step - loss: 1.0431 - accuracy: 0.6488 - val_loss: 1.2637 - val_accuracy: 0.6046\n",
            "Epoch 36/60\n",
            "781/781 [==============================] - 58s 75ms/step - loss: 1.0202 - accuracy: 0.6603 - val_loss: 1.2548 - val_accuracy: 0.6102\n",
            "Epoch 37/60\n",
            "781/781 [==============================] - 59s 76ms/step - loss: 1.0197 - accuracy: 0.6591 - val_loss: 1.2285 - val_accuracy: 0.6186\n",
            "Epoch 38/60\n",
            "781/781 [==============================] - 59s 75ms/step - loss: 1.0033 - accuracy: 0.6633 - val_loss: 1.2573 - val_accuracy: 0.6104\n",
            "Epoch 39/60\n",
            "781/781 [==============================] - 59s 75ms/step - loss: 1.0043 - accuracy: 0.6651 - val_loss: 1.2069 - val_accuracy: 0.6211\n",
            "Epoch 40/60\n",
            "781/781 [==============================] - 59s 75ms/step - loss: 0.9941 - accuracy: 0.6654 - val_loss: 1.2037 - val_accuracy: 0.6256\n",
            "Epoch 41/60\n",
            "781/781 [==============================] - 58s 75ms/step - loss: 0.9923 - accuracy: 0.6702 - val_loss: 1.1760 - val_accuracy: 0.6289\n",
            "Epoch 42/60\n",
            "781/781 [==============================] - 57s 73ms/step - loss: 0.9806 - accuracy: 0.6714 - val_loss: 1.1691 - val_accuracy: 0.6289\n",
            "Epoch 43/60\n",
            "781/781 [==============================] - 57s 73ms/step - loss: 0.9779 - accuracy: 0.6738 - val_loss: 1.1927 - val_accuracy: 0.6289\n",
            "Epoch 44/60\n",
            "781/781 [==============================] - 60s 77ms/step - loss: 0.9726 - accuracy: 0.6768 - val_loss: 1.1357 - val_accuracy: 0.6428\n",
            "Epoch 45/60\n",
            "781/781 [==============================] - 60s 77ms/step - loss: 0.9690 - accuracy: 0.6768 - val_loss: 1.1550 - val_accuracy: 0.6407\n",
            "Epoch 46/60\n",
            "781/781 [==============================] - 62s 79ms/step - loss: 0.9616 - accuracy: 0.6797 - val_loss: 1.1370 - val_accuracy: 0.6447\n",
            "Epoch 47/60\n",
            "781/781 [==============================] - 64s 82ms/step - loss: 0.9516 - accuracy: 0.6816 - val_loss: 1.1135 - val_accuracy: 0.6485\n",
            "Epoch 48/60\n",
            "781/781 [==============================] - 62s 80ms/step - loss: 0.9440 - accuracy: 0.6853 - val_loss: 1.1021 - val_accuracy: 0.6547\n",
            "Epoch 49/60\n",
            "781/781 [==============================] - 62s 79ms/step - loss: 0.9558 - accuracy: 0.6820 - val_loss: 1.1643 - val_accuracy: 0.6420\n",
            "Epoch 50/60\n",
            "781/781 [==============================] - 62s 80ms/step - loss: 0.9378 - accuracy: 0.6893 - val_loss: 1.1141 - val_accuracy: 0.6510\n",
            "Epoch 51/60\n",
            "781/781 [==============================] - 62s 79ms/step - loss: 0.9331 - accuracy: 0.6900 - val_loss: 1.0866 - val_accuracy: 0.6608\n",
            "Epoch 52/60\n",
            "781/781 [==============================] - 63s 80ms/step - loss: 0.9243 - accuracy: 0.6935 - val_loss: 1.1047 - val_accuracy: 0.6572\n",
            "Epoch 53/60\n",
            "781/781 [==============================] - 62s 80ms/step - loss: 0.9222 - accuracy: 0.6953 - val_loss: 1.0995 - val_accuracy: 0.6592\n",
            "Epoch 54/60\n",
            "781/781 [==============================] - 62s 80ms/step - loss: 0.9076 - accuracy: 0.6993 - val_loss: 1.1090 - val_accuracy: 0.6614\n",
            "Epoch 55/60\n",
            "781/781 [==============================] - 63s 80ms/step - loss: 0.9079 - accuracy: 0.7005 - val_loss: 1.1003 - val_accuracy: 0.6608\n",
            "Epoch 56/60\n",
            "781/781 [==============================] - 63s 81ms/step - loss: 0.9108 - accuracy: 0.6973 - val_loss: 1.0924 - val_accuracy: 0.6631\n",
            "Epoch 57/60\n",
            "781/781 [==============================] - 64s 82ms/step - loss: 0.8979 - accuracy: 0.7041 - val_loss: 1.0698 - val_accuracy: 0.6667\n",
            "Epoch 58/60\n",
            "781/781 [==============================] - 64s 82ms/step - loss: 0.8988 - accuracy: 0.7048 - val_loss: 1.0673 - val_accuracy: 0.6718\n",
            "Epoch 59/60\n",
            "781/781 [==============================] - 64s 82ms/step - loss: 0.8830 - accuracy: 0.7077 - val_loss: 1.0710 - val_accuracy: 0.6682\n",
            "Epoch 60/60\n",
            "781/781 [==============================] - 63s 81ms/step - loss: 0.8897 - accuracy: 0.7051 - val_loss: 1.0182 - val_accuracy: 0.6811\n"
          ],
          "name": "stdout"
        },
        {
          "output_type": "display_data",
          "data": {
            "text/html": [
              "<span style=\"color:#4527A0\"><h1 style=\"font-size:18px\">Trial complete</h1></span>"
            ],
            "text/plain": [
              "<IPython.core.display.HTML object>"
            ]
          },
          "metadata": {
            "tags": []
          }
        },
        {
          "output_type": "display_data",
          "data": {
            "text/html": [
              "<span style=\"color:#4527A0\"><h1 style=\"font-size:18px\">Trial summary</h1></span>"
            ],
            "text/plain": [
              "<IPython.core.display.HTML object>"
            ]
          },
          "metadata": {
            "tags": []
          }
        },
        {
          "output_type": "display_data",
          "data": {
            "text/html": [
              "<span style=\"color:cyan\"> |-Trial ID: def9830b918d5ee60fcd4efc2f62a175</span>"
            ],
            "text/plain": [
              "<IPython.core.display.HTML object>"
            ]
          },
          "metadata": {
            "tags": []
          }
        },
        {
          "output_type": "display_data",
          "data": {
            "text/html": [
              "<span style=\"color:cyan\"> |-Score: 0.6811000108718872</span>"
            ],
            "text/plain": [
              "<IPython.core.display.HTML object>"
            ]
          },
          "metadata": {
            "tags": []
          }
        },
        {
          "output_type": "display_data",
          "data": {
            "text/html": [
              "<span style=\"color:cyan\"> |-Best step: 0</span>"
            ],
            "text/plain": [
              "<IPython.core.display.HTML object>"
            ]
          },
          "metadata": {
            "tags": []
          }
        },
        {
          "output_type": "display_data",
          "data": {
            "text/html": [
              "<span style=\"color:#7E57C2\"><h2 style=\"font-size:16px\">Hyperparameters:</h2></span>"
            ],
            "text/plain": [
              "<IPython.core.display.HTML object>"
            ]
          },
          "metadata": {
            "tags": []
          }
        },
        {
          "output_type": "display_data",
          "data": {
            "text/html": [
              "<span style=\"color:cyan\"> |-dropout_rate: 0.01</span>"
            ],
            "text/plain": [
              "<IPython.core.display.HTML object>"
            ]
          },
          "metadata": {
            "tags": []
          }
        },
        {
          "output_type": "display_data",
          "data": {
            "text/html": [
              "<span style=\"color:blue\"> |-filters: 484</span>"
            ],
            "text/plain": [
              "<IPython.core.display.HTML object>"
            ]
          },
          "metadata": {
            "tags": []
          }
        },
        {
          "output_type": "stream",
          "text": [
            "Epoch 1/60\n",
            "781/781 [==============================] - 62s 79ms/step - loss: 2.2469 - accuracy: 0.2728 - val_loss: 1.7546 - val_accuracy: 0.3962\n",
            "Epoch 2/60\n",
            "781/781 [==============================] - 62s 79ms/step - loss: 1.9104 - accuracy: 0.3580 - val_loss: 1.7195 - val_accuracy: 0.4153\n",
            "Epoch 3/60\n",
            "781/781 [==============================] - 62s 79ms/step - loss: 1.7592 - accuracy: 0.3986 - val_loss: 1.7572 - val_accuracy: 0.4170\n",
            "Epoch 4/60\n",
            "781/781 [==============================] - 62s 79ms/step - loss: 1.6534 - accuracy: 0.4302 - val_loss: 1.7440 - val_accuracy: 0.4290\n",
            "Epoch 5/60\n",
            "781/781 [==============================] - 62s 79ms/step - loss: 1.5839 - accuracy: 0.4513 - val_loss: 1.7859 - val_accuracy: 0.4310\n",
            "Epoch 6/60\n",
            "781/781 [==============================] - 62s 79ms/step - loss: 1.5348 - accuracy: 0.4666 - val_loss: 1.8151 - val_accuracy: 0.4298\n",
            "Epoch 7/60\n",
            "781/781 [==============================] - 62s 79ms/step - loss: 1.4896 - accuracy: 0.4852 - val_loss: 1.7948 - val_accuracy: 0.4332\n",
            "Epoch 8/60\n",
            "781/781 [==============================] - 62s 80ms/step - loss: 1.4577 - accuracy: 0.4955 - val_loss: 1.7620 - val_accuracy: 0.4470\n",
            "Epoch 9/60\n",
            "781/781 [==============================] - 62s 80ms/step - loss: 1.4250 - accuracy: 0.5087 - val_loss: 1.8052 - val_accuracy: 0.4436\n",
            "Epoch 10/60\n",
            "781/781 [==============================] - 62s 79ms/step - loss: 1.4051 - accuracy: 0.5159 - val_loss: 1.7533 - val_accuracy: 0.4529\n",
            "Epoch 11/60\n",
            "781/781 [==============================] - 62s 79ms/step - loss: 1.3712 - accuracy: 0.5308 - val_loss: 1.7528 - val_accuracy: 0.4581\n",
            "Epoch 12/60\n",
            "781/781 [==============================] - 62s 80ms/step - loss: 1.3504 - accuracy: 0.5319 - val_loss: 1.7394 - val_accuracy: 0.4599\n",
            "Epoch 13/60\n",
            "781/781 [==============================] - 62s 80ms/step - loss: 1.3255 - accuracy: 0.5436 - val_loss: 1.7175 - val_accuracy: 0.4718\n",
            "Epoch 14/60\n",
            "781/781 [==============================] - 62s 79ms/step - loss: 1.3118 - accuracy: 0.5510 - val_loss: 1.6850 - val_accuracy: 0.4779\n",
            "Epoch 15/60\n",
            "781/781 [==============================] - 62s 80ms/step - loss: 1.2868 - accuracy: 0.5587 - val_loss: 1.6777 - val_accuracy: 0.4801\n",
            "Epoch 16/60\n",
            "781/781 [==============================] - 61s 78ms/step - loss: 1.2805 - accuracy: 0.5572 - val_loss: 1.6533 - val_accuracy: 0.4857\n",
            "Epoch 17/60\n",
            "781/781 [==============================] - 64s 83ms/step - loss: 1.2532 - accuracy: 0.5676 - val_loss: 1.5979 - val_accuracy: 0.4978\n",
            "Epoch 18/60\n",
            "781/781 [==============================] - 62s 80ms/step - loss: 1.2440 - accuracy: 0.5750 - val_loss: 1.5623 - val_accuracy: 0.5063\n",
            "Epoch 19/60\n",
            "781/781 [==============================] - 63s 80ms/step - loss: 1.2294 - accuracy: 0.5794 - val_loss: 1.5818 - val_accuracy: 0.5090\n",
            "Epoch 20/60\n",
            "781/781 [==============================] - 62s 80ms/step - loss: 1.2143 - accuracy: 0.5848 - val_loss: 1.5174 - val_accuracy: 0.5205\n",
            "Epoch 21/60\n",
            "781/781 [==============================] - 63s 80ms/step - loss: 1.1995 - accuracy: 0.5913 - val_loss: 1.5171 - val_accuracy: 0.5229\n",
            "Epoch 22/60\n",
            "781/781 [==============================] - 63s 80ms/step - loss: 1.1886 - accuracy: 0.5948 - val_loss: 1.5049 - val_accuracy: 0.5250\n",
            "Epoch 23/60\n",
            "781/781 [==============================] - 61s 79ms/step - loss: 1.1863 - accuracy: 0.5974 - val_loss: 1.4433 - val_accuracy: 0.5396\n",
            "Epoch 24/60\n",
            "781/781 [==============================] - 61s 78ms/step - loss: 1.1631 - accuracy: 0.6047 - val_loss: 1.4541 - val_accuracy: 0.5401\n",
            "Epoch 25/60\n",
            "781/781 [==============================] - 63s 80ms/step - loss: 1.1658 - accuracy: 0.6031 - val_loss: 1.4133 - val_accuracy: 0.5504\n",
            "Epoch 26/60\n",
            "781/781 [==============================] - 62s 80ms/step - loss: 1.1419 - accuracy: 0.6112 - val_loss: 1.4088 - val_accuracy: 0.5500\n",
            "Epoch 27/60\n",
            "781/781 [==============================] - 64s 82ms/step - loss: 1.1371 - accuracy: 0.6126 - val_loss: 1.3952 - val_accuracy: 0.5596\n",
            "Epoch 28/60\n",
            "781/781 [==============================] - 62s 79ms/step - loss: 1.1286 - accuracy: 0.6179 - val_loss: 1.3746 - val_accuracy: 0.5678\n",
            "Epoch 29/60\n",
            "781/781 [==============================] - 62s 80ms/step - loss: 1.1070 - accuracy: 0.6242 - val_loss: 1.3870 - val_accuracy: 0.5584\n",
            "Epoch 30/60\n",
            "781/781 [==============================] - 63s 80ms/step - loss: 1.1138 - accuracy: 0.6240 - val_loss: 1.3355 - val_accuracy: 0.5743\n",
            "Epoch 31/60\n",
            "781/781 [==============================] - 63s 81ms/step - loss: 1.0982 - accuracy: 0.6290 - val_loss: 1.3135 - val_accuracy: 0.5800\n",
            "Epoch 32/60\n",
            "781/781 [==============================] - 63s 81ms/step - loss: 1.0993 - accuracy: 0.6279 - val_loss: 1.2897 - val_accuracy: 0.5868\n",
            "Epoch 33/60\n",
            "781/781 [==============================] - 64s 81ms/step - loss: 1.0788 - accuracy: 0.6344 - val_loss: 1.3090 - val_accuracy: 0.5812\n",
            "Epoch 34/60\n",
            "781/781 [==============================] - 63s 80ms/step - loss: 1.0732 - accuracy: 0.6383 - val_loss: 1.3016 - val_accuracy: 0.5869\n",
            "Epoch 35/60\n",
            "781/781 [==============================] - 63s 80ms/step - loss: 1.0698 - accuracy: 0.6384 - val_loss: 1.2799 - val_accuracy: 0.5887\n",
            "Epoch 36/60\n",
            "781/781 [==============================] - 63s 81ms/step - loss: 1.0599 - accuracy: 0.6425 - val_loss: 1.2606 - val_accuracy: 0.5967\n",
            "Epoch 37/60\n",
            "781/781 [==============================] - 63s 81ms/step - loss: 1.0572 - accuracy: 0.6453 - val_loss: 1.2395 - val_accuracy: 0.5987\n",
            "Epoch 38/60\n",
            "781/781 [==============================] - 62s 80ms/step - loss: 1.0406 - accuracy: 0.6490 - val_loss: 1.2274 - val_accuracy: 0.6084\n",
            "Epoch 39/60\n",
            "781/781 [==============================] - 61s 78ms/step - loss: 1.0396 - accuracy: 0.6480 - val_loss: 1.2364 - val_accuracy: 0.6065\n",
            "Epoch 40/60\n",
            "781/781 [==============================] - 59s 75ms/step - loss: 1.0323 - accuracy: 0.6544 - val_loss: 1.2049 - val_accuracy: 0.6104\n",
            "Epoch 41/60\n",
            "781/781 [==============================] - 60s 77ms/step - loss: 1.0256 - accuracy: 0.6536 - val_loss: 1.2090 - val_accuracy: 0.6122\n",
            "Epoch 42/60\n",
            "781/781 [==============================] - 61s 78ms/step - loss: 1.0220 - accuracy: 0.6559 - val_loss: 1.2473 - val_accuracy: 0.6067\n",
            "Epoch 43/60\n",
            "781/781 [==============================] - 60s 77ms/step - loss: 1.0121 - accuracy: 0.6623 - val_loss: 1.1620 - val_accuracy: 0.6281\n",
            "Epoch 44/60\n",
            "781/781 [==============================] - 61s 78ms/step - loss: 1.0073 - accuracy: 0.6601 - val_loss: 1.1726 - val_accuracy: 0.6275\n",
            "Epoch 45/60\n",
            "781/781 [==============================] - 61s 78ms/step - loss: 1.0064 - accuracy: 0.6631 - val_loss: 1.1530 - val_accuracy: 0.6311\n",
            "Epoch 46/60\n",
            "781/781 [==============================] - 62s 80ms/step - loss: 0.9979 - accuracy: 0.6661 - val_loss: 1.1622 - val_accuracy: 0.6310\n",
            "Epoch 47/60\n",
            "781/781 [==============================] - 62s 79ms/step - loss: 0.9872 - accuracy: 0.6687 - val_loss: 1.1516 - val_accuracy: 0.6362\n",
            "Epoch 48/60\n",
            "781/781 [==============================] - 63s 80ms/step - loss: 0.9782 - accuracy: 0.6728 - val_loss: 1.1234 - val_accuracy: 0.6401\n",
            "Epoch 49/60\n",
            "781/781 [==============================] - 63s 81ms/step - loss: 0.9831 - accuracy: 0.6711 - val_loss: 1.1304 - val_accuracy: 0.6390\n",
            "Epoch 50/60\n",
            "781/781 [==============================] - 62s 79ms/step - loss: 0.9757 - accuracy: 0.6716 - val_loss: 1.1558 - val_accuracy: 0.6360\n",
            "Epoch 51/60\n",
            "781/781 [==============================] - 62s 80ms/step - loss: 0.9624 - accuracy: 0.6782 - val_loss: 1.1335 - val_accuracy: 0.6409\n",
            "Epoch 52/60\n",
            "781/781 [==============================] - 63s 80ms/step - loss: 0.9658 - accuracy: 0.6753 - val_loss: 1.1139 - val_accuracy: 0.6438\n",
            "Epoch 53/60\n",
            "781/781 [==============================] - 63s 80ms/step - loss: 0.9594 - accuracy: 0.6762 - val_loss: 1.0772 - val_accuracy: 0.6553\n",
            "Epoch 54/60\n",
            "781/781 [==============================] - 63s 80ms/step - loss: 0.9472 - accuracy: 0.6825 - val_loss: 1.1090 - val_accuracy: 0.6488\n",
            "Epoch 55/60\n",
            "781/781 [==============================] - 63s 80ms/step - loss: 0.9466 - accuracy: 0.6834 - val_loss: 1.0806 - val_accuracy: 0.6576\n",
            "Epoch 56/60\n",
            "781/781 [==============================] - 63s 81ms/step - loss: 0.9400 - accuracy: 0.6869 - val_loss: 1.0857 - val_accuracy: 0.6534\n",
            "Epoch 57/60\n",
            "781/781 [==============================] - 63s 81ms/step - loss: 0.9342 - accuracy: 0.6881 - val_loss: 1.0676 - val_accuracy: 0.6601\n",
            "Epoch 58/60\n",
            "781/781 [==============================] - 61s 79ms/step - loss: 0.9312 - accuracy: 0.6877 - val_loss: 1.1012 - val_accuracy: 0.6490\n",
            "Epoch 59/60\n",
            "781/781 [==============================] - 62s 79ms/step - loss: 0.9239 - accuracy: 0.6944 - val_loss: 1.0806 - val_accuracy: 0.6575\n",
            "Epoch 60/60\n",
            "781/781 [==============================] - 62s 80ms/step - loss: 0.9149 - accuracy: 0.6951 - val_loss: 1.0425 - val_accuracy: 0.6691\n"
          ],
          "name": "stdout"
        },
        {
          "output_type": "display_data",
          "data": {
            "text/html": [
              "<span style=\"color:#4527A0\"><h1 style=\"font-size:18px\">Trial complete</h1></span>"
            ],
            "text/plain": [
              "<IPython.core.display.HTML object>"
            ]
          },
          "metadata": {
            "tags": []
          }
        },
        {
          "output_type": "display_data",
          "data": {
            "text/html": [
              "<span style=\"color:#4527A0\"><h1 style=\"font-size:18px\">Trial summary</h1></span>"
            ],
            "text/plain": [
              "<IPython.core.display.HTML object>"
            ]
          },
          "metadata": {
            "tags": []
          }
        },
        {
          "output_type": "display_data",
          "data": {
            "text/html": [
              "<span style=\"color:cyan\"> |-Trial ID: b6f39583acdabd5220f10be9c414af60</span>"
            ],
            "text/plain": [
              "<IPython.core.display.HTML object>"
            ]
          },
          "metadata": {
            "tags": []
          }
        },
        {
          "output_type": "display_data",
          "data": {
            "text/html": [
              "<span style=\"color:cyan\"> |-Score: 0.6690999865531921</span>"
            ],
            "text/plain": [
              "<IPython.core.display.HTML object>"
            ]
          },
          "metadata": {
            "tags": []
          }
        },
        {
          "output_type": "display_data",
          "data": {
            "text/html": [
              "<span style=\"color:cyan\"> |-Best step: 0</span>"
            ],
            "text/plain": [
              "<IPython.core.display.HTML object>"
            ]
          },
          "metadata": {
            "tags": []
          }
        },
        {
          "output_type": "display_data",
          "data": {
            "text/html": [
              "<span style=\"color:#7E57C2\"><h2 style=\"font-size:16px\">Hyperparameters:</h2></span>"
            ],
            "text/plain": [
              "<IPython.core.display.HTML object>"
            ]
          },
          "metadata": {
            "tags": []
          }
        },
        {
          "output_type": "display_data",
          "data": {
            "text/html": [
              "<span style=\"color:cyan\"> |-dropout_rate: 0.03</span>"
            ],
            "text/plain": [
              "<IPython.core.display.HTML object>"
            ]
          },
          "metadata": {
            "tags": []
          }
        },
        {
          "output_type": "display_data",
          "data": {
            "text/html": [
              "<span style=\"color:blue\"> |-filters: 292</span>"
            ],
            "text/plain": [
              "<IPython.core.display.HTML object>"
            ]
          },
          "metadata": {
            "tags": []
          }
        },
        {
          "output_type": "stream",
          "text": [
            "Epoch 1/60\n",
            "781/781 [==============================] - 68s 87ms/step - loss: 2.0418 - accuracy: 0.3279 - val_loss: 1.6876 - val_accuracy: 0.4288\n",
            "Epoch 2/60\n",
            "781/781 [==============================] - 65s 83ms/step - loss: 1.7072 - accuracy: 0.4142 - val_loss: 1.6658 - val_accuracy: 0.4509\n",
            "Epoch 3/60\n",
            "781/781 [==============================] - 67s 86ms/step - loss: 1.5898 - accuracy: 0.4512 - val_loss: 1.6816 - val_accuracy: 0.4526\n",
            "Epoch 4/60\n",
            "781/781 [==============================] - 67s 86ms/step - loss: 1.5118 - accuracy: 0.4790 - val_loss: 1.6846 - val_accuracy: 0.4588\n",
            "Epoch 5/60\n",
            "781/781 [==============================] - 65s 83ms/step - loss: 1.4544 - accuracy: 0.5019 - val_loss: 1.6803 - val_accuracy: 0.4598\n",
            "Epoch 6/60\n",
            "781/781 [==============================] - 66s 84ms/step - loss: 1.4183 - accuracy: 0.5124 - val_loss: 1.7221 - val_accuracy: 0.4647\n",
            "Epoch 7/60\n",
            "781/781 [==============================] - 65s 84ms/step - loss: 1.3852 - accuracy: 0.5236 - val_loss: 1.6909 - val_accuracy: 0.4738\n",
            "Epoch 8/60\n",
            "781/781 [==============================] - 66s 84ms/step - loss: 1.3603 - accuracy: 0.5330 - val_loss: 1.6118 - val_accuracy: 0.4884\n",
            "Epoch 9/60\n",
            "781/781 [==============================] - 67s 85ms/step - loss: 1.3245 - accuracy: 0.5456 - val_loss: 1.6022 - val_accuracy: 0.4969\n",
            "Epoch 10/60\n",
            "781/781 [==============================] - 69s 88ms/step - loss: 1.2977 - accuracy: 0.5563 - val_loss: 1.6114 - val_accuracy: 0.4975\n",
            "Epoch 11/60\n",
            "781/781 [==============================] - 64s 82ms/step - loss: 1.2860 - accuracy: 0.5636 - val_loss: 1.6228 - val_accuracy: 0.4972\n",
            "Epoch 12/60\n",
            "781/781 [==============================] - 61s 78ms/step - loss: 1.2527 - accuracy: 0.5713 - val_loss: 1.5403 - val_accuracy: 0.5165\n",
            "Epoch 13/60\n",
            "781/781 [==============================] - 63s 80ms/step - loss: 1.2284 - accuracy: 0.5846 - val_loss: 1.5239 - val_accuracy: 0.5253\n",
            "Epoch 14/60\n",
            "781/781 [==============================] - 66s 84ms/step - loss: 1.2169 - accuracy: 0.5874 - val_loss: 1.5388 - val_accuracy: 0.5248\n",
            "Epoch 15/60\n",
            "781/781 [==============================] - 65s 83ms/step - loss: 1.1992 - accuracy: 0.5932 - val_loss: 1.5274 - val_accuracy: 0.5262\n",
            "Epoch 16/60\n",
            "781/781 [==============================] - 66s 84ms/step - loss: 1.1814 - accuracy: 0.5990 - val_loss: 1.4301 - val_accuracy: 0.5462\n",
            "Epoch 17/60\n",
            "781/781 [==============================] - 66s 85ms/step - loss: 1.1669 - accuracy: 0.6073 - val_loss: 1.4397 - val_accuracy: 0.5499\n",
            "Epoch 18/60\n",
            "781/781 [==============================] - 65s 84ms/step - loss: 1.1589 - accuracy: 0.6110 - val_loss: 1.4985 - val_accuracy: 0.5457\n",
            "Epoch 19/60\n",
            "781/781 [==============================] - 64s 82ms/step - loss: 1.1383 - accuracy: 0.6161 - val_loss: 1.5098 - val_accuracy: 0.5392\n",
            "Epoch 20/60\n",
            "781/781 [==============================] - 64s 81ms/step - loss: 1.1274 - accuracy: 0.6196 - val_loss: 1.3769 - val_accuracy: 0.5674\n",
            "Epoch 21/60\n",
            "781/781 [==============================] - 64s 82ms/step - loss: 1.1171 - accuracy: 0.6253 - val_loss: 1.3542 - val_accuracy: 0.5801\n",
            "Epoch 22/60\n",
            "781/781 [==============================] - 65s 84ms/step - loss: 1.0997 - accuracy: 0.6320 - val_loss: 1.3790 - val_accuracy: 0.5736\n",
            "Epoch 23/60\n",
            "781/781 [==============================] - 66s 84ms/step - loss: 1.0961 - accuracy: 0.6301 - val_loss: 1.3859 - val_accuracy: 0.5737\n",
            "Epoch 24/60\n",
            "781/781 [==============================] - 65s 84ms/step - loss: 1.0865 - accuracy: 0.6389 - val_loss: 1.3092 - val_accuracy: 0.5882\n",
            "Epoch 25/60\n",
            "781/781 [==============================] - 67s 86ms/step - loss: 1.0683 - accuracy: 0.6423 - val_loss: 1.3390 - val_accuracy: 0.5862\n",
            "Epoch 26/60\n",
            "781/781 [==============================] - 67s 86ms/step - loss: 1.0686 - accuracy: 0.6436 - val_loss: 1.3576 - val_accuracy: 0.5834\n",
            "Epoch 27/60\n",
            "781/781 [==============================] - 67s 86ms/step - loss: 1.0521 - accuracy: 0.6492 - val_loss: 1.3082 - val_accuracy: 0.5947\n",
            "Epoch 28/60\n",
            "781/781 [==============================] - 68s 87ms/step - loss: 1.0437 - accuracy: 0.6528 - val_loss: 1.2942 - val_accuracy: 0.5989\n",
            "Epoch 29/60\n",
            "781/781 [==============================] - 69s 88ms/step - loss: 1.0312 - accuracy: 0.6577 - val_loss: 1.3067 - val_accuracy: 0.5985\n",
            "Epoch 30/60\n",
            "781/781 [==============================] - 68s 87ms/step - loss: 1.0261 - accuracy: 0.6572 - val_loss: 1.2594 - val_accuracy: 0.6039\n",
            "Epoch 31/60\n",
            "781/781 [==============================] - 65s 83ms/step - loss: 1.0210 - accuracy: 0.6586 - val_loss: 1.2790 - val_accuracy: 0.6039\n",
            "Epoch 32/60\n",
            "781/781 [==============================] - 65s 83ms/step - loss: 1.0093 - accuracy: 0.6668 - val_loss: 1.2238 - val_accuracy: 0.6177\n",
            "Epoch 33/60\n",
            "781/781 [==============================] - 65s 83ms/step - loss: 0.9993 - accuracy: 0.6670 - val_loss: 1.2052 - val_accuracy: 0.6202\n",
            "Epoch 34/60\n",
            "781/781 [==============================] - 65s 83ms/step - loss: 1.0034 - accuracy: 0.6685 - val_loss: 1.1888 - val_accuracy: 0.6266\n",
            "Epoch 35/60\n",
            "781/781 [==============================] - 66s 84ms/step - loss: 0.9910 - accuracy: 0.6711 - val_loss: 1.1870 - val_accuracy: 0.6339\n",
            "Epoch 36/60\n",
            "781/781 [==============================] - 65s 84ms/step - loss: 0.9889 - accuracy: 0.6712 - val_loss: 1.1840 - val_accuracy: 0.6325\n",
            "Epoch 37/60\n",
            "781/781 [==============================] - 64s 81ms/step - loss: 0.9726 - accuracy: 0.6768 - val_loss: 1.2499 - val_accuracy: 0.6186\n",
            "Epoch 38/60\n",
            "781/781 [==============================] - 64s 82ms/step - loss: 0.9726 - accuracy: 0.6782 - val_loss: 1.2013 - val_accuracy: 0.6275\n",
            "Epoch 39/60\n",
            "781/781 [==============================] - 66s 84ms/step - loss: 0.9584 - accuracy: 0.6823 - val_loss: 1.1854 - val_accuracy: 0.6356\n",
            "Epoch 40/60\n",
            "781/781 [==============================] - 65s 84ms/step - loss: 0.9521 - accuracy: 0.6856 - val_loss: 1.1557 - val_accuracy: 0.6435\n",
            "Epoch 41/60\n",
            "781/781 [==============================] - 66s 85ms/step - loss: 0.9545 - accuracy: 0.6855 - val_loss: 1.1413 - val_accuracy: 0.6451\n",
            "Epoch 42/60\n",
            "781/781 [==============================] - 66s 85ms/step - loss: 0.9410 - accuracy: 0.6901 - val_loss: 1.1412 - val_accuracy: 0.6468\n",
            "Epoch 43/60\n",
            "781/781 [==============================] - 65s 83ms/step - loss: 0.9369 - accuracy: 0.6910 - val_loss: 1.1282 - val_accuracy: 0.6538\n",
            "Epoch 44/60\n",
            "781/781 [==============================] - 64s 82ms/step - loss: 0.9293 - accuracy: 0.6907 - val_loss: 1.1519 - val_accuracy: 0.6473\n",
            "Epoch 45/60\n",
            "781/781 [==============================] - 63s 81ms/step - loss: 0.9372 - accuracy: 0.6905 - val_loss: 1.1717 - val_accuracy: 0.6448\n",
            "Epoch 46/60\n",
            "781/781 [==============================] - 66s 84ms/step - loss: 0.9204 - accuracy: 0.6948 - val_loss: 1.0866 - val_accuracy: 0.6657\n",
            "Epoch 47/60\n",
            "781/781 [==============================] - 67s 86ms/step - loss: 0.9183 - accuracy: 0.6978 - val_loss: 1.1025 - val_accuracy: 0.6609\n",
            "Epoch 48/60\n",
            "781/781 [==============================] - 66s 85ms/step - loss: 0.9071 - accuracy: 0.7000 - val_loss: 1.1049 - val_accuracy: 0.6623\n",
            "Epoch 49/60\n",
            "781/781 [==============================] - 65s 83ms/step - loss: 0.9050 - accuracy: 0.7019 - val_loss: 1.1518 - val_accuracy: 0.6522\n",
            "Epoch 50/60\n",
            "781/781 [==============================] - 66s 84ms/step - loss: 0.8999 - accuracy: 0.7025 - val_loss: 1.1011 - val_accuracy: 0.6639\n",
            "Epoch 51/60\n",
            "781/781 [==============================] - 66s 85ms/step - loss: 0.8996 - accuracy: 0.7046 - val_loss: 1.1138 - val_accuracy: 0.6640\n",
            "Epoch 52/60\n",
            "781/781 [==============================] - 65s 84ms/step - loss: 0.8906 - accuracy: 0.7050 - val_loss: 1.0566 - val_accuracy: 0.6741\n",
            "Epoch 53/60\n",
            "781/781 [==============================] - 66s 84ms/step - loss: 0.8826 - accuracy: 0.7084 - val_loss: 1.0770 - val_accuracy: 0.6704\n",
            "Epoch 54/60\n",
            "781/781 [==============================] - 66s 85ms/step - loss: 0.8856 - accuracy: 0.7069 - val_loss: 1.0191 - val_accuracy: 0.6850\n",
            "Epoch 55/60\n",
            "781/781 [==============================] - 66s 85ms/step - loss: 0.8664 - accuracy: 0.7159 - val_loss: 1.0580 - val_accuracy: 0.6771\n",
            "Epoch 56/60\n",
            "781/781 [==============================] - 66s 84ms/step - loss: 0.8698 - accuracy: 0.7121 - val_loss: 1.0709 - val_accuracy: 0.6720\n",
            "Epoch 57/60\n",
            "781/781 [==============================] - 63s 81ms/step - loss: 0.8649 - accuracy: 0.7151 - val_loss: 1.0549 - val_accuracy: 0.6814\n",
            "Epoch 58/60\n",
            "781/781 [==============================] - 56s 72ms/step - loss: 0.8586 - accuracy: 0.7187 - val_loss: 1.0148 - val_accuracy: 0.6887\n",
            "Epoch 59/60\n",
            "781/781 [==============================] - 60s 77ms/step - loss: 0.8545 - accuracy: 0.7185 - val_loss: 1.0385 - val_accuracy: 0.6847\n",
            "Epoch 60/60\n",
            "781/781 [==============================] - 63s 81ms/step - loss: 0.8553 - accuracy: 0.7213 - val_loss: 1.0366 - val_accuracy: 0.6884\n"
          ],
          "name": "stdout"
        },
        {
          "output_type": "display_data",
          "data": {
            "text/html": [
              "<span style=\"color:#4527A0\"><h1 style=\"font-size:18px\">Trial complete</h1></span>"
            ],
            "text/plain": [
              "<IPython.core.display.HTML object>"
            ]
          },
          "metadata": {
            "tags": []
          }
        },
        {
          "output_type": "display_data",
          "data": {
            "text/html": [
              "<span style=\"color:#4527A0\"><h1 style=\"font-size:18px\">Trial summary</h1></span>"
            ],
            "text/plain": [
              "<IPython.core.display.HTML object>"
            ]
          },
          "metadata": {
            "tags": []
          }
        },
        {
          "output_type": "display_data",
          "data": {
            "text/html": [
              "<span style=\"color:cyan\"> |-Trial ID: 924e76fca7ee24bddef6582d8ad42a58</span>"
            ],
            "text/plain": [
              "<IPython.core.display.HTML object>"
            ]
          },
          "metadata": {
            "tags": []
          }
        },
        {
          "output_type": "display_data",
          "data": {
            "text/html": [
              "<span style=\"color:cyan\"> |-Score: 0.6887000203132629</span>"
            ],
            "text/plain": [
              "<IPython.core.display.HTML object>"
            ]
          },
          "metadata": {
            "tags": []
          }
        },
        {
          "output_type": "display_data",
          "data": {
            "text/html": [
              "<span style=\"color:cyan\"> |-Best step: 0</span>"
            ],
            "text/plain": [
              "<IPython.core.display.HTML object>"
            ]
          },
          "metadata": {
            "tags": []
          }
        },
        {
          "output_type": "display_data",
          "data": {
            "text/html": [
              "<span style=\"color:#7E57C2\"><h2 style=\"font-size:16px\">Hyperparameters:</h2></span>"
            ],
            "text/plain": [
              "<IPython.core.display.HTML object>"
            ]
          },
          "metadata": {
            "tags": []
          }
        },
        {
          "output_type": "display_data",
          "data": {
            "text/html": [
              "<span style=\"color:cyan\"> |-dropout_rate: 0.03</span>"
            ],
            "text/plain": [
              "<IPython.core.display.HTML object>"
            ]
          },
          "metadata": {
            "tags": []
          }
        },
        {
          "output_type": "display_data",
          "data": {
            "text/html": [
              "<span style=\"color:blue\"> |-filters: 1060</span>"
            ],
            "text/plain": [
              "<IPython.core.display.HTML object>"
            ]
          },
          "metadata": {
            "tags": []
          }
        },
        {
          "output_type": "stream",
          "text": [
            "Epoch 1/60\n",
            "781/781 [==============================] - 56s 72ms/step - loss: 2.1711 - accuracy: 0.2877 - val_loss: 1.6947 - val_accuracy: 0.4189\n",
            "Epoch 2/60\n",
            "781/781 [==============================] - 61s 79ms/step - loss: 1.8475 - accuracy: 0.3709 - val_loss: 1.6355 - val_accuracy: 0.4441\n",
            "Epoch 3/60\n",
            "781/781 [==============================] - 62s 80ms/step - loss: 1.7120 - accuracy: 0.4085 - val_loss: 1.5926 - val_accuracy: 0.4533\n",
            "Epoch 4/60\n",
            "781/781 [==============================] - 62s 80ms/step - loss: 1.6256 - accuracy: 0.4338 - val_loss: 1.6056 - val_accuracy: 0.4610\n",
            "Epoch 5/60\n",
            "781/781 [==============================] - 62s 79ms/step - loss: 1.5540 - accuracy: 0.4582 - val_loss: 1.5851 - val_accuracy: 0.4687\n",
            "Epoch 6/60\n",
            "781/781 [==============================] - 61s 78ms/step - loss: 1.5131 - accuracy: 0.4747 - val_loss: 1.6067 - val_accuracy: 0.4671\n",
            "Epoch 7/60\n",
            "781/781 [==============================] - 62s 79ms/step - loss: 1.4686 - accuracy: 0.4907 - val_loss: 1.6134 - val_accuracy: 0.4727\n",
            "Epoch 8/60\n",
            "781/781 [==============================] - 62s 80ms/step - loss: 1.4312 - accuracy: 0.5035 - val_loss: 1.6217 - val_accuracy: 0.4763\n",
            "Epoch 9/60\n",
            "781/781 [==============================] - 56s 72ms/step - loss: 1.4081 - accuracy: 0.5103 - val_loss: 1.6395 - val_accuracy: 0.4768\n",
            "Epoch 10/60\n",
            "781/781 [==============================] - 55s 70ms/step - loss: 1.3733 - accuracy: 0.5238 - val_loss: 1.5941 - val_accuracy: 0.4859\n",
            "Epoch 11/60\n",
            "781/781 [==============================] - 62s 79ms/step - loss: 1.3584 - accuracy: 0.5321 - val_loss: 1.6287 - val_accuracy: 0.4831\n",
            "Epoch 12/60\n",
            "781/781 [==============================] - 61s 79ms/step - loss: 1.3329 - accuracy: 0.5418 - val_loss: 1.6346 - val_accuracy: 0.4871\n",
            "Epoch 13/60\n",
            "781/781 [==============================] - 63s 80ms/step - loss: 1.3095 - accuracy: 0.5493 - val_loss: 1.6454 - val_accuracy: 0.4861\n",
            "Epoch 14/60\n",
            "781/781 [==============================] - 63s 81ms/step - loss: 1.2976 - accuracy: 0.5564 - val_loss: 1.5698 - val_accuracy: 0.4995\n",
            "Epoch 15/60\n",
            "781/781 [==============================] - 63s 81ms/step - loss: 1.2773 - accuracy: 0.5633 - val_loss: 1.5927 - val_accuracy: 0.4990\n",
            "Epoch 16/60\n",
            "781/781 [==============================] - 64s 82ms/step - loss: 1.2498 - accuracy: 0.5703 - val_loss: 1.5306 - val_accuracy: 0.5152\n",
            "Epoch 17/60\n",
            "781/781 [==============================] - 64s 82ms/step - loss: 1.2407 - accuracy: 0.5748 - val_loss: 1.5238 - val_accuracy: 0.5157\n",
            "Epoch 18/60\n",
            "781/781 [==============================] - 63s 81ms/step - loss: 1.2257 - accuracy: 0.5834 - val_loss: 1.4695 - val_accuracy: 0.5291\n",
            "Epoch 19/60\n",
            "781/781 [==============================] - 63s 81ms/step - loss: 1.2073 - accuracy: 0.5882 - val_loss: 1.5165 - val_accuracy: 0.5242\n",
            "Epoch 20/60\n",
            "781/781 [==============================] - 62s 79ms/step - loss: 1.1957 - accuracy: 0.5927 - val_loss: 1.5417 - val_accuracy: 0.5248\n",
            "Epoch 21/60\n",
            "781/781 [==============================] - 63s 80ms/step - loss: 1.1751 - accuracy: 0.5988 - val_loss: 1.4801 - val_accuracy: 0.5354\n",
            "Epoch 22/60\n",
            "781/781 [==============================] - 64s 81ms/step - loss: 1.1737 - accuracy: 0.6023 - val_loss: 1.4399 - val_accuracy: 0.5438\n",
            "Epoch 23/60\n",
            "781/781 [==============================] - 61s 79ms/step - loss: 1.1680 - accuracy: 0.6039 - val_loss: 1.4630 - val_accuracy: 0.5384\n",
            "Epoch 24/60\n",
            "781/781 [==============================] - 62s 80ms/step - loss: 1.1502 - accuracy: 0.6092 - val_loss: 1.4444 - val_accuracy: 0.5464\n",
            "Epoch 25/60\n",
            "781/781 [==============================] - 64s 82ms/step - loss: 1.1399 - accuracy: 0.6130 - val_loss: 1.5073 - val_accuracy: 0.5404\n",
            "Epoch 26/60\n",
            "781/781 [==============================] - 64s 82ms/step - loss: 1.1309 - accuracy: 0.6146 - val_loss: 1.4378 - val_accuracy: 0.5532\n",
            "Epoch 27/60\n",
            "781/781 [==============================] - 64s 81ms/step - loss: 1.1095 - accuracy: 0.6237 - val_loss: 1.4139 - val_accuracy: 0.5585\n",
            "Epoch 28/60\n",
            "781/781 [==============================] - 65s 83ms/step - loss: 1.1066 - accuracy: 0.6248 - val_loss: 1.3561 - val_accuracy: 0.5719\n",
            "Epoch 29/60\n",
            "781/781 [==============================] - 64s 82ms/step - loss: 1.1007 - accuracy: 0.6268 - val_loss: 1.3840 - val_accuracy: 0.5661\n",
            "Epoch 30/60\n",
            "781/781 [==============================] - 64s 82ms/step - loss: 1.0871 - accuracy: 0.6339 - val_loss: 1.3321 - val_accuracy: 0.5798\n",
            "Epoch 31/60\n",
            "781/781 [==============================] - 63s 80ms/step - loss: 1.0858 - accuracy: 0.6328 - val_loss: 1.3150 - val_accuracy: 0.5872\n",
            "Epoch 32/60\n",
            "781/781 [==============================] - 63s 80ms/step - loss: 1.0749 - accuracy: 0.6378 - val_loss: 1.3647 - val_accuracy: 0.5742\n",
            "Epoch 33/60\n",
            "781/781 [==============================] - 63s 81ms/step - loss: 1.0621 - accuracy: 0.6420 - val_loss: 1.2938 - val_accuracy: 0.5925\n",
            "Epoch 34/60\n",
            "781/781 [==============================] - 64s 81ms/step - loss: 1.0580 - accuracy: 0.6422 - val_loss: 1.3242 - val_accuracy: 0.5889\n",
            "Epoch 35/60\n",
            "781/781 [==============================] - 64s 81ms/step - loss: 1.0483 - accuracy: 0.6480 - val_loss: 1.3479 - val_accuracy: 0.5880\n",
            "Epoch 36/60\n",
            "781/781 [==============================] - 64s 82ms/step - loss: 1.0427 - accuracy: 0.6500 - val_loss: 1.3069 - val_accuracy: 0.5981\n",
            "Epoch 37/60\n",
            "781/781 [==============================] - 63s 81ms/step - loss: 1.0296 - accuracy: 0.6529 - val_loss: 1.3032 - val_accuracy: 0.5991\n",
            "Epoch 38/60\n",
            "781/781 [==============================] - 64s 82ms/step - loss: 1.0325 - accuracy: 0.6518 - val_loss: 1.2695 - val_accuracy: 0.6054\n",
            "Epoch 39/60\n",
            "781/781 [==============================] - 63s 81ms/step - loss: 1.0227 - accuracy: 0.6563 - val_loss: 1.1981 - val_accuracy: 0.6212\n",
            "Epoch 40/60\n",
            "781/781 [==============================] - 64s 81ms/step - loss: 1.0104 - accuracy: 0.6625 - val_loss: 1.2429 - val_accuracy: 0.6134\n",
            "Epoch 41/60\n",
            "781/781 [==============================] - 63s 80ms/step - loss: 1.0039 - accuracy: 0.6639 - val_loss: 1.2220 - val_accuracy: 0.6178\n",
            "Epoch 42/60\n",
            "781/781 [==============================] - 62s 80ms/step - loss: 0.9953 - accuracy: 0.6661 - val_loss: 1.2737 - val_accuracy: 0.6087\n",
            "Epoch 43/60\n",
            "781/781 [==============================] - 61s 79ms/step - loss: 0.9930 - accuracy: 0.6659 - val_loss: 1.1756 - val_accuracy: 0.6279\n",
            "Epoch 44/60\n",
            "781/781 [==============================] - 62s 80ms/step - loss: 0.9863 - accuracy: 0.6691 - val_loss: 1.2222 - val_accuracy: 0.6198\n",
            "Epoch 45/60\n",
            "781/781 [==============================] - 61s 79ms/step - loss: 0.9803 - accuracy: 0.6716 - val_loss: 1.1926 - val_accuracy: 0.6274\n",
            "Epoch 46/60\n",
            "720/781 [==========================>...] - ETA: 4s - loss: 0.9774 - accuracy: 0.6726\b\b\b\b\b\b\b\b\b\b\b\b\b\b\b\b\b\b\b\b\b\b\b\b\b\b\b\b\b\b\b\b\b\b\b\b\b\b\b\b\b\b\b\b\b\b\b\b\b\b\b\b\b\b\b\b\b\b\b\b\b\b\b\b\b\b\b\b\b\b\b\b\b\b\b\b\b\b\b\b\b\b\b\b"
          ],
          "name": "stdout"
        }
      ]
    },
    {
      "cell_type": "code",
      "metadata": {
        "id": "fDuK13SCvNJ1",
        "colab_type": "code",
        "colab": {}
      },
      "source": [
        "# Show a summary of the search\n",
        "tuner.results_summary()\n",
        "\n",
        "# Retrieve the best model.\n",
        "best_model = tuner.get_best_models(num_models=1)[0]\n",
        "\n",
        "# Evaluate the best model.\n",
        "loss, accuracy = best_model.evaluate(x_test, y_test)"
      ],
      "execution_count": 0,
      "outputs": []
    },
    {
      "cell_type": "code",
      "metadata": {
        "id": "4o27hnXgveCF",
        "colab_type": "code",
        "colab": {}
      },
      "source": [
        "best_mode.save('/content/drive/My Drive/Colab Notebooks/mgu/hyper/best_model.h5')"
      ],
      "execution_count": 0,
      "outputs": []
    },
    {
      "cell_type": "markdown",
      "metadata": {
        "id": "S3lVbTPmw4l-",
        "colab_type": "text"
      },
      "source": [
        "## Testing"
      ]
    },
    {
      "cell_type": "code",
      "metadata": {
        "id": "BxpGJyyjw4ER",
        "colab_type": "code",
        "colab": {}
      },
      "source": [
        "scores = model.evaluate(x_test, y_test, batch_size=128, verbose=1)\n",
        "print('\\nTest result: %.3f loss: %.3f' % (scores[1]*100,scores[0]))"
      ],
      "execution_count": 0,
      "outputs": []
    }
  ]
}